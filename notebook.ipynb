{
 "cells": [
  {
   "cell_type": "code",
   "execution_count": 1,
   "id": "02f62e86",
   "metadata": {},
   "outputs": [],
   "source": [
    "import cutlass\n",
    "import cutlass.cute as cute\n",
    "from categories import *\n",
    "from test_utils import *\n",
    "from layout_utils import *"
   ]
  },
  {
   "cell_type": "markdown",
   "id": "6691d879",
   "metadata": {},
   "source": [
    "# Layout Categories"
   ]
  },
  {
   "cell_type": "markdown",
   "id": "b7f92790",
   "metadata": {},
   "source": [
    "## Tuple morphisms"
   ]
  },
  {
   "cell_type": "markdown",
   "id": "8dda5370",
   "metadata": {},
   "source": [
    "A tuple morphism $f:S \\to T$ is encoded as an object of the class Tuple_morphism. For example:"
   ]
  },
  {
   "cell_type": "code",
   "execution_count": 27,
   "id": "6382f998",
   "metadata": {},
   "outputs": [
    {
     "name": "stdout",
     "output_type": "stream",
     "text": [
      "f = (256, 256, 512, 512):(256, 2, 512, 4, 512):(1, 0, 5, 3)\n"
     ]
    }
   ],
   "source": [
    "f = Tuple_morphism(domain   = (256,256,512,512),\n",
    "                   codomain = (256,2,512,4,512),\n",
    "                   map      = (1,0,5,3))\n",
    "print(\"f =\",f)"
   ]
  },
  {
   "cell_type": "markdown",
   "id": "fd59aa3f",
   "metadata": {},
   "source": [
    "If $f$ is a tuple morphism, then we can compute the associated flat layout $L_f$:"
   ]
  },
  {
   "cell_type": "code",
   "execution_count": 28,
   "id": "528acfe7",
   "metadata": {},
   "outputs": [
    {
     "name": "stdout",
     "output_type": "stream",
     "text": [
      "L_f =  (256,256,512,512):(1,0,1048576,512)\n"
     ]
    }
   ],
   "source": [
    "@cute.jit\n",
    "def example():\n",
    "    f = Tuple_morphism(domain   = (256,256,512,512),\n",
    "                       codomain = (256,2,512,4,512),\n",
    "                       map      = (1,0,5,3))\n",
    "    L_f = compute_flat_layout(f)\n",
    "    print(\"L_f = \",L_f)\n",
    "example()"
   ]
  },
  {
   "cell_type": "markdown",
   "id": "0f9f690f",
   "metadata": {},
   "source": [
    "If $L$ is a flat layout, we can check if $L$ is tractable, and if so, produce a tuple morphism $f$ with $L_f = L$."
   ]
  },
  {
   "cell_type": "code",
   "execution_count": 29,
   "id": "b82ab67a",
   "metadata": {},
   "outputs": [
    {
     "name": "stdout",
     "output_type": "stream",
     "text": [
      "L   = (2,2,2):(8,2,512)\n",
      "L_f = (2,2,2):(8,2,512)\n"
     ]
    }
   ],
   "source": [
    "@cute.jit\n",
    "def example():\n",
    "    L = cute.make_layout((2,2,2),stride = (8,2,512))\n",
    "    f = compute_Tuple_morphism(L)\n",
    "    print(f\"{'L':<4}= {L}\")\n",
    "    print(f\"{'L_f':<4}= {compute_flat_layout(f)}\")\n",
    "example()"
   ]
  },
  {
   "cell_type": "markdown",
   "id": "e5196e98",
   "metadata": {},
   "source": [
    "## Operations on Tuple morphisms"
   ]
  },
  {
   "cell_type": "markdown",
   "id": "7b6cb80e",
   "metadata": {},
   "source": [
    "### Composition"
   ]
  },
  {
   "cell_type": "markdown",
   "id": "0fcb363d",
   "metadata": {},
   "source": [
    "If $f:S \\to T$ and $g:T \\to U$ are tuple morphisms, then we can compose $f$ and $g$ to form the tuple morphism $g \\circ f: S \\to U$:"
   ]
  },
  {
   "cell_type": "code",
   "execution_count": 32,
   "id": "5dbb92cd",
   "metadata": {},
   "outputs": [
    {
     "name": "stdout",
     "output_type": "stream",
     "text": [
      "g o f = (2, 2):(10, 10, 2, 2):(3, 4)\n"
     ]
    }
   ],
   "source": [
    "f = Tuple_morphism((2,2),(10,2,10,2),(2,4))\n",
    "g = Tuple_morphism((10,2,10,2),(10,10,2,2),(1,3,2,4))\n",
    "composite = f.compose(g)\n",
    "composite.name = \"g o f\"\n",
    "print(\"g o f =\",composite)"
   ]
  },
  {
   "cell_type": "markdown",
   "id": "b3e1aea0",
   "metadata": {},
   "source": [
    "Composition of tuple morphisms is compatible with composition of layouts, in that"
   ]
  },
  {
   "cell_type": "markdown",
   "id": "5dfa93d3",
   "metadata": {},
   "source": [
    "$L_{g \\circ f} = L_g \\circ L_f$:"
   ]
  },
  {
   "cell_type": "code",
   "execution_count": 9,
   "id": "eb181bbe",
   "metadata": {},
   "outputs": [
    {
     "name": "stdout",
     "output_type": "stream",
     "text": [
      "L_{g o f} = (8,8,8,2):(8,1,0,64)\n",
      "L_g o L_f = (8,8,8,2):(8,1,0,64)\n"
     ]
    }
   ],
   "source": [
    "@cute.jit\n",
    "def example():\n",
    "    f = Tuple_morphism((8,8,8,2),(8,2,8,4,8),(3,1,5,2))\n",
    "    g = Tuple_morphism((8,2,8,4,8),(8,8,2,2),(1,3,2,0,0))\n",
    "    composite = f.compose(g)\n",
    "    layout_composite = compute_flat_layout(composite)\n",
    "    composite_layout = cute.composition(compute_flat_layout(g),compute_flat_layout(f))\n",
    "    print(f\"{'L_{g o f}':<10}= {layout_composite}\")\n",
    "    print(f\"{'L_g o L_f':<10}= {composite_layout}\")\n",
    "example()"
   ]
  },
  {
   "cell_type": "markdown",
   "id": "f737179c",
   "metadata": {},
   "source": [
    "### Sort"
   ]
  },
  {
   "cell_type": "markdown",
   "id": "b19cf348",
   "metadata": {},
   "source": [
    "We can sort tuple morphisms:"
   ]
  },
  {
   "cell_type": "code",
   "execution_count": 37,
   "id": "cde7bcf1",
   "metadata": {},
   "outputs": [
    {
     "name": "stdout",
     "output_type": "stream",
     "text": [
      "f       = (16, 8, 8, 32, 256):(2, 2, 8, 16, 8, 4, 32):(4, 3, 5, 7, 0)\n",
      "sort(f) = (256, 8, 16, 8, 32):(2, 2, 8, 16, 8, 4, 32):(0, 3, 4, 5, 7)\n"
     ]
    }
   ],
   "source": [
    "f = Tuple_morphism((16,8,8,32,256),(2,2,8,16,8,4,32),(4,3,5,7,0),name = \"f\")\n",
    "f_sorted = f.sort()\n",
    "print(f\"{'f':<7} = {f}\")\n",
    "print(f\"{'sort(f)':<7} = {f_sorted}\")"
   ]
  },
  {
   "cell_type": "markdown",
   "id": "8a299b31",
   "metadata": {},
   "source": [
    "### Coalesce"
   ]
  },
  {
   "cell_type": "markdown",
   "id": "a256672f",
   "metadata": {},
   "source": [
    "We can coalesce tuple morphisms:"
   ]
  },
  {
   "cell_type": "code",
   "execution_count": 38,
   "id": "878c6f3a",
   "metadata": {},
   "outputs": [
    {
     "name": "stdout",
     "output_type": "stream",
     "text": [
      "f           = (2, 3, 2, 3, 10):(4, 2, 3, 3, 2, 3, 10):(2, 3, 5, 6, 7)\n",
      "coalesce(f) = (6, 60):(4, 6, 3, 60):(2, 4)\n"
     ]
    }
   ],
   "source": [
    "f = Tuple_morphism((2,3,2,3,10),(4,2,3,3,2,3,10),(2,3,5,6,7))\n",
    "f_coalesced = f.coalesce()\n",
    "print(f\"{'f':<11} = {f}\")\n",
    "print(f\"{'coalesce(f)':<11} = {f_coalesced}\")"
   ]
  },
  {
   "cell_type": "markdown",
   "id": "f5987181",
   "metadata": {},
   "source": [
    "This operation is compatible with the coalesce operation on layouts, in that $L_{\\text{coalesce}(f)} = \\text{coalesce}(L_f)$."
   ]
  },
  {
   "cell_type": "code",
   "execution_count": 39,
   "id": "9a57bc49",
   "metadata": {},
   "outputs": [
    {
     "name": "stdout",
     "output_type": "stream",
     "text": [
      "L_coalesce(f) = (4,3,3,25):(4,48,16,1440)\n",
      "coalesce(L_f) = (4,3,3,25):(4,48,16,1440)\n"
     ]
    }
   ],
   "source": [
    "@cute.jit\n",
    "def example():\n",
    "    f             = Tuple_morphism((2,2,3,3,5,5),(4,2,2,3,3,10,5,5),(2,3,5,4,7,8),name = \"f\")\n",
    "    f_coalesced   = f.coalesce()\n",
    "    L_f           = compute_flat_layout(f)\n",
    "    L_f_coalesced = compute_flat_layout(f_coalesced)\n",
    "    print(f\"{'L_coalesce(f)':<12} = {L_f_coalesced}\")\n",
    "    print(f\"{'coalesce(L_f)':<12} = {cute.coalesce(L_f)}\")\n",
    "example()"
   ]
  },
  {
   "cell_type": "markdown",
   "id": "9f391c19",
   "metadata": {},
   "source": [
    "### Concatenate"
   ]
  },
  {
   "cell_type": "markdown",
   "id": "c2fe5187",
   "metadata": {},
   "source": [
    "We can concatenate tuple morphisms $f$ and $g$ with the same codomain and disjoint images."
   ]
  },
  {
   "cell_type": "code",
   "execution_count": 45,
   "id": "00e14db7",
   "metadata": {},
   "outputs": [
    {
     "name": "stdout",
     "output_type": "stream",
     "text": [
      "f          =(10, 10):(5, 10, 5, 10, 5, 10):(6, 4)\n",
      "g          =(5, 5, 5):(5, 10, 5, 10, 5, 10):(3, 1, 0)\n",
      "concat(f,g)=(10, 10, 5, 5, 5):(5, 10, 5, 10, 5, 10):(6, 4, 3, 1, 0)\n"
     ]
    }
   ],
   "source": [
    "f = Tuple_morphism((10,10),(5,10,5,10,5,10),(6,4))\n",
    "g = Tuple_morphism((5,5,5),(5,10,5,10,5,10),(3,1,0))\n",
    "concatenated_morphism = f.concat(g)\n",
    "print(f\"{'f':<11}={f}\")\n",
    "print(f\"{'g':<11}={g}\")\n",
    "print(f\"{'concat(f,g)'}={concatenated_morphism}\")"
   ]
  },
  {
   "cell_type": "markdown",
   "id": "a381bec4",
   "metadata": {},
   "source": [
    "### Complement"
   ]
  },
  {
   "cell_type": "markdown",
   "id": "01356e04",
   "metadata": {},
   "source": [
    "We can form the complement $f^*$ of a tuple morphism $f$:"
   ]
  },
  {
   "cell_type": "code",
   "execution_count": 49,
   "id": "80434c15",
   "metadata": {},
   "outputs": [
    {
     "name": "stdout",
     "output_type": "stream",
     "text": [
      "f            =(5, 5):(2, 5, 4, 5):(2, 4)\n",
      "complement(f)=(2, 4):(2, 5, 4, 5):(1, 3)\n"
     ]
    }
   ],
   "source": [
    "f = Tuple_morphism((5,5),(2,5,4,5),(2,4))\n",
    "f_complement = f.complement()\n",
    "print(f\"{'f':<13}={f}\")\n",
    "print(f\"{'complement(f)'}={f_complement}\")\n"
   ]
  }
 ],
 "metadata": {
  "kernelspec": {
   "display_name": "py3_3.12.0",
   "language": "python",
   "name": "python3"
  },
  "language_info": {
   "codemirror_mode": {
    "name": "ipython",
    "version": 3
   },
   "file_extension": ".py",
   "mimetype": "text/x-python",
   "name": "python",
   "nbconvert_exporter": "python",
   "pygments_lexer": "ipython3",
   "version": "3.12.0"
  }
 },
 "nbformat": 4,
 "nbformat_minor": 5
}
