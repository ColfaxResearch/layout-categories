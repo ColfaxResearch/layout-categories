{
 "cells": [
  {
   "cell_type": "code",
   "execution_count": null,
   "id": "02f62e86",
   "metadata": {},
   "outputs": [],
   "source": [
    "import cutlass\n",
    "import cutlass.cute as cute\n",
    "\n",
    "from categories import *\n",
    "from test_utils import *\n",
    "from layout_utils import *\n"
   ]
  },
  {
   "cell_type": "markdown",
   "id": "6691d879",
   "metadata": {},
   "source": [
    "# Layout Categories"
   ]
  },
  {
   "cell_type": "markdown",
   "id": "b7f92790",
   "metadata": {},
   "source": [
    "## Tuple morphisms"
   ]
  },
  {
   "cell_type": "markdown",
   "id": "8dda5370",
   "metadata": {},
   "source": [
    "A tuple morphism $f:S \\to T$ is encoded as an object of the class Tuple_morphism. For example:"
   ]
  },
  {
   "cell_type": "code",
   "execution_count": 149,
   "id": "6382f998",
   "metadata": {},
   "outputs": [
    {
     "name": "stdout",
     "output_type": "stream",
     "text": [
      "f = (256, 256, 512, 512):(256, 2, 512, 4, 512):(1, 0, 5, 3)\n",
      "g = (9, 5, 2, 1, 4):(2, 4):(0, 0, 1, 0, 2)\n"
     ]
    }
   ],
   "source": [
    "f = Tuple_morphism(domain   = (256,256,512,512),\n",
    "                   codomain = (256,2,512,4,512),\n",
    "                   map      = (1,0,5,3))\n",
    "print(\"f =\",f)\n",
    "\n",
    "g = random_Tuple_morphism()\n",
    "print(\"g =\",g)"
   ]
  },
  {
   "cell_type": "markdown",
   "id": "fd59aa3f",
   "metadata": {},
   "source": [
    "If $f$ is a tuple morphism, then we can compute the associated flat layout $L_f$:"
   ]
  },
  {
   "cell_type": "code",
   "execution_count": 150,
   "id": "528acfe7",
   "metadata": {},
   "outputs": [
    {
     "name": "stdout",
     "output_type": "stream",
     "text": [
      "L_f =  (256,256,512,512):(1,0,1048576,512)\n"
     ]
    }
   ],
   "source": [
    "@cute.jit\n",
    "def example():\n",
    "    f = Tuple_morphism(domain   = (256,256,512,512),\n",
    "                       codomain = (256,2,512,4,512),\n",
    "                       map      = (1,0,5,3))\n",
    "    L_f = compute_flat_layout(f)\n",
    "    print(\"L_f = \",L_f)\n",
    "example()"
   ]
  },
  {
   "cell_type": "markdown",
   "id": "0f9f690f",
   "metadata": {},
   "source": [
    "If $L$ is a flat layout, we can check if $L$ is tractable, and if so, produce a tuple morphism $f$ with $L_f = L$."
   ]
  },
  {
   "cell_type": "code",
   "execution_count": 151,
   "id": "b82ab67a",
   "metadata": {},
   "outputs": [
    {
     "name": "stdout",
     "output_type": "stream",
     "text": [
      "f   = (2, 2, 2):(2, 2, 2, 2, 32, 2):(4, 2, 6)\n",
      "L   = (2,2,2):(8,2,512)\n",
      "L_f = (2,2,2):(8,2,512)\n"
     ]
    }
   ],
   "source": [
    "@cute.jit\n",
    "def example():\n",
    "    L = cute.make_layout((2,2,2),stride = (8,2,512))\n",
    "    f = compute_Tuple_morphism(L)\n",
    "    print(f\"{'f':<4}= {f}\")\n",
    "    print(f\"{'L':<4}= {L}\")\n",
    "    print(f\"{'L_f':<4}= {compute_flat_layout(f)}\")\n",
    "example()"
   ]
  },
  {
   "cell_type": "markdown",
   "id": "e5196e98",
   "metadata": {},
   "source": [
    "## Operations on tuple morphisms"
   ]
  },
  {
   "cell_type": "markdown",
   "id": "7b6cb80e",
   "metadata": {},
   "source": [
    "### Composition"
   ]
  },
  {
   "cell_type": "markdown",
   "id": "0fcb363d",
   "metadata": {},
   "source": [
    "If $f:S \\to T$ and $g:T \\to U$ are tuple morphisms, then we can compose $f$ and $g$ to form the tuple morphism $g \\circ f: S \\to U$:"
   ]
  },
  {
   "cell_type": "code",
   "execution_count": 152,
   "id": "5dbb92cd",
   "metadata": {},
   "outputs": [
    {
     "name": "stdout",
     "output_type": "stream",
     "text": [
      "g o f = (2, 2):(10, 10, 2, 2):(3, 4)\n"
     ]
    }
   ],
   "source": [
    "f = Tuple_morphism((2,2),(10,2,10,2),(2,4))\n",
    "g = Tuple_morphism((10,2,10,2),(10,10,2,2),(1,3,2,4))\n",
    "composite = f.compose(g)\n",
    "composite.name = \"g o f\"\n",
    "print(\"g o f =\",composite)"
   ]
  },
  {
   "cell_type": "markdown",
   "id": "b3e1aea0",
   "metadata": {},
   "source": [
    "Composition of tuple morphisms is compatible with composition of layouts, in that"
   ]
  },
  {
   "cell_type": "markdown",
   "id": "5dfa93d3",
   "metadata": {},
   "source": [
    "$L_{g \\circ f} = L_g \\circ L_f$:"
   ]
  },
  {
   "cell_type": "code",
   "execution_count": 154,
   "id": "eb181bbe",
   "metadata": {},
   "outputs": [
    {
     "name": "stdout",
     "output_type": "stream",
     "text": [
      "L_{g o f} = (8,8,8,2):(8,1,0,64)\n",
      "L_g o L_f = (8,8,8,2):(8,1,0,64)\n"
     ]
    }
   ],
   "source": [
    "@cute.jit\n",
    "def example():\n",
    "    f = Tuple_morphism((8,8,8,2),(8,2,8,4,8),(3,1,5,2))\n",
    "    g = Tuple_morphism((8,2,8,4,8),(8,8,2,2),(1,3,2,0,0))\n",
    "    composite = f.compose(g)\n",
    "    layout_composite = compute_flat_layout(composite)\n",
    "    composite_layout = cute.composition(compute_flat_layout(g),compute_flat_layout(f))\n",
    "    print(f\"{'L_{g o f}':<10}= {layout_composite}\")\n",
    "    print(f\"{'L_g o L_f':<10}= {composite_layout}\")\n",
    "example()"
   ]
  },
  {
   "cell_type": "markdown",
   "id": "f737179c",
   "metadata": {},
   "source": [
    "### Sort"
   ]
  },
  {
   "cell_type": "markdown",
   "id": "b19cf348",
   "metadata": {},
   "source": [
    "We can sort tuple morphisms:"
   ]
  },
  {
   "cell_type": "code",
   "execution_count": 155,
   "id": "cde7bcf1",
   "metadata": {},
   "outputs": [
    {
     "name": "stdout",
     "output_type": "stream",
     "text": [
      "f       = (16, 8, 8, 32, 256):(2, 2, 8, 16, 8, 4, 32):(4, 3, 5, 7, 0)\n",
      "sort(f) = (256, 8, 16, 8, 32):(2, 2, 8, 16, 8, 4, 32):(0, 3, 4, 5, 7)\n"
     ]
    }
   ],
   "source": [
    "f = Tuple_morphism((16,8,8,32,256),(2,2,8,16,8,4,32),(4,3,5,7,0),name = \"f\")\n",
    "f_sorted = f.sort()\n",
    "print(f\"{'f':<7} = {f}\")\n",
    "print(f\"{'sort(f)':<7} = {f_sorted}\")"
   ]
  },
  {
   "cell_type": "markdown",
   "id": "8a299b31",
   "metadata": {},
   "source": [
    "### Coalesce"
   ]
  },
  {
   "cell_type": "markdown",
   "id": "a256672f",
   "metadata": {},
   "source": [
    "We can coalesce tuple morphisms:"
   ]
  },
  {
   "cell_type": "code",
   "execution_count": 156,
   "id": "878c6f3a",
   "metadata": {},
   "outputs": [
    {
     "name": "stdout",
     "output_type": "stream",
     "text": [
      "f           = (2, 3, 2, 3, 10):(4, 2, 3, 3, 2, 3, 10):(2, 3, 5, 6, 7)\n",
      "coalesce(f) = (6, 60):(4, 6, 3, 60):(2, 4)\n"
     ]
    }
   ],
   "source": [
    "f = Tuple_morphism((2,3,2,3,10),(4,2,3,3,2,3,10),(2,3,5,6,7))\n",
    "f_coalesced = f.coalesce()\n",
    "print(f\"{'f':<11} = {f}\")\n",
    "print(f\"{'coalesce(f)':<11} = {f_coalesced}\")"
   ]
  },
  {
   "cell_type": "markdown",
   "id": "f5987181",
   "metadata": {},
   "source": [
    "This operation is compatible with the coalesce operation on layouts, in that $L_{\\text{coalesce}(f)} = \\text{coalesce}(L_f)$."
   ]
  },
  {
   "cell_type": "code",
   "execution_count": 157,
   "id": "9a57bc49",
   "metadata": {},
   "outputs": [
    {
     "name": "stdout",
     "output_type": "stream",
     "text": [
      "L_coalesce(f) = (4,3,3,25):(4,48,16,1440)\n",
      "coalesce(L_f) = (4,3,3,25):(4,48,16,1440)\n"
     ]
    }
   ],
   "source": [
    "@cute.jit\n",
    "def example():\n",
    "    f             = Tuple_morphism((2,2,3,3,5,5),(4,2,2,3,3,10,5,5),(2,3,5,4,7,8),name = \"f\")\n",
    "    f_coalesced   = f.coalesce()\n",
    "    L_f           = compute_flat_layout(f)\n",
    "    L_f_coalesced = compute_flat_layout(f_coalesced)\n",
    "    print(f\"{'L_coalesce(f)':<12} = {L_f_coalesced}\")\n",
    "    print(f\"{'coalesce(L_f)':<12} = {cute.coalesce(L_f)}\")\n",
    "example()"
   ]
  },
  {
   "cell_type": "markdown",
   "id": "9f391c19",
   "metadata": {},
   "source": [
    "### Concatenate"
   ]
  },
  {
   "cell_type": "markdown",
   "id": "c2fe5187",
   "metadata": {},
   "source": [
    "We can concatenate tuple morphisms $f$ and $g$ with the same codomain and disjoint images."
   ]
  },
  {
   "cell_type": "code",
   "execution_count": 158,
   "id": "00e14db7",
   "metadata": {},
   "outputs": [
    {
     "name": "stdout",
     "output_type": "stream",
     "text": [
      "f          =(10, 10):(5, 10, 5, 10, 5, 10):(6, 4)\n",
      "g          =(5, 5, 5):(5, 10, 5, 10, 5, 10):(3, 1, 0)\n",
      "concat(f,g)=(10, 10, 5, 5, 5):(5, 10, 5, 10, 5, 10):(6, 4, 3, 1, 0)\n"
     ]
    }
   ],
   "source": [
    "f = Tuple_morphism((10,10),(5,10,5,10,5,10),(6,4))\n",
    "g = Tuple_morphism((5,5,5),(5,10,5,10,5,10),(3,1,0))\n",
    "concatenated_morphism = f.concat(g)\n",
    "print(f\"{'f':<11}={f}\")\n",
    "print(f\"{'g':<11}={g}\")\n",
    "print(f\"{'concat(f,g)'}={concatenated_morphism}\")"
   ]
  },
  {
   "cell_type": "markdown",
   "id": "a381bec4",
   "metadata": {},
   "source": [
    "### Complement"
   ]
  },
  {
   "cell_type": "markdown",
   "id": "01356e04",
   "metadata": {},
   "source": [
    "We can form the complement $f^*$ of a tuple morphism $f$:"
   ]
  },
  {
   "cell_type": "code",
   "execution_count": 159,
   "id": "80434c15",
   "metadata": {},
   "outputs": [
    {
     "name": "stdout",
     "output_type": "stream",
     "text": [
      "f            =(5, 5):(2, 5, 4, 5):(2, 4)\n",
      "complement(f)=(2, 4):(2, 5, 4, 5):(1, 3)\n"
     ]
    }
   ],
   "source": [
    "f = Tuple_morphism((5,5),(2,5,4,5),(2,4))\n",
    "f_complement = f.complement()\n",
    "print(f\"{'f':<13}={f}\")\n",
    "print(f\"{'complement(f)'}={f_complement}\")\n"
   ]
  },
  {
   "cell_type": "markdown",
   "id": "7aed0fed",
   "metadata": {},
   "source": [
    "### Restrict"
   ]
  },
  {
   "cell_type": "markdown",
   "id": "ccc98dfc",
   "metadata": {},
   "source": [
    "If $f:S \\to T$ is a tuple morphism, then we can restrict $f$ to any subtuple of $T$:"
   ]
  },
  {
   "cell_type": "code",
   "execution_count": 160,
   "id": "97bea6c7",
   "metadata": {},
   "outputs": [
    {
     "name": "stdout",
     "output_type": "stream",
     "text": [
      "(128, 128, 512):(4, 512, 128, 512, 128, 3):(3, 5, 2)\n",
      "(512, 3):(4, 512, 128, 512, 128, 3):(2, 6)\n",
      "(512,):(4, 512, 128, 512, 128, 3):(4,)\n",
      "():(4, 512, 128, 512, 128, 3):()\n"
     ]
    }
   ],
   "source": [
    "f = Tuple_morphism((128,128,512,512,3),(4,512,128,512,128,3),(3,5,2,4,6))\n",
    "print(f.restrict((1,2,3)))\n",
    "print(f.restrict((3,5)))\n",
    "print(f.restrict((4,)))\n",
    "print(f.restrict(()))"
   ]
  },
  {
   "cell_type": "markdown",
   "id": "d0e06481",
   "metadata": {},
   "source": [
    "### Factorize"
   ]
  },
  {
   "cell_type": "markdown",
   "id": "955e4360",
   "metadata": {},
   "source": [
    "If $f:S \\to T$ is a tuple morphism, then we can factor $f$ through any subtuple of $T$ which contains the image of $f$:"
   ]
  },
  {
   "cell_type": "code",
   "execution_count": 161,
   "id": "285333a8",
   "metadata": {},
   "outputs": [
    {
     "name": "stdout",
     "output_type": "stream",
     "text": [
      "(4, 4, 16):(4, 16, 4, 8):(3, 0, 2)\n",
      "(4, 4, 16):(16, 4):(2, 0, 1)\n"
     ]
    }
   ],
   "source": [
    "f = Tuple_morphism((4,4,16),(4,16,4,8,16),(3,0,2))\n",
    "print(f.factorize((1,2,3,4)))\n",
    "print(f.factorize((2,3)))"
   ]
  },
  {
   "cell_type": "markdown",
   "id": "8e5b029d",
   "metadata": {},
   "source": [
    "## Nested tuples"
   ]
  },
  {
   "cell_type": "markdown",
   "id": "957359a9",
   "metadata": {},
   "source": [
    "A nested tuple $S$ is either an integer, or a tuple of nested tuples. For example:"
   ]
  },
  {
   "cell_type": "code",
   "execution_count": 162,
   "id": "f7bda169",
   "metadata": {},
   "outputs": [
    {
     "name": "stdout",
     "output_type": "stream",
     "text": [
      "S_1 = 64\n",
      "S_2 = (8,8,32)\n",
      "S_3 = (((8)),(2,(2,2)))\n",
      "S_4 = (((),(5)),((),()))\n",
      "S_5 = (((((4),(9),(6),(8))),8))\n"
     ]
    }
   ],
   "source": [
    "S_1 = NestedTuple(64)\n",
    "S_2 = NestedTuple((8,8,32))\n",
    "S_3 = NestedTuple((((8,),),(2,(2,2))))\n",
    "S_4 = NestedTuple((((),(5,)),((()),())))\n",
    "S_5 = random_NestedTuple()\n",
    "print(\"S_1 =\",S_1)\n",
    "print(\"S_2 =\",S_2)\n",
    "print(\"S_3 =\",S_3)\n",
    "print(\"S_4 =\",S_4)\n",
    "print(\"S_5 =\",S_5)"
   ]
  },
  {
   "cell_type": "code",
   "execution_count": 184,
   "id": "71d64f54",
   "metadata": {},
   "outputs": [
    {
     "name": "stdout",
     "output_type": "stream",
     "text": [
      "\n",
      "====================================\n",
      "Nest_morphism :\n",
      "------------------------------------\n",
      "Domain     = ()\n",
      "Codomain   = ((2,5,6),((3,8,7,1,1)))\n",
      "Map        = ()\n",
      "====================================\n",
      "\n"
     ]
    }
   ],
   "source": [
    "f = random_Nest_morphism()\n",
    "print(f)"
   ]
  },
  {
   "cell_type": "markdown",
   "id": "9a679479",
   "metadata": {},
   "source": [
    "Every nested tuple S has a length, a rank and a size. For example:"
   ]
  },
  {
   "cell_type": "code",
   "execution_count": 64,
   "id": "ab89e5f6",
   "metadata": {},
   "outputs": [
    {
     "name": "stdout",
     "output_type": "stream",
     "text": [
      "S          = ((16),((())),((2,4,(8,2))),(2,(2)))\n",
      "length(S)  = 7\n",
      "rank(S)    = 4\n",
      "size(S)    = 8192\n"
     ]
    }
   ],
   "source": [
    "S = NestedTuple(((16,),(((),),),((2,4,(8,2)),),(2,(2,))))\n",
    "print(f\"{'S':<10} = {S}\")\n",
    "print(f\"{'length(S)':<10} = {S.length()}\")\n",
    "print(f\"{'rank(S)':<10} = {S.rank()}\")\n",
    "print(f\"{'size(S)':<10} = {S.size()}\")\n",
    "\n"
   ]
  },
  {
   "cell_type": "markdown",
   "id": "4464d41d",
   "metadata": {},
   "source": [
    "Nested tuples have entries and modes. For example:"
   ]
  },
  {
   "cell_type": "code",
   "execution_count": 65,
   "id": "b670b46c",
   "metadata": {},
   "outputs": [
    {
     "name": "stdout",
     "output_type": "stream",
     "text": [
      "entry_1(S) = 16\n",
      "entry_2(S) = 2\n",
      "entry_3(S) = 4\n",
      "entry_4(S) = 8\n",
      "entry_5(S) = 2\n",
      "entry_6(S) = 2\n",
      "entry_7(S) = 2\n",
      "mode_1(S)  = (16)\n",
      "mode_2(S)  = ((()))\n",
      "mode_3(S)  = ((2,4,(8,2)))\n",
      "mode_4(S)  = (2,(2))\n"
     ]
    }
   ],
   "source": [
    "S = NestedTuple(((16,),(((),),),((2,4,(8,2)),),(2,(2,))))\n",
    "\n",
    "for i in range(1,S.length()+1):\n",
    "    print(f\"{'entry_'+str(i)+'(S)':<10} = {S.entry(i)}\")\n",
    "\n",
    "for i in range(1,S.rank()+1):\n",
    "    print(f\"{'mode_'+str(i)+'(S)':<10} = {S.mode(i)}\")"
   ]
  },
  {
   "cell_type": "markdown",
   "id": "5164250e",
   "metadata": {},
   "source": [
    "We can substitute the values of a nested tuple with any other list of values. For example: "
   ]
  },
  {
   "cell_type": "code",
   "execution_count": 66,
   "id": "e13ed6b5",
   "metadata": {},
   "outputs": [
    {
     "name": "stdout",
     "output_type": "stream",
     "text": [
      "((10),((())),((10,2,(2,5))),(5,(5)))\n"
     ]
    }
   ],
   "source": [
    "S = NestedTuple(((16,),(((),),),((2,4,(8,2)),),(2,(2,))))\n",
    "values = (10,10,2,2,5,5,5)\n",
    "print(S.sub(values))"
   ]
  },
  {
   "cell_type": "markdown",
   "id": "3827a22d",
   "metadata": {},
   "source": [
    "As a special case of this construction, the profile of a nested tuple is"
   ]
  },
  {
   "cell_type": "code",
   "execution_count": 67,
   "id": "67744779",
   "metadata": {},
   "outputs": [
    {
     "name": "stdout",
     "output_type": "stream",
     "text": [
      "((0),((())),((0,0,(0,0))),(0,(0)))\n"
     ]
    }
   ],
   "source": [
    "S = NestedTuple(((16,),(((),),),((2,4,(8,2)),),(2,(2,))))\n",
    "print(S.profile())"
   ]
  },
  {
   "cell_type": "markdown",
   "id": "a0e7daaf",
   "metadata": {},
   "source": [
    "## Nested tuple morphisms"
   ]
  },
  {
   "cell_type": "markdown",
   "id": "9d3aacd9",
   "metadata": {},
   "source": [
    "A nested tuple morphism $f:S \\to T$ is encoded as an object of the class Nest_morphism. For example:"
   ]
  },
  {
   "cell_type": "code",
   "execution_count": 139,
   "id": "46fcd41d",
   "metadata": {},
   "outputs": [
    {
     "name": "stdout",
     "output_type": "stream",
     "text": [
      "\n",
      "===========================================\n",
      "Nest_morphism :\n",
      "-------------------------------------------\n",
      "Domain     = ((2,(2,2)),(((3))),((),1024))\n",
      "Codomain   = ((1024,(2)),(2,(2)),(3,((3))))\n",
      "Map        = (4, 2, 0, 6, 1)\n",
      "===========================================\n",
      "\n",
      "\n",
      "============================================\n",
      "Nest_morphism :\n",
      "--------------------------------------------\n",
      "Domain     = (((9,((6,3)),((5,5)))),5,(3,5))\n",
      "Codomain   = ((1,4,(5,5),9),(5,6))\n",
      "Map        = (0, 7, 0, 3, 6, 0, 0, 0)\n",
      "============================================\n",
      "\n"
     ]
    }
   ],
   "source": [
    "S = NestedTuple(((2,(2,2)),(((3,),),),((),1024)))\n",
    "T = NestedTuple(((1024,(2,)),(2,(2,)),(3,((3,),)))) \n",
    "map = (4,2,0,6,1)\n",
    "f = Nest_morphism(S,T,map)\n",
    "print(f)\n",
    "\n",
    "g = random_Nest_morphism()\n",
    "print(g)"
   ]
  },
  {
   "cell_type": "markdown",
   "id": "12cde904",
   "metadata": {},
   "source": [
    "If $f$ is a nested tuple morphism, then we can compute the associated layout $L_f$:"
   ]
  },
  {
   "cell_type": "code",
   "execution_count": 142,
   "id": "fa10e3bf",
   "metadata": {},
   "outputs": [
    {
     "name": "stdout",
     "output_type": "stream",
     "text": [
      "L_f =  (((8,8),(16,16)),(32,32)):(((1,256),(0,2048)),(0,8))\n"
     ]
    }
   ],
   "source": [
    "@cute.jit\n",
    "def example():\n",
    "    f = Nest_morphism(domain   = NestedTuple( (((8,8),(16,16)), (32,32))),\n",
    "                       codomain = NestedTuple( (((8,),(32,)),((8,),(16,)))),\n",
    "                       map      = (1,3,0,4,0,2) )\n",
    "    L_f = compute_layout(f)\n",
    "    print(\"L_f = \",L_f)\n",
    "example()"
   ]
  },
  {
   "cell_type": "markdown",
   "id": "d46c2803",
   "metadata": {},
   "source": [
    "If $L$ is a layout, we can check if $L$ is tractable, and if so, produce a nested tuple morphism $f$ with $L_f = L$:"
   ]
  },
  {
   "cell_type": "code",
   "execution_count": 24,
   "id": "804587ac",
   "metadata": {},
   "outputs": [
    {
     "name": "stdout",
     "output_type": "stream",
     "text": [
      "\n",
      "===========================\n",
      "Nest_morphism :\n",
      "---------------------------\n",
      "Domain     = (2,(()),(2,2))\n",
      "Codomain   = (2,2,2,2,32,2)\n",
      "Map        = (4, 2, 6)\n",
      "===========================\n",
      "\n",
      "L   = (2,(()),(2,2)):(8,(()),(2,512))\n",
      "L_f = (2,(()),(2,2)):(8,(()),(2,512))\n"
     ]
    }
   ],
   "source": [
    "@cute.jit\n",
    "def example():\n",
    "    L = cute.make_layout((2,((),),(2,2)),stride = (8,((),),(2,512)))\n",
    "    f = compute_Nest_morphism(L)\n",
    "    print(f)\n",
    "    print(f\"{'L':<4}= {L}\")\n",
    "    print(f\"{'L_f':<4}= {compute_layout(f)}\")\n",
    "example()"
   ]
  }
 ],
 "metadata": {
  "kernelspec": {
   "display_name": "py3_3.12.0",
   "language": "python",
   "name": "python3"
  },
  "language_info": {
   "codemirror_mode": {
    "name": "ipython",
    "version": 3
   },
   "file_extension": ".py",
   "mimetype": "text/x-python",
   "name": "python",
   "nbconvert_exporter": "python",
   "pygments_lexer": "ipython3",
   "version": "3.12.0"
  }
 },
 "nbformat": 4,
 "nbformat_minor": 5
}
