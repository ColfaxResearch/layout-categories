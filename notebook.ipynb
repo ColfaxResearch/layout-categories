{
 "cells": [
  {
   "cell_type": "code",
   "execution_count": 1,
   "id": "02f62e86",
   "metadata": {},
   "outputs": [],
   "source": [
    "import cutlass\n",
    "import cutlass.cute as cute\n",
    "\n",
    "from categories import *\n",
    "from test_utils import *\n",
    "from layout_utils import *"
   ]
  },
  {
   "cell_type": "markdown",
   "id": "6691d879",
   "metadata": {},
   "source": [
    "# Layout Categories"
   ]
  },
  {
   "cell_type": "markdown",
   "id": "b7f92790",
   "metadata": {},
   "source": [
    "## Tuple morphisms"
   ]
  },
  {
   "cell_type": "markdown",
   "id": "8dda5370",
   "metadata": {},
   "source": [
    "A tuple morphism $f:S \\to T$ is encoded as an object of the class Tuple_morphism. For example:"
   ]
  },
  {
   "cell_type": "code",
   "execution_count": 2,
   "id": "6382f998",
   "metadata": {},
   "outputs": [
    {
     "name": "stdout",
     "output_type": "stream",
     "text": [
      "f = (256, 256, 512, 512):(256, 2, 512, 4, 512):(1, 0, 5, 3)\n",
      "g = (2, 1, 7, 6, 2, 6, 1, 7):():(0, 0, 0, 0, 0, 0, 0, 0)\n"
     ]
    }
   ],
   "source": [
    "f = Tuple_morphism(domain   = (256,256,512,512),\n",
    "                   codomain = (256,2,512,4,512),\n",
    "                   map      = (1,0,5,3))\n",
    "print(\"f =\",f)\n",
    "\n",
    "g = random_Tuple_morphism()\n",
    "print(\"g =\",g)"
   ]
  },
  {
   "cell_type": "markdown",
   "id": "fd59aa3f",
   "metadata": {},
   "source": [
    "If $f$ is a tuple morphism, then we can compute the associated flat layout $L_f$:"
   ]
  },
  {
   "cell_type": "code",
   "execution_count": 3,
   "id": "528acfe7",
   "metadata": {},
   "outputs": [
    {
     "name": "stdout",
     "output_type": "stream",
     "text": [
      "L_f =  (256,256,512,512):(1,0,1048576,512)\n"
     ]
    }
   ],
   "source": [
    "@cute.jit\n",
    "def example():\n",
    "    f = Tuple_morphism(domain   = (256,256,512,512),\n",
    "                       codomain = (256,2,512,4,512),\n",
    "                       map      = (1,0,5,3))\n",
    "    L_f = compute_flat_layout(f)\n",
    "    print(\"L_f = \",L_f)\n",
    "example()"
   ]
  },
  {
   "cell_type": "markdown",
   "id": "0f9f690f",
   "metadata": {},
   "source": [
    "If $L$ is a flat layout, we can check if $L$ is tractable, and if so, produce a tuple morphism $f$ with $L_f = L$."
   ]
  },
  {
   "cell_type": "code",
   "execution_count": null,
   "id": "b82ab67a",
   "metadata": {},
   "outputs": [
    {
     "ename": "DSLRuntimeError",
     "evalue": "DSLRuntimeError: 💥💥💥 Error during runtime code generation for function `example` 💥💥💥",
     "output_type": "error",
     "traceback": [
      "\u001b[31m---------------------------------------------------------------------------\u001b[39m",
      "\u001b[31mRecursionError\u001b[39m                            Traceback (most recent call last)",
      "\u001b[36mFile \u001b[39m\u001b[32m~/.conda/envs/gp/lib/python3.12/site-packages/nvidia_cutlass_dsl/python_packages/cutlass/base_dsl/dsl.py:1117\u001b[39m, in \u001b[36mBaseDSL.generate_original_ir.<locals>.build_ir_module\u001b[39m\u001b[34m()\u001b[39m\n\u001b[32m   1116\u001b[39m \u001b[38;5;28;01mtry\u001b[39;00m:\n\u001b[32m-> \u001b[39m\u001b[32m1117\u001b[39m     result = \u001b[43mfuncBody\u001b[49m\u001b[43m(\u001b[49m\u001b[43m*\u001b[49m\u001b[43mir_args\u001b[49m\u001b[43m,\u001b[49m\u001b[43m \u001b[49m\u001b[43m*\u001b[49m\u001b[43m*\u001b[49m\u001b[43mir_kwargs\u001b[49m\u001b[43m)\u001b[49m\n\u001b[32m   1118\u001b[39m     func.ReturnOp([])\n",
      "\u001b[36mFile \u001b[39m\u001b[32m~/.conda/envs/gp/lib/python3.12/site-packages/nvidia_cutlass_dsl/python_packages/cutlass/base_dsl/dsl.py:260\u001b[39m, in \u001b[36mDSLCallable.__call__\u001b[39m\u001b[34m(self, *args, **kwargs)\u001b[39m\n\u001b[32m    259\u001b[39m \u001b[38;5;28;01mdef\u001b[39;00m\u001b[38;5;250m \u001b[39m\u001b[34m__call__\u001b[39m(\u001b[38;5;28mself\u001b[39m, *args, **kwargs):\n\u001b[32m--> \u001b[39m\u001b[32m260\u001b[39m     ret = \u001b[38;5;28;43mself\u001b[39;49m\u001b[43m.\u001b[49m\u001b[34;43m__func__\u001b[39;49m\u001b[43m(\u001b[49m\u001b[43m*\u001b[49m\u001b[43margs\u001b[49m\u001b[43m,\u001b[49m\u001b[43m \u001b[49m\u001b[43m*\u001b[49m\u001b[43m*\u001b[49m\u001b[43mkwargs\u001b[49m\u001b[43m)\u001b[49m\n\u001b[32m    261\u001b[39m     \u001b[38;5;28mself\u001b[39m.func = \u001b[38;5;28;01mNone\u001b[39;00m\n",
      "\u001b[36mCell\u001b[39m\u001b[36m \u001b[39m\u001b[32mIn[6]\u001b[39m\u001b[32m, line 4\u001b[39m, in \u001b[36mexample\u001b[39m\u001b[34m()\u001b[39m\n\u001b[32m      3\u001b[39m L = cute.make_layout((\u001b[32m2\u001b[39m,\u001b[32m2\u001b[39m,\u001b[32m2\u001b[39m),stride = (\u001b[32m8\u001b[39m,\u001b[32m2\u001b[39m,\u001b[32m512\u001b[39m))\n\u001b[32m----> \u001b[39m\u001b[32m4\u001b[39m f = \u001b[43mcompute_Tuple_morphism\u001b[49m\u001b[43m(\u001b[49m\u001b[43mL\u001b[49m\u001b[43m)\u001b[49m\n\u001b[32m      5\u001b[39m \u001b[38;5;28mprint\u001b[39m(\u001b[33mf\u001b[39m\u001b[33m\"\u001b[39m\u001b[38;5;132;01m{\u001b[39;00m\u001b[33m'\u001b[39m\u001b[33mf\u001b[39m\u001b[33m'\u001b[39m\u001b[38;5;132;01m:\u001b[39;00m\u001b[33m<4\u001b[39m\u001b[38;5;132;01m}\u001b[39;00m\u001b[33m= \u001b[39m\u001b[38;5;132;01m{\u001b[39;00mf\u001b[38;5;132;01m}\u001b[39;00m\u001b[33m\"\u001b[39m)\n",
      "\u001b[36mFile \u001b[39m\u001b[32m~/.conda/envs/gp/lib/python3.12/site-packages/nvidia_cutlass_dsl/python_packages/cutlass/base_dsl/dsl.py:475\u001b[39m, in \u001b[36mBaseDSL.jit_runner.<locals>.jit_runner_decorator.<locals>.jit_wrapper\u001b[39m\u001b[34m(*args, **kwargs)\u001b[39m\n\u001b[32m    474\u001b[39m func_ptr = BaseDSL._preprocess_and_execute(func)\n\u001b[32m--> \u001b[39m\u001b[32m475\u001b[39m \u001b[38;5;28;01mreturn\u001b[39;00m \u001b[43mexecutor\u001b[49m\u001b[43m(\u001b[49m\u001b[43mfunc_ptr\u001b[49m\u001b[43m,\u001b[49m\u001b[43m \u001b[49m\u001b[43m*\u001b[49m\u001b[43margs\u001b[49m\u001b[43m,\u001b[49m\u001b[43m \u001b[49m\u001b[43m*\u001b[49m\u001b[43m*\u001b[49m\u001b[43mkwargs\u001b[49m\u001b[43m)\u001b[49m\n",
      "\u001b[36mFile \u001b[39m\u001b[32m~/.conda/envs/gp/lib/python3.12/site-packages/nvidia_cutlass_dsl/python_packages/cutlass/base_dsl/dsl.py:1364\u001b[39m, in \u001b[36mBaseDSL._func\u001b[39m\u001b[34m(self, funcBody, *args, **kwargs)\u001b[39m\n\u001b[32m   1363\u001b[39m \u001b[38;5;28;01melif\u001b[39;00m ir.InsertionPoint.current \u001b[38;5;129;01mis\u001b[39;00m \u001b[38;5;129;01mnot\u001b[39;00m \u001b[38;5;28;01mNone\u001b[39;00m:\n\u001b[32m-> \u001b[39m\u001b[32m1364\u001b[39m     \u001b[38;5;28;01mreturn\u001b[39;00m \u001b[43mfuncBody\u001b[49m\u001b[43m(\u001b[49m\u001b[43m*\u001b[49m\u001b[43margs\u001b[49m\u001b[43m,\u001b[49m\u001b[43m \u001b[49m\u001b[43m*\u001b[49m\u001b[43m*\u001b[49m\u001b[43mkwargs\u001b[49m\u001b[43m)\u001b[49m\n\u001b[32m   1366\u001b[39m function_name = funcBody.\u001b[34m__name__\u001b[39m\n",
      "\u001b[36mFile \u001b[39m\u001b[32m~/.conda/envs/gp/lib/python3.12/site-packages/nvidia_cutlass_dsl/python_packages/cutlass/base_dsl/dsl.py:260\u001b[39m, in \u001b[36mDSLCallable.__call__\u001b[39m\u001b[34m(self, *args, **kwargs)\u001b[39m\n\u001b[32m    259\u001b[39m \u001b[38;5;28;01mdef\u001b[39;00m\u001b[38;5;250m \u001b[39m\u001b[34m__call__\u001b[39m(\u001b[38;5;28mself\u001b[39m, *args, **kwargs):\n\u001b[32m--> \u001b[39m\u001b[32m260\u001b[39m     ret = \u001b[38;5;28;43mself\u001b[39;49m\u001b[43m.\u001b[49m\u001b[34;43m__func__\u001b[39;49m\u001b[43m(\u001b[49m\u001b[43m*\u001b[49m\u001b[43margs\u001b[49m\u001b[43m,\u001b[49m\u001b[43m \u001b[49m\u001b[43m*\u001b[49m\u001b[43m*\u001b[49m\u001b[43mkwargs\u001b[49m\u001b[43m)\u001b[49m\n\u001b[32m    261\u001b[39m     \u001b[38;5;28mself\u001b[39m.func = \u001b[38;5;28;01mNone\u001b[39;00m\n",
      "\u001b[36mFile \u001b[39m\u001b[32m~/.conda/envs/gp/lib/python3.12/site-packages/nvidia_cutlass_dsl/python_packages/cutlass/base_dsl/dsl.py:475\u001b[39m, in \u001b[36mBaseDSL.jit_runner.<locals>.jit_runner_decorator.<locals>.jit_wrapper\u001b[39m\u001b[34m(*args, **kwargs)\u001b[39m\n\u001b[32m    474\u001b[39m func_ptr = BaseDSL._preprocess_and_execute(func)\n\u001b[32m--> \u001b[39m\u001b[32m475\u001b[39m \u001b[38;5;28;01mreturn\u001b[39;00m \u001b[43mexecutor\u001b[49m\u001b[43m(\u001b[49m\u001b[43mfunc_ptr\u001b[49m\u001b[43m,\u001b[49m\u001b[43m \u001b[49m\u001b[43m*\u001b[49m\u001b[43margs\u001b[49m\u001b[43m,\u001b[49m\u001b[43m \u001b[49m\u001b[43m*\u001b[49m\u001b[43m*\u001b[49m\u001b[43mkwargs\u001b[49m\u001b[43m)\u001b[49m\n",
      "\u001b[36mFile \u001b[39m\u001b[32m~/.conda/envs/gp/lib/python3.12/site-packages/nvidia_cutlass_dsl/python_packages/cutlass/base_dsl/dsl.py:1364\u001b[39m, in \u001b[36mBaseDSL._func\u001b[39m\u001b[34m(self, funcBody, *args, **kwargs)\u001b[39m\n\u001b[32m   1363\u001b[39m \u001b[38;5;28;01melif\u001b[39;00m ir.InsertionPoint.current \u001b[38;5;129;01mis\u001b[39;00m \u001b[38;5;129;01mnot\u001b[39;00m \u001b[38;5;28;01mNone\u001b[39;00m:\n\u001b[32m-> \u001b[39m\u001b[32m1364\u001b[39m     \u001b[38;5;28;01mreturn\u001b[39;00m \u001b[43mfuncBody\u001b[49m\u001b[43m(\u001b[49m\u001b[43m*\u001b[49m\u001b[43margs\u001b[49m\u001b[43m,\u001b[49m\u001b[43m \u001b[49m\u001b[43m*\u001b[49m\u001b[43m*\u001b[49m\u001b[43mkwargs\u001b[49m\u001b[43m)\u001b[49m\n\u001b[32m   1366\u001b[39m function_name = funcBody.\u001b[34m__name__\u001b[39m\n",
      "\u001b[36mFile \u001b[39m\u001b[32m~/.conda/envs/gp/lib/python3.12/site-packages/nvidia_cutlass_dsl/python_packages/cutlass/base_dsl/dsl.py:260\u001b[39m, in \u001b[36mDSLCallable.__call__\u001b[39m\u001b[34m(self, *args, **kwargs)\u001b[39m\n\u001b[32m    259\u001b[39m \u001b[38;5;28;01mdef\u001b[39;00m\u001b[38;5;250m \u001b[39m\u001b[34m__call__\u001b[39m(\u001b[38;5;28mself\u001b[39m, *args, **kwargs):\n\u001b[32m--> \u001b[39m\u001b[32m260\u001b[39m     ret = \u001b[38;5;28;43mself\u001b[39;49m\u001b[43m.\u001b[49m\u001b[34;43m__func__\u001b[39;49m\u001b[43m(\u001b[49m\u001b[43m*\u001b[49m\u001b[43margs\u001b[49m\u001b[43m,\u001b[49m\u001b[43m \u001b[49m\u001b[43m*\u001b[49m\u001b[43m*\u001b[49m\u001b[43mkwargs\u001b[49m\u001b[43m)\u001b[49m\n\u001b[32m    261\u001b[39m     \u001b[38;5;28mself\u001b[39m.func = \u001b[38;5;28;01mNone\u001b[39;00m\n",
      "    \u001b[31m[... skipping similar frames: DSLCallable.__call__ at line 260 (983 times), BaseDSL._func at line 1364 (983 times), BaseDSL.jit_runner.<locals>.jit_runner_decorator.<locals>.jit_wrapper at line 475 (983 times)]\u001b[39m\n",
      "\u001b[36mFile \u001b[39m\u001b[32m~/.conda/envs/gp/lib/python3.12/site-packages/nvidia_cutlass_dsl/python_packages/cutlass/base_dsl/dsl.py:475\u001b[39m, in \u001b[36mBaseDSL.jit_runner.<locals>.jit_runner_decorator.<locals>.jit_wrapper\u001b[39m\u001b[34m(*args, **kwargs)\u001b[39m\n\u001b[32m    474\u001b[39m func_ptr = BaseDSL._preprocess_and_execute(func)\n\u001b[32m--> \u001b[39m\u001b[32m475\u001b[39m \u001b[38;5;28;01mreturn\u001b[39;00m \u001b[43mexecutor\u001b[49m\u001b[43m(\u001b[49m\u001b[43mfunc_ptr\u001b[49m\u001b[43m,\u001b[49m\u001b[43m \u001b[49m\u001b[43m*\u001b[49m\u001b[43margs\u001b[49m\u001b[43m,\u001b[49m\u001b[43m \u001b[49m\u001b[43m*\u001b[49m\u001b[43m*\u001b[49m\u001b[43mkwargs\u001b[49m\u001b[43m)\u001b[49m\n",
      "\u001b[36mFile \u001b[39m\u001b[32m~/.conda/envs/gp/lib/python3.12/site-packages/nvidia_cutlass_dsl/python_packages/cutlass/base_dsl/dsl.py:1364\u001b[39m, in \u001b[36mBaseDSL._func\u001b[39m\u001b[34m(self, funcBody, *args, **kwargs)\u001b[39m\n\u001b[32m   1363\u001b[39m \u001b[38;5;28;01melif\u001b[39;00m ir.InsertionPoint.current \u001b[38;5;129;01mis\u001b[39;00m \u001b[38;5;129;01mnot\u001b[39;00m \u001b[38;5;28;01mNone\u001b[39;00m:\n\u001b[32m-> \u001b[39m\u001b[32m1364\u001b[39m     \u001b[38;5;28;01mreturn\u001b[39;00m \u001b[43mfuncBody\u001b[49m\u001b[43m(\u001b[49m\u001b[43m*\u001b[49m\u001b[43margs\u001b[49m\u001b[43m,\u001b[49m\u001b[43m \u001b[49m\u001b[43m*\u001b[49m\u001b[43m*\u001b[49m\u001b[43mkwargs\u001b[49m\u001b[43m)\u001b[49m\n\u001b[32m   1366\u001b[39m function_name = funcBody.\u001b[34m__name__\u001b[39m\n",
      "\u001b[36mFile \u001b[39m\u001b[32m~/.conda/envs/gp/lib/python3.12/site-packages/nvidia_cutlass_dsl/python_packages/cutlass/base_dsl/dsl.py:260\u001b[39m, in \u001b[36mDSLCallable.__call__\u001b[39m\u001b[34m(self, *args, **kwargs)\u001b[39m\n\u001b[32m    259\u001b[39m \u001b[38;5;28;01mdef\u001b[39;00m\u001b[38;5;250m \u001b[39m\u001b[34m__call__\u001b[39m(\u001b[38;5;28mself\u001b[39m, *args, **kwargs):\n\u001b[32m--> \u001b[39m\u001b[32m260\u001b[39m     ret = \u001b[38;5;28;43mself\u001b[39;49m\u001b[43m.\u001b[49m\u001b[34;43m__func__\u001b[39;49m\u001b[43m(\u001b[49m\u001b[43m*\u001b[49m\u001b[43margs\u001b[49m\u001b[43m,\u001b[49m\u001b[43m \u001b[49m\u001b[43m*\u001b[49m\u001b[43m*\u001b[49m\u001b[43mkwargs\u001b[49m\u001b[43m)\u001b[49m\n\u001b[32m    261\u001b[39m     \u001b[38;5;28mself\u001b[39m.func = \u001b[38;5;28;01mNone\u001b[39;00m\n",
      "\u001b[36mFile \u001b[39m\u001b[32m~/.conda/envs/gp/lib/python3.12/site-packages/nvidia_cutlass_dsl/python_packages/cutlass/base_dsl/dsl.py:474\u001b[39m, in \u001b[36mBaseDSL.jit_runner.<locals>.jit_runner_decorator.<locals>.jit_wrapper\u001b[39m\u001b[34m(*args, **kwargs)\u001b[39m\n\u001b[32m    472\u001b[39m \u001b[38;5;129m@wraps\u001b[39m(func)\n\u001b[32m    473\u001b[39m \u001b[38;5;28;01mdef\u001b[39;00m\u001b[38;5;250m \u001b[39m\u001b[34mjit_wrapper\u001b[39m(*args, **kwargs):\n\u001b[32m--> \u001b[39m\u001b[32m474\u001b[39m     func_ptr = \u001b[43mBaseDSL\u001b[49m\u001b[43m.\u001b[49m\u001b[43m_preprocess_and_execute\u001b[49m\u001b[43m(\u001b[49m\u001b[43mfunc\u001b[49m\u001b[43m)\u001b[49m\n\u001b[32m    475\u001b[39m     \u001b[38;5;28;01mreturn\u001b[39;00m executor(func_ptr, *args, **kwargs)\n",
      "\u001b[36mFile \u001b[39m\u001b[32m~/.conda/envs/gp/lib/python3.12/site-packages/nvidia_cutlass_dsl/python_packages/cutlass/base_dsl/dsl.py:449\u001b[39m, in \u001b[36mBaseDSL._preprocess_and_execute\u001b[39m\u001b[34m(func)\u001b[39m\n\u001b[32m    447\u001b[39m         \u001b[38;5;28;01mreturn\u001b[39;00m func\n\u001b[32m--> \u001b[39m\u001b[32m449\u001b[39m fcn_ptr = \u001b[43mfunc\u001b[49m\u001b[43m.\u001b[49m\u001b[43m_dsl_object\u001b[49m\u001b[43m.\u001b[49m\u001b[43mget_function_ptr\u001b[49m\u001b[43m(\u001b[49m\u001b[43mfunc\u001b[49m\u001b[43m)\u001b[49m\n\u001b[32m    450\u001b[39m \u001b[38;5;66;03m# If the function is decorated, de-decorate it\u001b[39;00m\n",
      "\u001b[36mFile \u001b[39m\u001b[32m~/.conda/envs/gp/lib/python3.12/site-packages/nvidia_cutlass_dsl/python_packages/cutlass/base_dsl/dsl.py:1288\u001b[39m, in \u001b[36mBaseDSL.get_function_ptr\u001b[39m\u001b[34m(self, original_function)\u001b[39m\n\u001b[32m   1285\u001b[39m code_object = \u001b[38;5;28mcompile\u001b[39m(\n\u001b[32m   1286\u001b[39m     original_function._transformed_ast, filename=file_name, mode=\u001b[33m\"\u001b[39m\u001b[33mexec\u001b[39m\u001b[33m\"\u001b[39m\n\u001b[32m   1287\u001b[39m )\n\u001b[32m-> \u001b[39m\u001b[32m1288\u001b[39m \u001b[38;5;28;01mreturn\u001b[39;00m \u001b[38;5;28;43mself\u001b[39;49m\u001b[43m.\u001b[49m\u001b[43mpreprocessor\u001b[49m\u001b[43m.\u001b[49m\u001b[43mexec\u001b[49m\u001b[43m(\u001b[49m\n\u001b[32m   1289\u001b[39m \u001b[43m    \u001b[49m\u001b[43moriginal_function\u001b[49m\u001b[43m.\u001b[49m\u001b[34;43m__name__\u001b[39;49m\u001b[43m,\u001b[49m\n\u001b[32m   1290\u001b[39m \u001b[43m    \u001b[49m\u001b[43moriginal_function\u001b[49m\u001b[43m,\u001b[49m\n\u001b[32m   1291\u001b[39m \u001b[43m    \u001b[49m\u001b[43mcode_object\u001b[49m\u001b[43m,\u001b[49m\n\u001b[32m   1292\u001b[39m \u001b[43m    \u001b[49m\u001b[38;5;28;43mself\u001b[39;49m\u001b[43m.\u001b[49m\u001b[43m_get_globals\u001b[49m\u001b[43m(\u001b[49m\u001b[43m)\u001b[49m\u001b[43m,\u001b[49m\n\u001b[32m   1293\u001b[39m \u001b[43m\u001b[49m\u001b[43m)\u001b[49m\n",
      "\u001b[36mFile \u001b[39m\u001b[32m~/.conda/envs/gp/lib/python3.12/site-packages/nvidia_cutlass_dsl/python_packages/cutlass/base_dsl/ast_preprocessor.py:188\u001b[39m, in \u001b[36mDSLPreprocessor.exec\u001b[39m\u001b[34m(self, function_name, original_function, code_object, exec_globals)\u001b[39m\n\u001b[32m    186\u001b[39m \u001b[38;5;28;01mdef\u001b[39;00m\u001b[38;5;250m \u001b[39m\u001b[34mexec\u001b[39m(\u001b[38;5;28mself\u001b[39m, function_name, original_function, code_object, exec_globals):\n\u001b[32m    187\u001b[39m     \u001b[38;5;66;03m# Get imports from the original module\u001b[39;00m\n\u001b[32m--> \u001b[39m\u001b[32m188\u001b[39m     module_imports = \u001b[38;5;28;43mself\u001b[39;49m\u001b[43m.\u001b[49m\u001b[43m_get_module_imports\u001b[49m\u001b[43m(\u001b[49m\u001b[43moriginal_function\u001b[49m\u001b[43m)\u001b[49m\n\u001b[32m    190\u001b[39m     \u001b[38;5;66;03m# Import all required modules\u001b[39;00m\n",
      "\u001b[36mFile \u001b[39m\u001b[32m~/.conda/envs/gp/lib/python3.12/site-packages/nvidia_cutlass_dsl/python_packages/cutlass/base_dsl/ast_preprocessor.py:162\u001b[39m, in \u001b[36mDSLPreprocessor._get_module_imports\u001b[39m\u001b[34m(self, decorated_func)\u001b[39m\n\u001b[32m    160\u001b[39m \u001b[38;5;28;01mtry\u001b[39;00m:\n\u001b[32m    161\u001b[39m     \u001b[38;5;66;03m# Get the module source code\u001b[39;00m\n\u001b[32m--> \u001b[39m\u001b[32m162\u001b[39m     source = \u001b[43minspect\u001b[49m\u001b[43m.\u001b[49m\u001b[43mgetsource\u001b[49m\u001b[43m(\u001b[49m\u001b[43mmodule\u001b[49m\u001b[43m)\u001b[49m\n\u001b[32m    163\u001b[39m     module_ast = ast.parse(source)\n",
      "\u001b[36mFile \u001b[39m\u001b[32m~/.conda/envs/gp/lib/python3.12/inspect.py:1285\u001b[39m, in \u001b[36mgetsource\u001b[39m\u001b[34m(object)\u001b[39m\n\u001b[32m   1280\u001b[39m \u001b[38;5;250m\u001b[39m\u001b[33;03m\"\"\"Return the text of the source code for an object.\u001b[39;00m\n\u001b[32m   1281\u001b[39m \n\u001b[32m   1282\u001b[39m \u001b[33;03mThe argument may be a module, class, method, function, traceback, frame,\u001b[39;00m\n\u001b[32m   1283\u001b[39m \u001b[33;03mor code object.  The source code is returned as a single string.  An\u001b[39;00m\n\u001b[32m   1284\u001b[39m \u001b[33;03mOSError is raised if the source code cannot be retrieved.\"\"\"\u001b[39;00m\n\u001b[32m-> \u001b[39m\u001b[32m1285\u001b[39m lines, lnum = \u001b[43mgetsourcelines\u001b[49m\u001b[43m(\u001b[49m\u001b[38;5;28;43mobject\u001b[39;49m\u001b[43m)\u001b[49m\n\u001b[32m   1286\u001b[39m \u001b[38;5;28;01mreturn\u001b[39;00m \u001b[33m'\u001b[39m\u001b[33m'\u001b[39m.join(lines)\n",
      "\u001b[36mFile \u001b[39m\u001b[32m~/.conda/envs/gp/lib/python3.12/inspect.py:1267\u001b[39m, in \u001b[36mgetsourcelines\u001b[39m\u001b[34m(object)\u001b[39m\n\u001b[32m   1266\u001b[39m \u001b[38;5;28mobject\u001b[39m = unwrap(\u001b[38;5;28mobject\u001b[39m)\n\u001b[32m-> \u001b[39m\u001b[32m1267\u001b[39m lines, lnum = \u001b[43mfindsource\u001b[49m\u001b[43m(\u001b[49m\u001b[38;5;28;43mobject\u001b[39;49m\u001b[43m)\u001b[49m\n\u001b[32m   1269\u001b[39m \u001b[38;5;28;01mif\u001b[39;00m istraceback(\u001b[38;5;28mobject\u001b[39m):\n",
      "\u001b[36mFile \u001b[39m\u001b[32m~/.conda/envs/gp/lib/python3.12/inspect.py:1078\u001b[39m, in \u001b[36mfindsource\u001b[39m\u001b[34m(object)\u001b[39m\n\u001b[32m   1071\u001b[39m \u001b[38;5;250m\u001b[39m\u001b[33;03m\"\"\"Return the entire source file and starting line number for an object.\u001b[39;00m\n\u001b[32m   1072\u001b[39m \n\u001b[32m   1073\u001b[39m \u001b[33;03mThe argument may be a module, class, method, function, traceback, frame,\u001b[39;00m\n\u001b[32m   1074\u001b[39m \u001b[33;03mor code object.  The source code is returned as a list of all the lines\u001b[39;00m\n\u001b[32m   1075\u001b[39m \u001b[33;03min the file and the line number indexes a line in that list.  An OSError\u001b[39;00m\n\u001b[32m   1076\u001b[39m \u001b[33;03mis raised if the source code cannot be retrieved.\"\"\"\u001b[39;00m\n\u001b[32m-> \u001b[39m\u001b[32m1078\u001b[39m file = \u001b[43mgetsourcefile\u001b[49m\u001b[43m(\u001b[49m\u001b[38;5;28;43mobject\u001b[39;49m\u001b[43m)\u001b[49m\n\u001b[32m   1079\u001b[39m \u001b[38;5;28;01mif\u001b[39;00m file:\n\u001b[32m   1080\u001b[39m     \u001b[38;5;66;03m# Invalidate cache if needed.\u001b[39;00m\n",
      "\u001b[36mFile \u001b[39m\u001b[32m~/.conda/envs/gp/lib/python3.12/inspect.py:955\u001b[39m, in \u001b[36mgetsourcefile\u001b[39m\u001b[34m(object)\u001b[39m\n\u001b[32m    952\u001b[39m \u001b[38;5;250m\u001b[39m\u001b[33;03m\"\"\"Return the filename that can be used to locate an object's source.\u001b[39;00m\n\u001b[32m    953\u001b[39m \u001b[33;03mReturn None if no way can be identified to get the source.\u001b[39;00m\n\u001b[32m    954\u001b[39m \u001b[33;03m\"\"\"\u001b[39;00m\n\u001b[32m--> \u001b[39m\u001b[32m955\u001b[39m filename = \u001b[43mgetfile\u001b[49m\u001b[43m(\u001b[49m\u001b[38;5;28;43mobject\u001b[39;49m\u001b[43m)\u001b[49m\n\u001b[32m    956\u001b[39m all_bytecode_suffixes = importlib.machinery.DEBUG_BYTECODE_SUFFIXES[:]\n",
      "\u001b[36mFile \u001b[39m\u001b[32m~/.local/lib/python3.12/site-packages/torch/package/package_importer.py:725\u001b[39m, in \u001b[36m_patched_getfile\u001b[39m\u001b[34m(object)\u001b[39m\n\u001b[32m    724\u001b[39m         \u001b[38;5;28;01mreturn\u001b[39;00m _package_imported_modules[\u001b[38;5;28mobject\u001b[39m.\u001b[34m__module__\u001b[39m].\u001b[34m__file__\u001b[39m\n\u001b[32m--> \u001b[39m\u001b[32m725\u001b[39m \u001b[38;5;28;01mreturn\u001b[39;00m \u001b[43m_orig_getfile\u001b[49m\u001b[43m(\u001b[49m\u001b[38;5;28;43mobject\u001b[39;49m\u001b[43m)\u001b[49m\n",
      "\u001b[36mFile \u001b[39m\u001b[32m~/.conda/envs/gp/lib/python3.12/inspect.py:913\u001b[39m, in \u001b[36mgetfile\u001b[39m\u001b[34m(object)\u001b[39m\n\u001b[32m    912\u001b[39m \u001b[38;5;250m\u001b[39m\u001b[33;03m\"\"\"Work out which source or compiled file an object was defined in.\"\"\"\u001b[39;00m\n\u001b[32m--> \u001b[39m\u001b[32m913\u001b[39m \u001b[38;5;28;01mif\u001b[39;00m \u001b[43mismodule\u001b[49m\u001b[43m(\u001b[49m\u001b[38;5;28;43mobject\u001b[39;49m\u001b[43m)\u001b[49m:\n\u001b[32m    914\u001b[39m     \u001b[38;5;28;01mif\u001b[39;00m \u001b[38;5;28mgetattr\u001b[39m(\u001b[38;5;28mobject\u001b[39m, \u001b[33m'\u001b[39m\u001b[33m__file__\u001b[39m\u001b[33m'\u001b[39m, \u001b[38;5;28;01mNone\u001b[39;00m):\n",
      "\u001b[31mRecursionError\u001b[39m: maximum recursion depth exceeded",
      "\nThe above exception was the direct cause of the following exception:\n",
      "\u001b[31mDSLRuntimeError\u001b[39m                           Traceback (most recent call last)",
      "\u001b[36mCell\u001b[39m\u001b[36m \u001b[39m\u001b[32mIn[6]\u001b[39m\u001b[32m, line 8\u001b[39m\n\u001b[32m      6\u001b[39m     \u001b[38;5;28mprint\u001b[39m(\u001b[33mf\u001b[39m\u001b[33m\"\u001b[39m\u001b[38;5;132;01m{\u001b[39;00m\u001b[33m'\u001b[39m\u001b[33mL\u001b[39m\u001b[33m'\u001b[39m\u001b[38;5;132;01m:\u001b[39;00m\u001b[33m<4\u001b[39m\u001b[38;5;132;01m}\u001b[39;00m\u001b[33m= \u001b[39m\u001b[38;5;132;01m{\u001b[39;00mL\u001b[38;5;132;01m}\u001b[39;00m\u001b[33m\"\u001b[39m)\n\u001b[32m      7\u001b[39m     \u001b[38;5;28mprint\u001b[39m(\u001b[33mf\u001b[39m\u001b[33m\"\u001b[39m\u001b[38;5;132;01m{\u001b[39;00m\u001b[33m'\u001b[39m\u001b[33mL_f\u001b[39m\u001b[33m'\u001b[39m\u001b[38;5;132;01m:\u001b[39;00m\u001b[33m<4\u001b[39m\u001b[38;5;132;01m}\u001b[39;00m\u001b[33m= \u001b[39m\u001b[38;5;132;01m{\u001b[39;00mcompute_flat_layout(f)\u001b[38;5;132;01m}\u001b[39;00m\u001b[33m\"\u001b[39m)\n\u001b[32m----> \u001b[39m\u001b[32m8\u001b[39m \u001b[43mexample\u001b[49m\u001b[43m(\u001b[49m\u001b[43m)\u001b[49m\n",
      "\u001b[36mFile \u001b[39m\u001b[32m~/.conda/envs/gp/lib/python3.12/site-packages/nvidia_cutlass_dsl/python_packages/cutlass/base_dsl/dsl.py:475\u001b[39m, in \u001b[36mBaseDSL.jit_runner.<locals>.jit_runner_decorator.<locals>.jit_wrapper\u001b[39m\u001b[34m(*args, **kwargs)\u001b[39m\n\u001b[32m    472\u001b[39m \u001b[38;5;129m@wraps\u001b[39m(func)\n\u001b[32m    473\u001b[39m \u001b[38;5;28;01mdef\u001b[39;00m\u001b[38;5;250m \u001b[39m\u001b[34mjit_wrapper\u001b[39m(*args, **kwargs):\n\u001b[32m    474\u001b[39m     func_ptr = BaseDSL._preprocess_and_execute(func)\n\u001b[32m--> \u001b[39m\u001b[32m475\u001b[39m     \u001b[38;5;28;01mreturn\u001b[39;00m \u001b[43mexecutor\u001b[49m\u001b[43m(\u001b[49m\u001b[43mfunc_ptr\u001b[49m\u001b[43m,\u001b[49m\u001b[43m \u001b[49m\u001b[43m*\u001b[49m\u001b[43margs\u001b[49m\u001b[43m,\u001b[49m\u001b[43m \u001b[49m\u001b[43m*\u001b[49m\u001b[43m*\u001b[49m\u001b[43mkwargs\u001b[49m\u001b[43m)\u001b[49m\n",
      "\u001b[36mFile \u001b[39m\u001b[32m~/.conda/envs/gp/lib/python3.12/site-packages/nvidia_cutlass_dsl/python_packages/cutlass/base_dsl/dsl.py:1400\u001b[39m, in \u001b[36mBaseDSL._func\u001b[39m\u001b[34m(self, funcBody, *args, **kwargs)\u001b[39m\n\u001b[32m   1398\u001b[39m \u001b[38;5;66;03m# Generate MLIR Context and start generating IR\u001b[39;00m\n\u001b[32m   1399\u001b[39m log().debug(\u001b[33mf\u001b[39m\u001b[33m\"\u001b[39m\u001b[33mGenerating MLIR for function \u001b[39m\u001b[33m'\u001b[39m\u001b[38;5;132;01m{\u001b[39;00mfunction_name\u001b[38;5;132;01m}\u001b[39;00m\u001b[33m'\u001b[39m\u001b[33m\"\u001b[39m)\n\u001b[32m-> \u001b[39m\u001b[32m1400\u001b[39m result = \u001b[38;5;28;43mself\u001b[39;49m\u001b[43m.\u001b[49m\u001b[43mgenerate_mlir\u001b[49m\u001b[43m(\u001b[49m\n\u001b[32m   1401\u001b[39m \u001b[43m    \u001b[49m\u001b[43mfuncBody\u001b[49m\u001b[43m,\u001b[49m\n\u001b[32m   1402\u001b[39m \u001b[43m    \u001b[49m\u001b[43mcanonicalized_kwargs\u001b[49m\u001b[43m,\u001b[49m\n\u001b[32m   1403\u001b[39m \u001b[43m    \u001b[49m\u001b[43mfunction_name\u001b[49m\u001b[43m,\u001b[49m\n\u001b[32m   1404\u001b[39m \u001b[43m    \u001b[49m\u001b[43mgpu_module_attrs\u001b[49m\u001b[43m,\u001b[49m\n\u001b[32m   1405\u001b[39m \u001b[43m    \u001b[49m\u001b[43mcanonicalized_args\u001b[49m\u001b[43m,\u001b[49m\n\u001b[32m   1406\u001b[39m \u001b[43m    \u001b[49m\u001b[43margs_spec\u001b[49m\u001b[43m,\u001b[49m\n\u001b[32m   1407\u001b[39m \u001b[43m    \u001b[49m\u001b[43mpipeline\u001b[49m\u001b[43m,\u001b[49m\n\u001b[32m   1408\u001b[39m \u001b[43m    \u001b[49m\u001b[43mno_cache\u001b[49m\u001b[43m,\u001b[49m\n\u001b[32m   1409\u001b[39m \u001b[43m    \u001b[49m\u001b[43mcompile_only\u001b[49m\u001b[43m,\u001b[49m\n\u001b[32m   1410\u001b[39m \u001b[43m\u001b[49m\u001b[43m)\u001b[49m\n\u001b[32m   1412\u001b[39m \u001b[38;5;28;01mreturn\u001b[39;00m result\n",
      "\u001b[36mFile \u001b[39m\u001b[32m~/.conda/envs/gp/lib/python3.12/site-packages/nvidia_cutlass_dsl/python_packages/cutlass/base_dsl/dsl.py:1224\u001b[39m, in \u001b[36mBaseDSL.generate_mlir\u001b[39m\u001b[34m(self, funcBody, kwargs, function_name, gpu_module_attrs, args, args_spec, pipeline, no_cache, compile_only, loc)\u001b[39m\n\u001b[32m   1219\u001b[39m exe_args, func_types, adapted_args = \u001b[38;5;28mself\u001b[39m.generate_mlir_function_types(\n\u001b[32m   1220\u001b[39m     funcBody, function_name, args, kwargs, args_spec\n\u001b[32m   1221\u001b[39m )\n\u001b[32m   1223\u001b[39m \u001b[38;5;66;03m# Generate original ir module and its hash value.\u001b[39;00m\n\u001b[32m-> \u001b[39m\u001b[32m1224\u001b[39m module, module_hash, result = \u001b[38;5;28;43mself\u001b[39;49m\u001b[43m.\u001b[49m\u001b[43mgenerate_original_ir\u001b[49m\u001b[43m(\u001b[49m\n\u001b[32m   1225\u001b[39m \u001b[43m    \u001b[49m\u001b[43mir\u001b[49m\u001b[43m,\u001b[49m\n\u001b[32m   1226\u001b[39m \u001b[43m    \u001b[49m\u001b[43mfunc\u001b[49m\u001b[43m,\u001b[49m\n\u001b[32m   1227\u001b[39m \u001b[43m    \u001b[49m\u001b[43mfuncBody\u001b[49m\u001b[43m,\u001b[49m\n\u001b[32m   1228\u001b[39m \u001b[43m    \u001b[49m\u001b[43mkwargs\u001b[49m\u001b[43m,\u001b[49m\n\u001b[32m   1229\u001b[39m \u001b[43m    \u001b[49m\u001b[43mfunction_name\u001b[49m\u001b[43m,\u001b[49m\n\u001b[32m   1230\u001b[39m \u001b[43m    \u001b[49m\u001b[43mfunc_types\u001b[49m\u001b[43m,\u001b[49m\n\u001b[32m   1231\u001b[39m \u001b[43m    \u001b[49m\u001b[43mgpu_module_attrs\u001b[49m\u001b[43m,\u001b[49m\n\u001b[32m   1232\u001b[39m \u001b[43m    \u001b[49m\u001b[43margs\u001b[49m\u001b[43m,\u001b[49m\n\u001b[32m   1233\u001b[39m \u001b[43m    \u001b[49m\u001b[43margs_spec\u001b[49m\u001b[43m,\u001b[49m\n\u001b[32m   1234\u001b[39m \u001b[43m\u001b[49m\u001b[43m)\u001b[49m\n\u001b[32m   1236\u001b[39m \u001b[38;5;66;03m# dryrun is used to only generate IR\u001b[39;00m\n\u001b[32m   1237\u001b[39m \u001b[38;5;28;01mif\u001b[39;00m \u001b[38;5;28mself\u001b[39m.envar.dryrun:\n",
      "\u001b[36mFile \u001b[39m\u001b[32m~/.conda/envs/gp/lib/python3.12/site-packages/nvidia_cutlass_dsl/python_packages/cutlass/base_dsl/dsl.py:1139\u001b[39m, in \u001b[36mBaseDSL.generate_original_ir\u001b[39m\u001b[34m(self, ir, func, funcBody, kwargs, function_name, func_types, gpu_module_attrs, args, args_spec)\u001b[39m\n\u001b[32m   1137\u001b[39m \u001b[38;5;66;03m# Build IR module\u001b[39;00m\n\u001b[32m   1138\u001b[39m profiler = timer(enable=\u001b[38;5;28mself\u001b[39m.envar.jitTimeProfiling)\n\u001b[32m-> \u001b[39m\u001b[32m1139\u001b[39m module, result = \u001b[43mprofiler\u001b[49m\u001b[43m(\u001b[49m\u001b[43mbuild_ir_module\u001b[49m\u001b[43m)\u001b[49m\u001b[43m(\u001b[49m\u001b[43m)\u001b[49m\n\u001b[32m   1140\u001b[39m module_hash = \u001b[38;5;28mself\u001b[39m.get_module_hash(module, function_name)\n\u001b[32m   1142\u001b[39m module = \u001b[38;5;28mself\u001b[39m.build_module(module, function_name)\n",
      "\u001b[36mFile \u001b[39m\u001b[32m~/.conda/envs/gp/lib/python3.12/site-packages/nvidia_cutlass_dsl/python_packages/cutlass/base_dsl/utils/timer.py:28\u001b[39m, in \u001b[36mtimer.<locals>.decorator.<locals>.func_wrapper\u001b[39m\u001b[34m(*args, **kwargs)\u001b[39m\n\u001b[32m     25\u001b[39m \u001b[38;5;129m@wraps\u001b[39m(func)\n\u001b[32m     26\u001b[39m \u001b[38;5;28;01mdef\u001b[39;00m\u001b[38;5;250m \u001b[39m\u001b[34mfunc_wrapper\u001b[39m(*args, **kwargs):\n\u001b[32m     27\u001b[39m     \u001b[38;5;28;01mif\u001b[39;00m \u001b[38;5;129;01mnot\u001b[39;00m enable:\n\u001b[32m---> \u001b[39m\u001b[32m28\u001b[39m         \u001b[38;5;28;01mreturn\u001b[39;00m \u001b[43mfunc\u001b[49m\u001b[43m(\u001b[49m\u001b[43m*\u001b[49m\u001b[43margs\u001b[49m\u001b[43m,\u001b[49m\u001b[43m \u001b[49m\u001b[43m*\u001b[49m\u001b[43m*\u001b[49m\u001b[43mkwargs\u001b[49m\u001b[43m)\u001b[49m\n\u001b[32m     29\u001b[39m     \u001b[38;5;28;01mfrom\u001b[39;00m\u001b[38;5;250m \u001b[39m\u001b[34;01mtime\u001b[39;00m\u001b[38;5;250m \u001b[39m\u001b[38;5;28;01mimport\u001b[39;00m time\n\u001b[32m     31\u001b[39m     start = time()\n",
      "\u001b[36mFile \u001b[39m\u001b[32m~/.conda/envs/gp/lib/python3.12/site-packages/nvidia_cutlass_dsl/python_packages/cutlass/base_dsl/dsl.py:1132\u001b[39m, in \u001b[36mBaseDSL.generate_original_ir.<locals>.build_ir_module\u001b[39m\u001b[34m()\u001b[39m\n\u001b[32m   1129\u001b[39m             \u001b[38;5;28;01mraise\u001b[39;00m dsl_error\n\u001b[32m   1130\u001b[39m         \u001b[38;5;28;01mexcept\u001b[39;00m \u001b[38;5;167;01mException\u001b[39;00m \u001b[38;5;28;01mas\u001b[39;00m general_e:\n\u001b[32m   1131\u001b[39m             \u001b[38;5;66;03m# Transform internal error to a DSL error\u001b[39;00m\n\u001b[32m-> \u001b[39m\u001b[32m1132\u001b[39m             \u001b[38;5;28;01mraise\u001b[39;00m DSLRuntimeError(\n\u001b[32m   1133\u001b[39m                 \u001b[33mf\u001b[39m\u001b[33m\"\u001b[39m\u001b[33m💥💥💥 Error during runtime code generation for function `\u001b[39m\u001b[38;5;132;01m{\u001b[39;00mfuncBody.\u001b[34m__name__\u001b[39m\u001b[38;5;132;01m}\u001b[39;00m\u001b[33m` 💥💥💥\u001b[39m\u001b[33m\"\u001b[39m\n\u001b[32m   1134\u001b[39m             ) \u001b[38;5;28;01mfrom\u001b[39;00m\u001b[38;5;250m \u001b[39m\u001b[34;01mgeneral_e\u001b[39;00m\n\u001b[32m   1135\u001b[39m \u001b[38;5;28;01mreturn\u001b[39;00m module, result\n",
      "\u001b[31mDSLRuntimeError\u001b[39m: DSLRuntimeError: 💥💥💥 Error during runtime code generation for function `example` 💥💥💥"
     ]
    }
   ],
   "source": [
    "@cute.jit\n",
    "def example():\n",
    "    L = cute.make_layout((2,2,2),stride = (8,2,512))\n",
    "    f = compute_Tuple_morphism(L)\n",
    "    print(f\"{'f':<4}= {f}\")\n",
    "    print(f\"{'L':<4}= {L}\")\n",
    "    print(f\"{'L_f':<4}= {compute_flat_layout(f)}\")\n",
    "example()"
   ]
  },
  {
   "cell_type": "markdown",
   "id": "e5196e98",
   "metadata": {},
   "source": [
    "## Operations on tuple morphisms"
   ]
  },
  {
   "cell_type": "markdown",
   "id": "7b6cb80e",
   "metadata": {},
   "source": [
    "### Composition"
   ]
  },
  {
   "cell_type": "markdown",
   "id": "0fcb363d",
   "metadata": {},
   "source": [
    "If $f:S \\to T$ and $g:T \\to U$ are tuple morphisms, then we can compose $f$ and $g$ to form the tuple morphism $g \\circ f: S \\to U$:"
   ]
  },
  {
   "cell_type": "code",
   "execution_count": 5,
   "id": "5dbb92cd",
   "metadata": {},
   "outputs": [
    {
     "name": "stdout",
     "output_type": "stream",
     "text": [
      "g o f = (2, 2):(10, 10, 2, 2):(3, 4)\n"
     ]
    }
   ],
   "source": [
    "f = Tuple_morphism((2,2),(10,2,10,2),(2,4))\n",
    "g = Tuple_morphism((10,2,10,2),(10,10,2,2),(1,3,2,4))\n",
    "composite = f.compose(g)\n",
    "composite.name = \"g o f\"\n",
    "print(\"g o f =\",composite)"
   ]
  },
  {
   "cell_type": "markdown",
   "id": "b3e1aea0",
   "metadata": {},
   "source": [
    "Composition of tuple morphisms is compatible with composition of layouts, in that"
   ]
  },
  {
   "cell_type": "markdown",
   "id": "5dfa93d3",
   "metadata": {},
   "source": [
    "$L_{g \\circ f} = L_g \\circ L_f$:"
   ]
  },
  {
   "cell_type": "code",
   "execution_count": 6,
   "id": "eb181bbe",
   "metadata": {},
   "outputs": [
    {
     "name": "stdout",
     "output_type": "stream",
     "text": [
      "L_{g o f} = (8,8,8,2):(8,1,0,64)\n",
      "L_g o L_f = (8,8,8,2):(8,1,0,64)\n"
     ]
    }
   ],
   "source": [
    "@cute.jit\n",
    "def example():\n",
    "    f = Tuple_morphism((8,8,8,2),(8,2,8,4,8),(3,1,5,2))\n",
    "    g = Tuple_morphism((8,2,8,4,8),(8,8,2,2),(1,3,2,0,0))\n",
    "    composite = f.compose(g)\n",
    "    layout_composite = compute_flat_layout(composite)\n",
    "    composite_layout = cute.composition(compute_flat_layout(g),compute_flat_layout(f))\n",
    "    print(f\"{'L_{g o f}':<10}= {layout_composite}\")\n",
    "    print(f\"{'L_g o L_f':<10}= {composite_layout}\")\n",
    "example()"
   ]
  },
  {
   "cell_type": "markdown",
   "id": "f737179c",
   "metadata": {},
   "source": [
    "### Sort"
   ]
  },
  {
   "cell_type": "markdown",
   "id": "b19cf348",
   "metadata": {},
   "source": [
    "We can sort tuple morphisms:"
   ]
  },
  {
   "cell_type": "code",
   "execution_count": 7,
   "id": "cde7bcf1",
   "metadata": {},
   "outputs": [
    {
     "name": "stdout",
     "output_type": "stream",
     "text": [
      "f       = (16, 8, 8, 32, 256):(2, 2, 8, 16, 8, 4, 32):(4, 3, 5, 7, 0)\n",
      "sort(f) = (256, 8, 16, 8, 32):(2, 2, 8, 16, 8, 4, 32):(0, 3, 4, 5, 7)\n"
     ]
    }
   ],
   "source": [
    "f = Tuple_morphism((16,8,8,32,256),(2,2,8,16,8,4,32),(4,3,5,7,0),name = \"f\")\n",
    "f_sorted = f.sort()\n",
    "print(f\"{'f':<7} = {f}\")\n",
    "print(f\"{'sort(f)':<7} = {f_sorted}\")"
   ]
  },
  {
   "cell_type": "markdown",
   "id": "8a299b31",
   "metadata": {},
   "source": [
    "### Coalesce"
   ]
  },
  {
   "cell_type": "markdown",
   "id": "a256672f",
   "metadata": {},
   "source": [
    "We can coalesce tuple morphisms:"
   ]
  },
  {
   "cell_type": "code",
   "execution_count": 8,
   "id": "878c6f3a",
   "metadata": {},
   "outputs": [
    {
     "name": "stdout",
     "output_type": "stream",
     "text": [
      "f           = (2, 3, 2, 3, 10):(4, 2, 3, 3, 2, 3, 10):(2, 3, 5, 6, 7)\n",
      "coalesce(f) = (6, 60):(4, 6, 3, 60):(2, 4)\n"
     ]
    }
   ],
   "source": [
    "f = Tuple_morphism((2,3,2,3,10),(4,2,3,3,2,3,10),(2,3,5,6,7))\n",
    "f_coalesced = f.coalesce()\n",
    "print(f\"{'f':<11} = {f}\")\n",
    "print(f\"{'coalesce(f)':<11} = {f_coalesced}\")"
   ]
  },
  {
   "cell_type": "markdown",
   "id": "f5987181",
   "metadata": {},
   "source": [
    "This operation is compatible with the coalesce operation on layouts, in that $L_{\\text{coalesce}(f)} = \\text{coalesce}(L_f)$."
   ]
  },
  {
   "cell_type": "code",
   "execution_count": 9,
   "id": "9a57bc49",
   "metadata": {},
   "outputs": [
    {
     "name": "stdout",
     "output_type": "stream",
     "text": [
      "L_coalesce(f) = (4,3,3,25):(4,48,16,1440)\n",
      "coalesce(L_f) = (4,3,3,25):(4,48,16,1440)\n"
     ]
    }
   ],
   "source": [
    "@cute.jit\n",
    "def example():\n",
    "    f             = Tuple_morphism((2,2,3,3,5,5),(4,2,2,3,3,10,5,5),(2,3,5,4,7,8),name = \"f\")\n",
    "    f_coalesced   = f.coalesce()\n",
    "    L_f           = compute_flat_layout(f)\n",
    "    L_f_coalesced = compute_flat_layout(f_coalesced)\n",
    "    print(f\"{'L_coalesce(f)':<12} = {L_f_coalesced}\")\n",
    "    print(f\"{'coalesce(L_f)':<12} = {cute.coalesce(L_f)}\")\n",
    "example()"
   ]
  },
  {
   "cell_type": "markdown",
   "id": "9f391c19",
   "metadata": {},
   "source": [
    "### Concatenate"
   ]
  },
  {
   "cell_type": "markdown",
   "id": "c2fe5187",
   "metadata": {},
   "source": [
    "We can concatenate tuple morphisms $f$ and $g$ with the same codomain and disjoint images."
   ]
  },
  {
   "cell_type": "code",
   "execution_count": 10,
   "id": "00e14db7",
   "metadata": {},
   "outputs": [
    {
     "name": "stdout",
     "output_type": "stream",
     "text": [
      "f          =(10, 10):(5, 10, 5, 10, 5, 10):(6, 4)\n",
      "g          =(5, 5, 5):(5, 10, 5, 10, 5, 10):(3, 1, 0)\n",
      "concat(f,g)=(10, 10, 5, 5, 5):(5, 10, 5, 10, 5, 10):(6, 4, 3, 1, 0)\n"
     ]
    }
   ],
   "source": [
    "f = Tuple_morphism((10,10),(5,10,5,10,5,10),(6,4))\n",
    "g = Tuple_morphism((5,5,5),(5,10,5,10,5,10),(3,1,0))\n",
    "concatenated_morphism = f.concat(g)\n",
    "print(f\"{'f':<11}={f}\")\n",
    "print(f\"{'g':<11}={g}\")\n",
    "print(f\"{'concat(f,g)'}={concatenated_morphism}\")"
   ]
  },
  {
   "cell_type": "markdown",
   "id": "a381bec4",
   "metadata": {},
   "source": [
    "### Complement"
   ]
  },
  {
   "cell_type": "markdown",
   "id": "01356e04",
   "metadata": {},
   "source": [
    "We can form the complement $f^*$ of a tuple morphism $f$:"
   ]
  },
  {
   "cell_type": "code",
   "execution_count": 11,
   "id": "80434c15",
   "metadata": {},
   "outputs": [
    {
     "name": "stdout",
     "output_type": "stream",
     "text": [
      "f            =(5, 5):(2, 5, 4, 5):(2, 4)\n",
      "complement(f)=(2, 4):(2, 5, 4, 5):(1, 3)\n"
     ]
    }
   ],
   "source": [
    "f = Tuple_morphism((5,5),(2,5,4,5),(2,4))\n",
    "f_complement = f.complement()\n",
    "print(f\"{'f':<13}={f}\")\n",
    "print(f\"{'complement(f)'}={f_complement}\")\n"
   ]
  },
  {
   "cell_type": "markdown",
   "id": "7aed0fed",
   "metadata": {},
   "source": [
    "### Restrict"
   ]
  },
  {
   "cell_type": "markdown",
   "id": "ccc98dfc",
   "metadata": {},
   "source": [
    "If $f:S \\to T$ is a tuple morphism, then we can restrict $f$ to any subtuple of $T$:"
   ]
  },
  {
   "cell_type": "code",
   "execution_count": 12,
   "id": "97bea6c7",
   "metadata": {},
   "outputs": [
    {
     "name": "stdout",
     "output_type": "stream",
     "text": [
      "(128, 128, 512):(4, 512, 128, 512, 128, 3):(3, 5, 2)\n",
      "(512, 3):(4, 512, 128, 512, 128, 3):(2, 6)\n",
      "(512,):(4, 512, 128, 512, 128, 3):(4,)\n",
      "():(4, 512, 128, 512, 128, 3):()\n"
     ]
    }
   ],
   "source": [
    "f = Tuple_morphism((128,128,512,512,3),(4,512,128,512,128,3),(3,5,2,4,6))\n",
    "print(f.restrict((1,2,3)))\n",
    "print(f.restrict((3,5)))\n",
    "print(f.restrict((4,)))\n",
    "print(f.restrict(()))"
   ]
  },
  {
   "cell_type": "markdown",
   "id": "d0e06481",
   "metadata": {},
   "source": [
    "### Factorize"
   ]
  },
  {
   "cell_type": "markdown",
   "id": "955e4360",
   "metadata": {},
   "source": [
    "If $f:S \\to T$ is a tuple morphism, then we can factor $f$ through any subtuple of $T$ which contains the image of $f$:"
   ]
  },
  {
   "cell_type": "code",
   "execution_count": 13,
   "id": "285333a8",
   "metadata": {},
   "outputs": [
    {
     "name": "stdout",
     "output_type": "stream",
     "text": [
      "(4, 4, 16):(4, 16, 4, 8):(3, 0, 2)\n",
      "(4, 4, 16):(16, 4):(2, 0, 1)\n"
     ]
    }
   ],
   "source": [
    "f = Tuple_morphism((4,4,16),(4,16,4,8,16),(3,0,2))\n",
    "print(f.factorize((1,2,3,4)))\n",
    "print(f.factorize((2,3)))"
   ]
  },
  {
   "cell_type": "markdown",
   "id": "cdcadc4c",
   "metadata": {},
   "source": [
    "### Flat division"
   ]
  },
  {
   "cell_type": "markdown",
   "id": "8b533958",
   "metadata": {},
   "source": [
    "Suppose $f: S \\to T$ is a tuple morphism. We say $g:U \\to S$ divides $f$ if $g$ is injective. In this case, we can form the flat division $f/g$ of $f$ by $g$."
   ]
  },
  {
   "cell_type": "code",
   "execution_count": 14,
   "id": "9ee4e8a3",
   "metadata": {},
   "outputs": [
    {
     "name": "stdout",
     "output_type": "stream",
     "text": [
      "f   =(2, 4, 2, 4, 2, 4):(2, 8, 4, 2, 8, 4):(1, 3, 4, 0, 0, 6)\n",
      "g   =(2, 2, 2):(2, 4, 2, 4, 2, 4):(1, 3, 5)\n",
      "f/g =(2, 2, 2, 4, 4, 4):(2, 8, 4, 2, 8, 4):(1, 4, 0, 3, 0, 6)\n"
     ]
    }
   ],
   "source": [
    "f = Tuple_morphism((2,4,2,4,2,4),(2,8,4,2,8,4),(1,3,4,0,0,6))\n",
    "g = Tuple_morphism((2,2,2),(2,4,2,4,2,4),(1,3,5))\n",
    "print(f\"{'f':4}={f}\")\n",
    "print(f\"{'g':4}={g}\")\n",
    "print(f\"{'f/g':4}={f.flat_divide(g)}\")\n"
   ]
  },
  {
   "cell_type": "markdown",
   "id": "bc58e398",
   "metadata": {},
   "source": [
    "### Flat products"
   ]
  },
  {
   "cell_type": "markdown",
   "id": "6f6757cb",
   "metadata": {},
   "source": [
    "Suppose $f:S \\to T$ is a tuple morphism. If $g:U \\to V$ is any tuple morphism whose codomain $V$ is equal to the domain of $\\text{complement}(f)$, then we can form the flat product $f \\times g$ of $f$ with $g$. "
   ]
  },
  {
   "cell_type": "code",
   "execution_count": 15,
   "id": "88354db5",
   "metadata": {},
   "outputs": [
    {
     "name": "stdout",
     "output_type": "stream",
     "text": [
      "(4,):(4, 4, 2, 4):(2,)\n",
      "(1, 4, 2, 4, 4):(4, 2, 4):(0, 1, 2, 0, 3)\n",
      "(4, 1, 4, 2, 4, 4):(4, 4, 2, 4):(2, 0, 1, 3, 0, 4)\n"
     ]
    }
   ],
   "source": [
    "f,g = random_Tuple_productable_morphisms()\n",
    "print(f)\n",
    "print(g)\n",
    "print(f.flat_product(g))\n"
   ]
  },
  {
   "cell_type": "markdown",
   "id": "8e5b029d",
   "metadata": {},
   "source": [
    "## Nested tuples"
   ]
  },
  {
   "cell_type": "markdown",
   "id": "957359a9",
   "metadata": {},
   "source": [
    "A nested tuple $S$ is either an integer, or a tuple of nested tuples. For example:"
   ]
  },
  {
   "cell_type": "code",
   "execution_count": 16,
   "id": "f7bda169",
   "metadata": {},
   "outputs": [
    {
     "name": "stdout",
     "output_type": "stream",
     "text": [
      "S_1 = 64\n",
      "S_2 = (8,8,32)\n",
      "S_3 = (((8)),(2,(2,2)))\n",
      "S_4 = (((),(5)),((),()))\n",
      "S_5 = ((6,7),(7,8),5)\n"
     ]
    }
   ],
   "source": [
    "S_1 = NestedTuple(64)\n",
    "S_2 = NestedTuple((8,8,32))\n",
    "S_3 = NestedTuple((((8,),),(2,(2,2))))\n",
    "S_4 = NestedTuple((((),(5,)),((()),())))\n",
    "S_5 = random_NestedTuple()\n",
    "print(\"S_1 =\",S_1)\n",
    "print(\"S_2 =\",S_2)\n",
    "print(\"S_3 =\",S_3)\n",
    "print(\"S_4 =\",S_4)\n",
    "print(\"S_5 =\",S_5)"
   ]
  },
  {
   "cell_type": "code",
   "execution_count": 17,
   "id": "71d64f54",
   "metadata": {},
   "outputs": [
    {
     "name": "stdout",
     "output_type": "stream",
     "text": [
      "(((((6),(4),(5))),4,4,(((1),(9)))),1):((4,1,4),4,6,2):(5, 4, 0, 3, 1, 0, 0, 2)\n"
     ]
    }
   ],
   "source": [
    "f = random_Nest_morphism()\n",
    "print(f)"
   ]
  },
  {
   "cell_type": "markdown",
   "id": "9a679479",
   "metadata": {},
   "source": [
    "Every nested tuple S has a length, a rank and a size. For example:"
   ]
  },
  {
   "cell_type": "code",
   "execution_count": 18,
   "id": "ab89e5f6",
   "metadata": {},
   "outputs": [
    {
     "name": "stdout",
     "output_type": "stream",
     "text": [
      "S          = ((16),((())),((2,4,(8,2))),(2,(2)))\n",
      "length(S)  = 7\n",
      "rank(S)    = 4\n",
      "size(S)    = 8192\n"
     ]
    }
   ],
   "source": [
    "S = NestedTuple(((16,),(((),),),((2,4,(8,2)),),(2,(2,))))\n",
    "print(f\"{'S':<10} = {S}\")\n",
    "print(f\"{'length(S)':<10} = {S.length()}\")\n",
    "print(f\"{'rank(S)':<10} = {S.rank()}\")\n",
    "print(f\"{'size(S)':<10} = {S.size()}\")\n",
    "\n"
   ]
  },
  {
   "cell_type": "markdown",
   "id": "4464d41d",
   "metadata": {},
   "source": [
    "Nested tuples have entries and modes. For example:"
   ]
  },
  {
   "cell_type": "code",
   "execution_count": 19,
   "id": "b670b46c",
   "metadata": {},
   "outputs": [
    {
     "name": "stdout",
     "output_type": "stream",
     "text": [
      "entry_1(S) = 16\n",
      "entry_2(S) = 2\n",
      "entry_3(S) = 4\n",
      "entry_4(S) = 8\n",
      "entry_5(S) = 2\n",
      "entry_6(S) = 2\n",
      "entry_7(S) = 2\n",
      "mode_1(S)  = (16)\n",
      "mode_2(S)  = ((()))\n",
      "mode_3(S)  = ((2,4,(8,2)))\n",
      "mode_4(S)  = (2,(2))\n"
     ]
    }
   ],
   "source": [
    "S = NestedTuple(((16,),(((),),),((2,4,(8,2)),),(2,(2,))))\n",
    "\n",
    "for i in range(1,S.length()+1):\n",
    "    print(f\"{'entry_'+str(i)+'(S)':<10} = {S.entry(i)}\")\n",
    "\n",
    "for i in range(1,S.rank()+1):\n",
    "    print(f\"{'mode_'+str(i)+'(S)':<10} = {S.mode(i)}\")"
   ]
  },
  {
   "cell_type": "markdown",
   "id": "5164250e",
   "metadata": {},
   "source": [
    "We can substitute the values of a nested tuple with any other list of values. For example: "
   ]
  },
  {
   "cell_type": "code",
   "execution_count": 20,
   "id": "e13ed6b5",
   "metadata": {},
   "outputs": [
    {
     "name": "stdout",
     "output_type": "stream",
     "text": [
      "((10),((())),((10,2,(2,5))),(5,(5)))\n"
     ]
    }
   ],
   "source": [
    "S = NestedTuple(((16,),(((),),),((2,4,(8,2)),),(2,(2,))))\n",
    "values = (10,10,2,2,5,5,5)\n",
    "print(S.sub(values))"
   ]
  },
  {
   "cell_type": "markdown",
   "id": "3827a22d",
   "metadata": {},
   "source": [
    "As a special case of this construction, the profile of a nested tuple is"
   ]
  },
  {
   "cell_type": "code",
   "execution_count": 21,
   "id": "67744779",
   "metadata": {},
   "outputs": [
    {
     "name": "stdout",
     "output_type": "stream",
     "text": [
      "((0),((())),((0,0,(0,0))),(0,(0)))\n"
     ]
    }
   ],
   "source": [
    "S = NestedTuple(((16,),(((),),),((2,4,(8,2)),),(2,(2,))))\n",
    "print(S.profile())"
   ]
  },
  {
   "cell_type": "markdown",
   "id": "b4409832",
   "metadata": {},
   "source": [
    "Informally, we say $S'$ refines $S$ if $S'$ can be obtained from $S$ by replacing entries with nested tuples of the same size. For example "
   ]
  },
  {
   "cell_type": "code",
   "execution_count": 22,
   "id": "9267f658",
   "metadata": {},
   "outputs": [
    {
     "name": "stdout",
     "output_type": "stream",
     "text": [
      "((2,2),(3,3),(5,5))\n",
      "(4,9,25)\n",
      "True\n",
      "((2,(2,2)),((5,5,5),((3,3),9)))\n",
      "(8,(125,81))\n",
      "True\n"
     ]
    }
   ],
   "source": [
    "Sprime = NestedTuple( ( (2,2), (3,3), (5,5) ) )\n",
    "S = NestedTuple( (4 , 9 , 25) ) \n",
    "print(Sprime)\n",
    "print(S)\n",
    "print(Sprime.refines(S))\n",
    "\n",
    "Tprime = NestedTuple( ( (2,(2,2)) , ((5,5,5), ((3,3),9))) )\n",
    "T = NestedTuple( (8, (125, 81)) )\n",
    "print(Tprime)\n",
    "print(T)\n",
    "print(Tprime.refines(T))"
   ]
  },
  {
   "cell_type": "markdown",
   "id": "a0e7daaf",
   "metadata": {},
   "source": [
    "## Nested tuple morphisms"
   ]
  },
  {
   "cell_type": "markdown",
   "id": "9d3aacd9",
   "metadata": {},
   "source": [
    "A nested tuple morphism $f:S \\to T$ is encoded as an object of the class Nest_morphism. For example:"
   ]
  },
  {
   "cell_type": "code",
   "execution_count": 23,
   "id": "46fcd41d",
   "metadata": {},
   "outputs": [
    {
     "name": "stdout",
     "output_type": "stream",
     "text": [
      "((2,(2,2)),(((3))),((),1024)):((1024,(2)),(2,(2)),(3,((3)))):(4, 2, 0, 6, 1)\n",
      "(((((6,1),(5))),(((9),(2,2),(5))),7)):(((2,8)),(1,4,6,9)):(0, 3, 0, 6, 1, 0, 0, 0)\n"
     ]
    }
   ],
   "source": [
    "S = NestedTuple(((2,(2,2)),(((3,),),),((),1024)))\n",
    "T = NestedTuple(((1024,(2,)),(2,(2,)),(3,((3,),)))) \n",
    "map = (4,2,0,6,1)\n",
    "f = Nest_morphism(S,T,map)\n",
    "print(f)\n",
    "\n",
    "g = random_Nest_morphism()\n",
    "print(g)"
   ]
  },
  {
   "cell_type": "markdown",
   "id": "12cde904",
   "metadata": {},
   "source": [
    "If $f$ is a nested tuple morphism, then we can compute the associated layout $L_f$:"
   ]
  },
  {
   "cell_type": "code",
   "execution_count": 24,
   "id": "fa10e3bf",
   "metadata": {},
   "outputs": [
    {
     "name": "stdout",
     "output_type": "stream",
     "text": [
      "L_f =  (((8,8),(16,16)),(32,32)):(((1,256),(0,2048)),(0,8))\n"
     ]
    }
   ],
   "source": [
    "@cute.jit\n",
    "def example():\n",
    "    f = Nest_morphism(domain   = NestedTuple( (((8,8),(16,16)), (32,32))),\n",
    "                       codomain = NestedTuple( (((8,),(32,)),((8,),(16,)))),\n",
    "                       map      = (1,3,0,4,0,2) )\n",
    "    L_f = compute_layout(f)\n",
    "    print(\"L_f = \",L_f)\n",
    "example()"
   ]
  },
  {
   "cell_type": "markdown",
   "id": "d46c2803",
   "metadata": {},
   "source": [
    "If $L$ is a layout, we can check if $L$ is tractable, and if so, produce a nested tuple morphism $f$ with $L_f = L$:"
   ]
  },
  {
   "cell_type": "code",
   "execution_count": 25,
   "id": "804587ac",
   "metadata": {},
   "outputs": [
    {
     "ename": "DSLAstPreprocessorError",
     "evalue": "DSLAstPreprocessorError: Early exit (raise) is not allowed in `compute_Nest_morphism`\n  File: /home/jack/repos/layout-categories/layout_utils.py\n  Snippet: \n if not is_tractable(layout):\n    raise ValueError('The given layout is not tractable.')\n\u001b[92m💡 Suggestions:\u001b[0m\n If predicates are constant expression, write like `if const_expr(...)` or `for ... in range_constexpr(...)`. In that case, early exit will be executed by Python interpreter, so it's supported.",
     "output_type": "error",
     "traceback": [
      "\u001b[31m---------------------------------------------------------------------------\u001b[39m",
      "\u001b[31mDSLAstPreprocessorError\u001b[39m                   Traceback (most recent call last)",
      "\u001b[36mCell\u001b[39m\u001b[36m \u001b[39m\u001b[32mIn[25]\u001b[39m\u001b[32m, line 8\u001b[39m\n\u001b[32m      6\u001b[39m     \u001b[38;5;28mprint\u001b[39m(\u001b[33mf\u001b[39m\u001b[33m\"\u001b[39m\u001b[38;5;132;01m{\u001b[39;00m\u001b[33m'\u001b[39m\u001b[33mL\u001b[39m\u001b[33m'\u001b[39m\u001b[38;5;132;01m:\u001b[39;00m\u001b[33m<4\u001b[39m\u001b[38;5;132;01m}\u001b[39;00m\u001b[33m= \u001b[39m\u001b[38;5;132;01m{\u001b[39;00mL\u001b[38;5;132;01m}\u001b[39;00m\u001b[33m\"\u001b[39m)\n\u001b[32m      7\u001b[39m     \u001b[38;5;28mprint\u001b[39m(\u001b[33mf\u001b[39m\u001b[33m\"\u001b[39m\u001b[38;5;132;01m{\u001b[39;00m\u001b[33m'\u001b[39m\u001b[33mL_f\u001b[39m\u001b[33m'\u001b[39m\u001b[38;5;132;01m:\u001b[39;00m\u001b[33m<4\u001b[39m\u001b[38;5;132;01m}\u001b[39;00m\u001b[33m= \u001b[39m\u001b[38;5;132;01m{\u001b[39;00mcompute_layout(f)\u001b[38;5;132;01m}\u001b[39;00m\u001b[33m\"\u001b[39m)\n\u001b[32m----> \u001b[39m\u001b[32m8\u001b[39m \u001b[43mexample\u001b[49m\u001b[43m(\u001b[49m\u001b[43m)\u001b[49m\n",
      "\u001b[36mFile \u001b[39m\u001b[32m~/.conda/envs/gp/lib/python3.12/site-packages/nvidia_cutlass_dsl/python_packages/cutlass/base_dsl/dsl.py:475\u001b[39m, in \u001b[36mBaseDSL.jit_runner.<locals>.jit_runner_decorator.<locals>.jit_wrapper\u001b[39m\u001b[34m(*args, **kwargs)\u001b[39m\n\u001b[32m    472\u001b[39m \u001b[38;5;129m@wraps\u001b[39m(func)\n\u001b[32m    473\u001b[39m \u001b[38;5;28;01mdef\u001b[39;00m\u001b[38;5;250m \u001b[39m\u001b[34mjit_wrapper\u001b[39m(*args, **kwargs):\n\u001b[32m    474\u001b[39m     func_ptr = BaseDSL._preprocess_and_execute(func)\n\u001b[32m--> \u001b[39m\u001b[32m475\u001b[39m     \u001b[38;5;28;01mreturn\u001b[39;00m \u001b[43mexecutor\u001b[49m\u001b[43m(\u001b[49m\u001b[43mfunc_ptr\u001b[49m\u001b[43m,\u001b[49m\u001b[43m \u001b[49m\u001b[43m*\u001b[49m\u001b[43margs\u001b[49m\u001b[43m,\u001b[49m\u001b[43m \u001b[49m\u001b[43m*\u001b[49m\u001b[43m*\u001b[49m\u001b[43mkwargs\u001b[49m\u001b[43m)\u001b[49m\n",
      "\u001b[36mFile \u001b[39m\u001b[32m~/.conda/envs/gp/lib/python3.12/site-packages/nvidia_cutlass_dsl/python_packages/cutlass/base_dsl/dsl.py:1400\u001b[39m, in \u001b[36mBaseDSL._func\u001b[39m\u001b[34m(self, funcBody, *args, **kwargs)\u001b[39m\n\u001b[32m   1398\u001b[39m \u001b[38;5;66;03m# Generate MLIR Context and start generating IR\u001b[39;00m\n\u001b[32m   1399\u001b[39m log().debug(\u001b[33mf\u001b[39m\u001b[33m\"\u001b[39m\u001b[33mGenerating MLIR for function \u001b[39m\u001b[33m'\u001b[39m\u001b[38;5;132;01m{\u001b[39;00mfunction_name\u001b[38;5;132;01m}\u001b[39;00m\u001b[33m'\u001b[39m\u001b[33m\"\u001b[39m)\n\u001b[32m-> \u001b[39m\u001b[32m1400\u001b[39m result = \u001b[38;5;28;43mself\u001b[39;49m\u001b[43m.\u001b[49m\u001b[43mgenerate_mlir\u001b[49m\u001b[43m(\u001b[49m\n\u001b[32m   1401\u001b[39m \u001b[43m    \u001b[49m\u001b[43mfuncBody\u001b[49m\u001b[43m,\u001b[49m\n\u001b[32m   1402\u001b[39m \u001b[43m    \u001b[49m\u001b[43mcanonicalized_kwargs\u001b[49m\u001b[43m,\u001b[49m\n\u001b[32m   1403\u001b[39m \u001b[43m    \u001b[49m\u001b[43mfunction_name\u001b[49m\u001b[43m,\u001b[49m\n\u001b[32m   1404\u001b[39m \u001b[43m    \u001b[49m\u001b[43mgpu_module_attrs\u001b[49m\u001b[43m,\u001b[49m\n\u001b[32m   1405\u001b[39m \u001b[43m    \u001b[49m\u001b[43mcanonicalized_args\u001b[49m\u001b[43m,\u001b[49m\n\u001b[32m   1406\u001b[39m \u001b[43m    \u001b[49m\u001b[43margs_spec\u001b[49m\u001b[43m,\u001b[49m\n\u001b[32m   1407\u001b[39m \u001b[43m    \u001b[49m\u001b[43mpipeline\u001b[49m\u001b[43m,\u001b[49m\n\u001b[32m   1408\u001b[39m \u001b[43m    \u001b[49m\u001b[43mno_cache\u001b[49m\u001b[43m,\u001b[49m\n\u001b[32m   1409\u001b[39m \u001b[43m    \u001b[49m\u001b[43mcompile_only\u001b[49m\u001b[43m,\u001b[49m\n\u001b[32m   1410\u001b[39m \u001b[43m\u001b[49m\u001b[43m)\u001b[49m\n\u001b[32m   1412\u001b[39m \u001b[38;5;28;01mreturn\u001b[39;00m result\n",
      "\u001b[36mFile \u001b[39m\u001b[32m~/.conda/envs/gp/lib/python3.12/site-packages/nvidia_cutlass_dsl/python_packages/cutlass/base_dsl/dsl.py:1224\u001b[39m, in \u001b[36mBaseDSL.generate_mlir\u001b[39m\u001b[34m(self, funcBody, kwargs, function_name, gpu_module_attrs, args, args_spec, pipeline, no_cache, compile_only, loc)\u001b[39m\n\u001b[32m   1219\u001b[39m exe_args, func_types, adapted_args = \u001b[38;5;28mself\u001b[39m.generate_mlir_function_types(\n\u001b[32m   1220\u001b[39m     funcBody, function_name, args, kwargs, args_spec\n\u001b[32m   1221\u001b[39m )\n\u001b[32m   1223\u001b[39m \u001b[38;5;66;03m# Generate original ir module and its hash value.\u001b[39;00m\n\u001b[32m-> \u001b[39m\u001b[32m1224\u001b[39m module, module_hash, result = \u001b[38;5;28;43mself\u001b[39;49m\u001b[43m.\u001b[49m\u001b[43mgenerate_original_ir\u001b[49m\u001b[43m(\u001b[49m\n\u001b[32m   1225\u001b[39m \u001b[43m    \u001b[49m\u001b[43mir\u001b[49m\u001b[43m,\u001b[49m\n\u001b[32m   1226\u001b[39m \u001b[43m    \u001b[49m\u001b[43mfunc\u001b[49m\u001b[43m,\u001b[49m\n\u001b[32m   1227\u001b[39m \u001b[43m    \u001b[49m\u001b[43mfuncBody\u001b[49m\u001b[43m,\u001b[49m\n\u001b[32m   1228\u001b[39m \u001b[43m    \u001b[49m\u001b[43mkwargs\u001b[49m\u001b[43m,\u001b[49m\n\u001b[32m   1229\u001b[39m \u001b[43m    \u001b[49m\u001b[43mfunction_name\u001b[49m\u001b[43m,\u001b[49m\n\u001b[32m   1230\u001b[39m \u001b[43m    \u001b[49m\u001b[43mfunc_types\u001b[49m\u001b[43m,\u001b[49m\n\u001b[32m   1231\u001b[39m \u001b[43m    \u001b[49m\u001b[43mgpu_module_attrs\u001b[49m\u001b[43m,\u001b[49m\n\u001b[32m   1232\u001b[39m \u001b[43m    \u001b[49m\u001b[43margs\u001b[49m\u001b[43m,\u001b[49m\n\u001b[32m   1233\u001b[39m \u001b[43m    \u001b[49m\u001b[43margs_spec\u001b[49m\u001b[43m,\u001b[49m\n\u001b[32m   1234\u001b[39m \u001b[43m\u001b[49m\u001b[43m)\u001b[49m\n\u001b[32m   1236\u001b[39m \u001b[38;5;66;03m# dryrun is used to only generate IR\u001b[39;00m\n\u001b[32m   1237\u001b[39m \u001b[38;5;28;01mif\u001b[39;00m \u001b[38;5;28mself\u001b[39m.envar.dryrun:\n",
      "\u001b[36mFile \u001b[39m\u001b[32m~/.conda/envs/gp/lib/python3.12/site-packages/nvidia_cutlass_dsl/python_packages/cutlass/base_dsl/dsl.py:1139\u001b[39m, in \u001b[36mBaseDSL.generate_original_ir\u001b[39m\u001b[34m(self, ir, func, funcBody, kwargs, function_name, func_types, gpu_module_attrs, args, args_spec)\u001b[39m\n\u001b[32m   1137\u001b[39m \u001b[38;5;66;03m# Build IR module\u001b[39;00m\n\u001b[32m   1138\u001b[39m profiler = timer(enable=\u001b[38;5;28mself\u001b[39m.envar.jitTimeProfiling)\n\u001b[32m-> \u001b[39m\u001b[32m1139\u001b[39m module, result = \u001b[43mprofiler\u001b[49m\u001b[43m(\u001b[49m\u001b[43mbuild_ir_module\u001b[49m\u001b[43m)\u001b[49m\u001b[43m(\u001b[49m\u001b[43m)\u001b[49m\n\u001b[32m   1140\u001b[39m module_hash = \u001b[38;5;28mself\u001b[39m.get_module_hash(module, function_name)\n\u001b[32m   1142\u001b[39m module = \u001b[38;5;28mself\u001b[39m.build_module(module, function_name)\n",
      "\u001b[36mFile \u001b[39m\u001b[32m~/.conda/envs/gp/lib/python3.12/site-packages/nvidia_cutlass_dsl/python_packages/cutlass/base_dsl/utils/timer.py:28\u001b[39m, in \u001b[36mtimer.<locals>.decorator.<locals>.func_wrapper\u001b[39m\u001b[34m(*args, **kwargs)\u001b[39m\n\u001b[32m     25\u001b[39m \u001b[38;5;129m@wraps\u001b[39m(func)\n\u001b[32m     26\u001b[39m \u001b[38;5;28;01mdef\u001b[39;00m\u001b[38;5;250m \u001b[39m\u001b[34mfunc_wrapper\u001b[39m(*args, **kwargs):\n\u001b[32m     27\u001b[39m     \u001b[38;5;28;01mif\u001b[39;00m \u001b[38;5;129;01mnot\u001b[39;00m enable:\n\u001b[32m---> \u001b[39m\u001b[32m28\u001b[39m         \u001b[38;5;28;01mreturn\u001b[39;00m \u001b[43mfunc\u001b[49m\u001b[43m(\u001b[49m\u001b[43m*\u001b[49m\u001b[43margs\u001b[49m\u001b[43m,\u001b[49m\u001b[43m \u001b[49m\u001b[43m*\u001b[49m\u001b[43m*\u001b[49m\u001b[43mkwargs\u001b[49m\u001b[43m)\u001b[49m\n\u001b[32m     29\u001b[39m     \u001b[38;5;28;01mfrom\u001b[39;00m\u001b[38;5;250m \u001b[39m\u001b[34;01mtime\u001b[39;00m\u001b[38;5;250m \u001b[39m\u001b[38;5;28;01mimport\u001b[39;00m time\n\u001b[32m     31\u001b[39m     start = time()\n",
      "\u001b[36mFile \u001b[39m\u001b[32m~/.conda/envs/gp/lib/python3.12/site-packages/nvidia_cutlass_dsl/python_packages/cutlass/base_dsl/dsl.py:1120\u001b[39m, in \u001b[36mBaseDSL.generate_original_ir.<locals>.build_ir_module\u001b[39m\u001b[34m()\u001b[39m\n\u001b[32m   1118\u001b[39m     func.ReturnOp([])\n\u001b[32m   1119\u001b[39m \u001b[38;5;28;01mexcept\u001b[39;00m DSLAstPreprocessorError \u001b[38;5;28;01mas\u001b[39;00m pp_error:\n\u001b[32m-> \u001b[39m\u001b[32m1120\u001b[39m     \u001b[38;5;28;01mraise\u001b[39;00m pp_error\n\u001b[32m   1121\u001b[39m \u001b[38;5;28;01mexcept\u001b[39;00m \u001b[38;5;167;01mNameError\u001b[39;00m \u001b[38;5;28;01mas\u001b[39;00m name_error:\n\u001b[32m   1122\u001b[39m     \u001b[38;5;28;01mraise\u001b[39;00m DSLRuntimeError(\n\u001b[32m   1123\u001b[39m         \u001b[33mf\u001b[39m\u001b[33m\"\u001b[39m\u001b[33m💥💥💥 Error during runtime code generation for function `\u001b[39m\u001b[38;5;132;01m{\u001b[39;00mfuncBody.\u001b[34m__name__\u001b[39m\u001b[38;5;132;01m}\u001b[39;00m\u001b[33m` 💥💥💥\u001b[39m\u001b[33m\"\u001b[39m,\n\u001b[32m   1124\u001b[39m         cause=name_error,\n\u001b[32m   1125\u001b[39m         suggestion=\u001b[33m\"\u001b[39m\u001b[33mUsing variables defined in dynamic control flow is not supported. Please give an initial value before control flow.\u001b[39m\u001b[33m\"\u001b[39m,\n\u001b[32m   1126\u001b[39m     )\n",
      "\u001b[36mFile \u001b[39m\u001b[32m~/.conda/envs/gp/lib/python3.12/site-packages/nvidia_cutlass_dsl/python_packages/cutlass/base_dsl/dsl.py:1117\u001b[39m, in \u001b[36mBaseDSL.generate_original_ir.<locals>.build_ir_module\u001b[39m\u001b[34m()\u001b[39m\n\u001b[32m   1115\u001b[39m \u001b[38;5;66;03m# Call user function body\u001b[39;00m\n\u001b[32m   1116\u001b[39m \u001b[38;5;28;01mtry\u001b[39;00m:\n\u001b[32m-> \u001b[39m\u001b[32m1117\u001b[39m     result = \u001b[43mfuncBody\u001b[49m\u001b[43m(\u001b[49m\u001b[43m*\u001b[49m\u001b[43mir_args\u001b[49m\u001b[43m,\u001b[49m\u001b[43m \u001b[49m\u001b[43m*\u001b[49m\u001b[43m*\u001b[49m\u001b[43mir_kwargs\u001b[49m\u001b[43m)\u001b[49m\n\u001b[32m   1118\u001b[39m     func.ReturnOp([])\n\u001b[32m   1119\u001b[39m \u001b[38;5;28;01mexcept\u001b[39;00m DSLAstPreprocessorError \u001b[38;5;28;01mas\u001b[39;00m pp_error:\n",
      "\u001b[36mFile \u001b[39m\u001b[32m~/.conda/envs/gp/lib/python3.12/site-packages/nvidia_cutlass_dsl/python_packages/cutlass/base_dsl/dsl.py:260\u001b[39m, in \u001b[36mDSLCallable.__call__\u001b[39m\u001b[34m(self, *args, **kwargs)\u001b[39m\n\u001b[32m    259\u001b[39m \u001b[38;5;28;01mdef\u001b[39;00m\u001b[38;5;250m \u001b[39m\u001b[34m__call__\u001b[39m(\u001b[38;5;28mself\u001b[39m, *args, **kwargs):\n\u001b[32m--> \u001b[39m\u001b[32m260\u001b[39m     ret = \u001b[38;5;28;43mself\u001b[39;49m\u001b[43m.\u001b[49m\u001b[34;43m__func__\u001b[39;49m\u001b[43m(\u001b[49m\u001b[43m*\u001b[49m\u001b[43margs\u001b[49m\u001b[43m,\u001b[49m\u001b[43m \u001b[49m\u001b[43m*\u001b[49m\u001b[43m*\u001b[49m\u001b[43mkwargs\u001b[49m\u001b[43m)\u001b[49m\n\u001b[32m    261\u001b[39m     \u001b[38;5;28mself\u001b[39m.func = \u001b[38;5;28;01mNone\u001b[39;00m\n\u001b[32m    262\u001b[39m     \u001b[38;5;28;01mreturn\u001b[39;00m ret\n",
      "\u001b[36mCell\u001b[39m\u001b[36m \u001b[39m\u001b[32mIn[25]\u001b[39m\u001b[32m, line 4\u001b[39m, in \u001b[36mexample\u001b[39m\u001b[34m()\u001b[39m\n\u001b[32m      1\u001b[39m \u001b[38;5;129m@cute\u001b[39m.jit\n\u001b[32m      2\u001b[39m \u001b[38;5;28;01mdef\u001b[39;00m\u001b[38;5;250m \u001b[39m\u001b[34mexample\u001b[39m():\n\u001b[32m      3\u001b[39m     L = cute.make_layout((\u001b[32m2\u001b[39m,((),),(\u001b[32m2\u001b[39m,\u001b[32m2\u001b[39m)),stride = (\u001b[32m8\u001b[39m,((),),(\u001b[32m2\u001b[39m,\u001b[32m512\u001b[39m)))\n\u001b[32m----> \u001b[39m\u001b[32m4\u001b[39m     f = \u001b[43mcompute_Nest_morphism\u001b[49m\u001b[43m(\u001b[49m\u001b[43mL\u001b[49m\u001b[43m)\u001b[49m\n\u001b[32m      5\u001b[39m     \u001b[38;5;28mprint\u001b[39m(f)\n\u001b[32m      6\u001b[39m     \u001b[38;5;28mprint\u001b[39m(\u001b[33mf\u001b[39m\u001b[33m\"\u001b[39m\u001b[38;5;132;01m{\u001b[39;00m\u001b[33m'\u001b[39m\u001b[33mL\u001b[39m\u001b[33m'\u001b[39m\u001b[38;5;132;01m:\u001b[39;00m\u001b[33m<4\u001b[39m\u001b[38;5;132;01m}\u001b[39;00m\u001b[33m= \u001b[39m\u001b[38;5;132;01m{\u001b[39;00mL\u001b[38;5;132;01m}\u001b[39;00m\u001b[33m\"\u001b[39m)\n",
      "\u001b[36mFile \u001b[39m\u001b[32m~/.conda/envs/gp/lib/python3.12/site-packages/nvidia_cutlass_dsl/python_packages/cutlass/base_dsl/dsl.py:474\u001b[39m, in \u001b[36mBaseDSL.jit_runner.<locals>.jit_runner_decorator.<locals>.jit_wrapper\u001b[39m\u001b[34m(*args, **kwargs)\u001b[39m\n\u001b[32m    472\u001b[39m \u001b[38;5;129m@wraps\u001b[39m(func)\n\u001b[32m    473\u001b[39m \u001b[38;5;28;01mdef\u001b[39;00m\u001b[38;5;250m \u001b[39m\u001b[34mjit_wrapper\u001b[39m(*args, **kwargs):\n\u001b[32m--> \u001b[39m\u001b[32m474\u001b[39m     func_ptr = \u001b[43mBaseDSL\u001b[49m\u001b[43m.\u001b[49m\u001b[43m_preprocess_and_execute\u001b[49m\u001b[43m(\u001b[49m\u001b[43mfunc\u001b[49m\u001b[43m)\u001b[49m\n\u001b[32m    475\u001b[39m     \u001b[38;5;28;01mreturn\u001b[39;00m executor(func_ptr, *args, **kwargs)\n",
      "\u001b[36mFile \u001b[39m\u001b[32m~/.conda/envs/gp/lib/python3.12/site-packages/nvidia_cutlass_dsl/python_packages/cutlass/base_dsl/dsl.py:443\u001b[39m, in \u001b[36mBaseDSL._preprocess_and_execute\u001b[39m\u001b[34m(func)\u001b[39m\n\u001b[32m    441\u001b[39m func._dsl_object.frame = func._decorator_frame\n\u001b[32m    442\u001b[39m \u001b[38;5;28;01mif\u001b[39;00m func._transformed_ast \u001b[38;5;129;01mis\u001b[39;00m \u001b[38;5;28;01mNone\u001b[39;00m:\n\u001b[32m--> \u001b[39m\u001b[32m443\u001b[39m     func._transformed_ast = \u001b[43mfunc\u001b[49m\u001b[43m.\u001b[49m\u001b[43m_dsl_object\u001b[49m\u001b[43m.\u001b[49m\u001b[43mrun_preprocessor\u001b[49m\u001b[43m(\u001b[49m\u001b[43mfunc\u001b[49m\u001b[43m)\u001b[49m\n\u001b[32m    444\u001b[39m     \u001b[38;5;28;01mif\u001b[39;00m func._transformed_ast \u001b[38;5;129;01mis\u001b[39;00m \u001b[38;5;28;01mNone\u001b[39;00m:\n\u001b[32m    445\u001b[39m         \u001b[38;5;28;01mdel\u001b[39;00m func._transformed_ast\n",
      "\u001b[36mFile \u001b[39m\u001b[32m~/.conda/envs/gp/lib/python3.12/site-packages/nvidia_cutlass_dsl/python_packages/cutlass/base_dsl/dsl.py:1273\u001b[39m, in \u001b[36mBaseDSL.run_preprocessor\u001b[39m\u001b[34m(self, funcBody)\u001b[39m\n\u001b[32m   1271\u001b[39m log().info(\u001b[33m\"\u001b[39m\u001b[33mStarted preprocessing [\u001b[39m\u001b[38;5;132;01m%s\u001b[39;00m\u001b[33m]\u001b[39m\u001b[33m\"\u001b[39m, function_name)\n\u001b[32m   1272\u001b[39m exec_globals = \u001b[38;5;28mself\u001b[39m._get_globals()\n\u001b[32m-> \u001b[39m\u001b[32m1273\u001b[39m transformed_ast = \u001b[38;5;28;43mself\u001b[39;49m\u001b[43m.\u001b[49m\u001b[43mpreprocessor\u001b[49m\u001b[43m.\u001b[49m\u001b[43mtransform\u001b[49m\u001b[43m(\u001b[49m\u001b[43mfuncBody\u001b[49m\u001b[43m,\u001b[49m\u001b[43m \u001b[49m\u001b[43mexec_globals\u001b[49m\u001b[43m)\u001b[49m\n\u001b[32m   1274\u001b[39m \u001b[38;5;28;01mif\u001b[39;00m \u001b[38;5;28mself\u001b[39m.envar.print_after_preprocessor:\n\u001b[32m   1275\u001b[39m     log().info(\n\u001b[32m   1276\u001b[39m         \u001b[33mf\u001b[39m\u001b[33m\"\u001b[39m\u001b[33m# Printing unparsed AST after preprocess of func=`\u001b[39m\u001b[38;5;132;01m{\u001b[39;00mfunction_name\u001b[38;5;132;01m}\u001b[39;00m\u001b[33m` id=`\u001b[39m\u001b[38;5;132;01m{\u001b[39;00m\u001b[38;5;28mid\u001b[39m(funcBody)\u001b[38;5;132;01m}\u001b[39;00m\u001b[33m`\u001b[39m\u001b[33m\"\u001b[39m\n\u001b[32m   1277\u001b[39m     )\n",
      "\u001b[36mFile \u001b[39m\u001b[32m~/.conda/envs/gp/lib/python3.12/site-packages/nvidia_cutlass_dsl/python_packages/cutlass/base_dsl/ast_preprocessor.py:380\u001b[39m, in \u001b[36mDSLPreprocessor.transform\u001b[39m\u001b[34m(self, original_function, exec_globals)\u001b[39m\n\u001b[32m    378\u001b[39m \u001b[38;5;28mself\u001b[39m.file_name = inspect.getsourcefile(original_function)\n\u001b[32m    379\u001b[39m \u001b[38;5;28mself\u001b[39m.function_globals = exec_globals\n\u001b[32m--> \u001b[39m\u001b[32m380\u001b[39m transformed_tree = \u001b[38;5;28;43mself\u001b[39;49m\u001b[43m.\u001b[49m\u001b[43mtransform_function\u001b[49m\u001b[43m(\u001b[49m\n\u001b[32m    381\u001b[39m \u001b[43m    \u001b[49m\u001b[43moriginal_function\u001b[49m\u001b[43m.\u001b[49m\u001b[34;43m__name__\u001b[39;49m\u001b[43m,\u001b[49m\u001b[43m \u001b[49m\u001b[43moriginal_function\u001b[49m\n\u001b[32m    382\u001b[39m \u001b[43m\u001b[49m\u001b[43m)\u001b[49m\n\u001b[32m    383\u001b[39m \u001b[38;5;28mself\u001b[39m.function_globals = \u001b[38;5;28;01mNone\u001b[39;00m\n\u001b[32m    384\u001b[39m unified_tree = ast.Module(body=transformed_tree, type_ignores=[])\n",
      "\u001b[36mFile \u001b[39m\u001b[32m~/.conda/envs/gp/lib/python3.12/site-packages/nvidia_cutlass_dsl/python_packages/cutlass/base_dsl/ast_preprocessor.py:269\u001b[39m, in \u001b[36mDSLPreprocessor.transform_function\u001b[39m\u001b[34m(self, func_name, function_pointer)\u001b[39m\n\u001b[32m    266\u001b[39m log().info(\u001b[33m\"\u001b[39m\u001b[33mASTPreprocessor Transforming function [\u001b[39m\u001b[38;5;132;01m%s\u001b[39;00m\u001b[33m]\u001b[39m\u001b[33m\"\u001b[39m, func_name)\n\u001b[32m    268\u001b[39m \u001b[38;5;66;03m# Step 2. Transform the function\u001b[39;00m\n\u001b[32m--> \u001b[39m\u001b[32m269\u001b[39m transformed_tree = \u001b[38;5;28;43mself\u001b[39;49m\u001b[43m.\u001b[49m\u001b[43mvisit\u001b[49m\u001b[43m(\u001b[49m\u001b[43mtree\u001b[49m\u001b[43m)\u001b[49m\n\u001b[32m    270\u001b[39m ast.fix_missing_locations(transformed_tree)\n\u001b[32m    271\u001b[39m combined_body = transformed_tree.body\n",
      "\u001b[36mFile \u001b[39m\u001b[32m~/.conda/envs/gp/lib/python3.12/ast.py:407\u001b[39m, in \u001b[36mNodeVisitor.visit\u001b[39m\u001b[34m(self, node)\u001b[39m\n\u001b[32m    405\u001b[39m method = \u001b[33m'\u001b[39m\u001b[33mvisit_\u001b[39m\u001b[33m'\u001b[39m + node.\u001b[34m__class__\u001b[39m.\u001b[34m__name__\u001b[39m\n\u001b[32m    406\u001b[39m visitor = \u001b[38;5;28mgetattr\u001b[39m(\u001b[38;5;28mself\u001b[39m, method, \u001b[38;5;28mself\u001b[39m.generic_visit)\n\u001b[32m--> \u001b[39m\u001b[32m407\u001b[39m \u001b[38;5;28;01mreturn\u001b[39;00m \u001b[43mvisitor\u001b[49m\u001b[43m(\u001b[49m\u001b[43mnode\u001b[49m\u001b[43m)\u001b[49m\n",
      "\u001b[36mFile \u001b[39m\u001b[32m~/.conda/envs/gp/lib/python3.12/ast.py:483\u001b[39m, in \u001b[36mNodeTransformer.generic_visit\u001b[39m\u001b[34m(self, node)\u001b[39m\n\u001b[32m    481\u001b[39m \u001b[38;5;28;01mfor\u001b[39;00m value \u001b[38;5;129;01min\u001b[39;00m old_value:\n\u001b[32m    482\u001b[39m     \u001b[38;5;28;01mif\u001b[39;00m \u001b[38;5;28misinstance\u001b[39m(value, AST):\n\u001b[32m--> \u001b[39m\u001b[32m483\u001b[39m         value = \u001b[38;5;28;43mself\u001b[39;49m\u001b[43m.\u001b[49m\u001b[43mvisit\u001b[49m\u001b[43m(\u001b[49m\u001b[43mvalue\u001b[49m\u001b[43m)\u001b[49m\n\u001b[32m    484\u001b[39m         \u001b[38;5;28;01mif\u001b[39;00m value \u001b[38;5;129;01mis\u001b[39;00m \u001b[38;5;28;01mNone\u001b[39;00m:\n\u001b[32m    485\u001b[39m             \u001b[38;5;28;01mcontinue\u001b[39;00m\n",
      "\u001b[36mFile \u001b[39m\u001b[32m~/.conda/envs/gp/lib/python3.12/ast.py:407\u001b[39m, in \u001b[36mNodeVisitor.visit\u001b[39m\u001b[34m(self, node)\u001b[39m\n\u001b[32m    405\u001b[39m method = \u001b[33m'\u001b[39m\u001b[33mvisit_\u001b[39m\u001b[33m'\u001b[39m + node.\u001b[34m__class__\u001b[39m.\u001b[34m__name__\u001b[39m\n\u001b[32m    406\u001b[39m visitor = \u001b[38;5;28mgetattr\u001b[39m(\u001b[38;5;28mself\u001b[39m, method, \u001b[38;5;28mself\u001b[39m.generic_visit)\n\u001b[32m--> \u001b[39m\u001b[32m407\u001b[39m \u001b[38;5;28;01mreturn\u001b[39;00m \u001b[43mvisitor\u001b[49m\u001b[43m(\u001b[49m\u001b[43mnode\u001b[49m\u001b[43m)\u001b[49m\n",
      "\u001b[36mFile \u001b[39m\u001b[32m~/.conda/envs/gp/lib/python3.12/site-packages/nvidia_cutlass_dsl/python_packages/cutlass/base_dsl/ast_preprocessor.py:1190\u001b[39m, in \u001b[36mDSLPreprocessor.visit_FunctionDef\u001b[39m\u001b[34m(self, node)\u001b[39m\n\u001b[32m   1187\u001b[39m     \u001b[38;5;28;01mfor\u001b[39;00m arg \u001b[38;5;129;01min\u001b[39;00m node.args.args:\n\u001b[32m   1188\u001b[39m         \u001b[38;5;28mself\u001b[39m.scope_manager.add_to_scope(arg.arg)\n\u001b[32m-> \u001b[39m\u001b[32m1190\u001b[39m     \u001b[38;5;28;43mself\u001b[39;49m\u001b[43m.\u001b[49m\u001b[43mgeneric_visit\u001b[49m\u001b[43m(\u001b[49m\u001b[43mnode\u001b[49m\u001b[43m)\u001b[49m\n\u001b[32m   1192\u001b[39m \u001b[38;5;28mself\u001b[39m.function_depth -= \u001b[32m1\u001b[39m\n\u001b[32m   1194\u001b[39m \u001b[38;5;66;03m# Remove .jit and .kernel decorators\u001b[39;00m\n",
      "\u001b[36mFile \u001b[39m\u001b[32m~/.conda/envs/gp/lib/python3.12/ast.py:483\u001b[39m, in \u001b[36mNodeTransformer.generic_visit\u001b[39m\u001b[34m(self, node)\u001b[39m\n\u001b[32m    481\u001b[39m \u001b[38;5;28;01mfor\u001b[39;00m value \u001b[38;5;129;01min\u001b[39;00m old_value:\n\u001b[32m    482\u001b[39m     \u001b[38;5;28;01mif\u001b[39;00m \u001b[38;5;28misinstance\u001b[39m(value, AST):\n\u001b[32m--> \u001b[39m\u001b[32m483\u001b[39m         value = \u001b[38;5;28;43mself\u001b[39;49m\u001b[43m.\u001b[49m\u001b[43mvisit\u001b[49m\u001b[43m(\u001b[49m\u001b[43mvalue\u001b[49m\u001b[43m)\u001b[49m\n\u001b[32m    484\u001b[39m         \u001b[38;5;28;01mif\u001b[39;00m value \u001b[38;5;129;01mis\u001b[39;00m \u001b[38;5;28;01mNone\u001b[39;00m:\n\u001b[32m    485\u001b[39m             \u001b[38;5;28;01mcontinue\u001b[39;00m\n",
      "\u001b[36mFile \u001b[39m\u001b[32m~/.conda/envs/gp/lib/python3.12/ast.py:407\u001b[39m, in \u001b[36mNodeVisitor.visit\u001b[39m\u001b[34m(self, node)\u001b[39m\n\u001b[32m    405\u001b[39m method = \u001b[33m'\u001b[39m\u001b[33mvisit_\u001b[39m\u001b[33m'\u001b[39m + node.\u001b[34m__class__\u001b[39m.\u001b[34m__name__\u001b[39m\n\u001b[32m    406\u001b[39m visitor = \u001b[38;5;28mgetattr\u001b[39m(\u001b[38;5;28mself\u001b[39m, method, \u001b[38;5;28mself\u001b[39m.generic_visit)\n\u001b[32m--> \u001b[39m\u001b[32m407\u001b[39m \u001b[38;5;28;01mreturn\u001b[39;00m \u001b[43mvisitor\u001b[49m\u001b[43m(\u001b[49m\u001b[43mnode\u001b[49m\u001b[43m)\u001b[49m\n",
      "\u001b[36mFile \u001b[39m\u001b[32m~/.conda/envs/gp/lib/python3.12/site-packages/nvidia_cutlass_dsl/python_packages/cutlass/base_dsl/ast_preprocessor.py:1351\u001b[39m, in \u001b[36mDSLPreprocessor.visit_If\u001b[39m\u001b[34m(self, node)\u001b[39m\n\u001b[32m   1348\u001b[39m     \u001b[38;5;28;01mreturn\u001b[39;00m node\n\u001b[32m   1350\u001b[39m \u001b[38;5;66;03m# Check for early exit and raise exception\u001b[39;00m\n\u001b[32m-> \u001b[39m\u001b[32m1351\u001b[39m \u001b[38;5;28;43mself\u001b[39;49m\u001b[43m.\u001b[49m\u001b[43mcheck_early_exit\u001b[49m\u001b[43m(\u001b[49m\u001b[43mnode\u001b[49m\u001b[43m,\u001b[49m\u001b[43m \u001b[49m\u001b[33;43m\"\u001b[39;49m\u001b[33;43mif\u001b[39;49m\u001b[33;43m\"\u001b[39;49m\u001b[43m)\u001b[49m\n\u001b[32m   1353\u001b[39m used_args, yield_args, flat_args = \u001b[38;5;28mself\u001b[39m.analyze_region_variables(\n\u001b[32m   1354\u001b[39m     node, active_symbols\n\u001b[32m   1355\u001b[39m )\n\u001b[32m   1356\u001b[39m func_name = \u001b[33mf\u001b[39m\u001b[33m\"\u001b[39m\u001b[33mif_region_\u001b[39m\u001b[38;5;132;01m{\u001b[39;00m\u001b[38;5;28mself\u001b[39m.counter\u001b[38;5;132;01m}\u001b[39;00m\u001b[33m\"\u001b[39m\n",
      "\u001b[36mFile \u001b[39m\u001b[32m~/.conda/envs/gp/lib/python3.12/site-packages/nvidia_cutlass_dsl/python_packages/cutlass/base_dsl/ast_preprocessor.py:327\u001b[39m, in \u001b[36mDSLPreprocessor.check_early_exit\u001b[39m\u001b[34m(self, tree, kind)\u001b[39m\n\u001b[32m    325\u001b[39m \u001b[38;5;28;01mif\u001b[39;00m \u001b[38;5;129;01mnot\u001b[39;00m checker.has_early_exit:\n\u001b[32m    326\u001b[39m     \u001b[38;5;28;01mreturn\u001b[39;00m\n\u001b[32m--> \u001b[39m\u001b[32m327\u001b[39m \u001b[38;5;28;01mraise\u001b[39;00m DSLAstPreprocessorError(\n\u001b[32m    328\u001b[39m     message=\u001b[33mf\u001b[39m\u001b[33m\"\u001b[39m\u001b[33mEarly exit (\u001b[39m\u001b[38;5;132;01m{\u001b[39;00mchecker.early_exit_type\u001b[38;5;132;01m}\u001b[39;00m\u001b[33m) is not allowed in `\u001b[39m\u001b[38;5;132;01m{\u001b[39;00m\u001b[38;5;28mself\u001b[39m.function_name\u001b[38;5;132;01m}\u001b[39;00m\u001b[33m`\u001b[39m\u001b[33m\"\u001b[39m\n\u001b[32m    329\u001b[39m     + (\u001b[33mf\u001b[39m\u001b[33m\"\u001b[39m\u001b[33m in `\u001b[39m\u001b[38;5;132;01m{\u001b[39;00m\u001b[38;5;28mself\u001b[39m.class_name\u001b[38;5;132;01m}\u001b[39;00m\u001b[33m`\u001b[39m\u001b[33m\"\u001b[39m \u001b[38;5;28;01mif\u001b[39;00m \u001b[38;5;28mself\u001b[39m.class_name \u001b[38;5;28;01melse\u001b[39;00m \u001b[33m\"\u001b[39m\u001b[33m\"\u001b[39m),\n\u001b[32m    330\u001b[39m     filename=\u001b[38;5;28mself\u001b[39m.file_name,\n\u001b[32m    331\u001b[39m     snippet=ast.unparse(tree),\n\u001b[32m    332\u001b[39m     suggestion=(\n\u001b[32m    333\u001b[39m         \u001b[33m\"\u001b[39m\u001b[33mIf predicates are constant expression, write like \u001b[39m\u001b[33m\"\u001b[39m\n\u001b[32m    334\u001b[39m         \u001b[33m\"\u001b[39m\u001b[33m`if const_expr(...)` or `for ... in range_constexpr(...)`. \u001b[39m\u001b[33m\"\u001b[39m\n\u001b[32m    335\u001b[39m         \u001b[33m\"\u001b[39m\u001b[33mIn that case, early exit will be executed by Python \u001b[39m\u001b[33m\"\u001b[39m\n\u001b[32m    336\u001b[39m         \u001b[33m\"\u001b[39m\u001b[33minterpreter, so it\u001b[39m\u001b[33m'\u001b[39m\u001b[33ms supported.\u001b[39m\u001b[33m\"\u001b[39m\n\u001b[32m    337\u001b[39m     ),\n\u001b[32m    338\u001b[39m )\n",
      "\u001b[31mDSLAstPreprocessorError\u001b[39m: DSLAstPreprocessorError: Early exit (raise) is not allowed in `compute_Nest_morphism`\n  File: /home/jack/repos/layout-categories/layout_utils.py\n  Snippet: \n if not is_tractable(layout):\n    raise ValueError('The given layout is not tractable.')\n\u001b[92m💡 Suggestions:\u001b[0m\n If predicates are constant expression, write like `if const_expr(...)` or `for ... in range_constexpr(...)`. In that case, early exit will be executed by Python interpreter, so it's supported."
     ]
    }
   ],
   "source": [
    "@cute.jit\n",
    "def example():\n",
    "    L = cute.make_layout((2,((),),(2,2)),stride = (8,((),),(2,512)))\n",
    "    f = compute_Nest_morphism(L)\n",
    "    print(f)\n",
    "    print(f\"{'L':<4}= {L}\")\n",
    "    print(f\"{'L_f':<4}= {compute_layout(f)}\")\n",
    "example()"
   ]
  }
 ],
 "metadata": {
  "kernelspec": {
   "display_name": "gp",
   "language": "python",
   "name": "python3"
  },
  "language_info": {
   "codemirror_mode": {
    "name": "ipython",
    "version": 3
   },
   "file_extension": ".py",
   "mimetype": "text/x-python",
   "name": "python",
   "nbconvert_exporter": "python",
   "pygments_lexer": "ipython3",
   "version": "3.12.11"
  }
 },
 "nbformat": 4,
 "nbformat_minor": 5
}
