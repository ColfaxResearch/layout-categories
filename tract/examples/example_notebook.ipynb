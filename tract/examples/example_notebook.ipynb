{
 "cells": [
  {
   "cell_type": "code",
   "execution_count": 118,
   "id": "9106d1fa",
   "metadata": {},
   "outputs": [],
   "source": [
    "import cutlass\n",
    "import cutlass.cute as cute\n",
    "\n",
    "import tract\n",
    "from tract.categories import Nest_morphism, NestedTuple, Tuple_morphism, Tuple\n",
    "from tract.test_utils import *\n",
    "from tract.layout_utils import *"
   ]
  },
  {
   "cell_type": "markdown",
   "id": "e1393d48",
   "metadata": {},
   "source": [
    "# Categorical Foundations for CuTe Layouts"
   ]
  },
  {
   "cell_type": "markdown",
   "id": "b1b15fff",
   "metadata": {},
   "source": [
    "## Introduction"
   ]
  },
  {
   "cell_type": "markdown",
   "id": "9dcd6d27",
   "metadata": {},
   "source": [
    "In GPU programming, performance depends critically on how data is stored and accessed in memory. While the data we care about is typically multi-dimensional, the GPU’s memory is fundamentally one-dimensional. This means that when we want to load, store, or otherwise manipulate data, we need to map its multi-dimensional logical coordinates to one-dimensional physical coordinates. This mapping, known as a layout, is essential for reading from and writing to memory correctly and efficiently. Moreover, with respect to the GPU’s SIMT execution model, layouts are used to describe and manipulate partitionings of threads over data. This is important to ensure optimized memory access patterns and correct invocation of specialized hardware instructions, such as those used to target tensor cores.\n",
    "\n",
    "CUTLASS pioneered a novel approach to layouts that both features shape and stride tuples of arbitrary nesting and depth, and a “layout algebra” formed out of certain fundamental operations, such as composition, complementation, logical division and logical product. These CuTe layouts are incredibly expressive, allowing one to describe partitioning patterns for all generations of tensor core instructions, for example. They are also fascinating from a mathematical perspective, since they feature an unusual and subtle notion of function composition that demands a theoretical explanation.\n",
    "\n",
    "In a new paper, we develop a robust mathematical theory underlying this approach, connecting CuTe layouts and their algebra to the theory of categories and operads and developing a new graphical calculus of layout diagrams for computing their operations. A pdf copy of our paper is linkedin the companion blog post, which may be found [here](https://research.colfax-intl.com/categorical-foundations-for-cute-layouts/).\n",
    "\n",
    "In this notebook, we illustrate how to use the module tract to work with morphisms in the categories **Tuple** and **Nest**. "
   ]
  },
  {
   "cell_type": "markdown",
   "id": "cd3bc54d",
   "metadata": {},
   "source": [
    "## Constructing tuples and nested tuples"
   ]
  },
  {
   "cell_type": "code",
   "execution_count": 119,
   "id": "b88def9d",
   "metadata": {},
   "outputs": [
    {
     "name": "stdout",
     "output_type": "stream",
     "text": [
      "S = (2, 2, 2)\n",
      "T = ((2, 2), (5, 5))\n",
      "U = ((2, 2), 4, (9, (3, 3)))\n"
     ]
    }
   ],
   "source": [
    "S = (2,2,2)\n",
    "T = ((2,2),(5,5))\n",
    "U = ((2,2),4,(9,(3,3)))\n",
    "print(\"S =\", S)\n",
    "print(\"T =\", T)\n",
    "print(\"U =\", U)"
   ]
  },
  {
   "cell_type": "markdown",
   "id": "f7aaf362",
   "metadata": {},
   "source": [
    "To create tuples of length 1, we must include a trailing comma:"
   ]
  },
  {
   "cell_type": "code",
   "execution_count": 120,
   "id": "602d2528",
   "metadata": {},
   "outputs": [
    {
     "name": "stdout",
     "output_type": "stream",
     "text": [
      "S = (10,)\n",
      "T = 10\n"
     ]
    }
   ],
   "source": [
    "S = (10,)\n",
    "T = (10)\n",
    "print(\"S =\", S)\n",
    "print(\"T =\", T)"
   ]
  },
  {
   "cell_type": "markdown",
   "id": "a3955790",
   "metadata": {},
   "source": [
    "## Constructing layouts and morphisms"
   ]
  },
  {
   "cell_type": "markdown",
   "id": "421d4d4d",
   "metadata": {},
   "source": [
    "We construct layouts $L = S : D$ in `cute` as `L = cute.make_layout(shape=S, stride=D)`, as seen in these examples."
   ]
  },
  {
   "cell_type": "code",
   "execution_count": 121,
   "id": "5e1dbdfc",
   "metadata": {},
   "outputs": [
    {
     "name": "stdout",
     "output_type": "stream",
     "text": [
      "A = ((4,4),4):((16,1),4)\n",
      "B = (8,64):(64,1)\n",
      "C = 100:2\n"
     ]
    }
   ],
   "source": [
    "@cute.jit\n",
    "def construct_example_layouts():\n",
    "    A = cute.make_layout(shape=((4,4),4), stride=((16,1),4))\n",
    "    B = cute.make_layout(shape=(8,64), stride=(64,1))\n",
    "    C = cute.make_layout(shape=100, stride=2)\n",
    "    print(\"A =\", A)\n",
    "    print(\"B =\", B)\n",
    "    print(\"C =\", C)\n",
    "construct_example_layouts()"
   ]
  },
  {
   "cell_type": "markdown",
   "id": "4faeaca8",
   "metadata": {},
   "source": [
    "We construct a nested tuple morphism \n",
    "$$\n",
    "f: S \\to T\n",
    "$$\n",
    "lying over $\\alpha$\n",
    "in `tract` by specifying `f = tract.make_morphism(domain=S, codomain=T, map=alpha)`"
   ]
  },
  {
   "cell_type": "code",
   "execution_count": 122,
   "id": "784f401d",
   "metadata": {},
   "outputs": [
    {
     "name": "stdout",
     "output_type": "stream",
     "text": [
      "f  = (4,4) --(1, 3)--> (4,2,4)\n",
      "g  = (2,2,2,2) --(1, 0, 4, 2)--> (2,2,2,2)\n",
      "h  = (16,(4,4),(4,4)) --(1, 2, 0, 3, 0)--> (16,4,4)\n",
      "k  = 6 --(1,)--> 6\n"
     ]
    }
   ],
   "source": [
    "f = tract.make_morphism(domain=(4,4), codomain=(4,2,4), map=(1,3))\n",
    "g = tract.make_morphism(domain=(2,2,2,2), codomain=(2,2,2,2), map=(1,0,4,2))\n",
    "h = tract.make_morphism(domain=(16,(4,4),(4,4)), codomain=(16,4,4), map=(1,2,0,3,0))\n",
    "k = tract.random_Nest_morphism(min_value = 2, max_value = 16, max_length = 4)\n",
    "print(f\"{'f':<3}= {f}\")\n",
    "print(f\"{'g':<3}= {g}\")\n",
    "print(f\"{'h':<3}= {h}\")\n",
    "print(f\"{'k':<3}= {k}\")"
   ]
  },
  {
   "cell_type": "markdown",
   "id": "306c3818",
   "metadata": {},
   "source": [
    "## Translating between tractable layouts and morphisms"
   ]
  },
  {
   "cell_type": "markdown",
   "id": "48ae292f",
   "metadata": {},
   "source": [
    "We define an ordering $\\preceq$ on integer pairs $s:d$ by \n",
    "\n",
    "$$s:d \\preceq s':d' \\quad \\Leftrightarrow \\quad d<d'\\text{ or } d = d' \\text{ and } s \\leq s'$$\n",
    "Suppose $L$ is a layout, and write $L^\\flat = (s_1,\\dots,s_m):(d_1,\\dots,d_m)$ for its flattening. We say $L$ is **tractable** if for any $1 \\leq i,j \\leq  m$, the following condition holds:\n",
    "$$\\text{ if }s_i:d_i \\preceq s_j,d_j\\text{ and }d_i,d_j \\neq 0\\text{, then } s_id_i \\text{ divides }d_j.$$\n",
    "We can check if $L$ is tractable with `tract.is_tractable(L)`. "
   ]
  },
  {
   "cell_type": "code",
   "execution_count": 123,
   "id": "024198dd",
   "metadata": {},
   "outputs": [
    {
     "name": "stdout",
     "output_type": "stream",
     "text": [
      "A = (2,2,2):(1,2,4)\n",
      "A is tractable: True\n",
      "B = (2,2,2):(1,7,4)\n",
      "B is tractable: False\n"
     ]
    }
   ],
   "source": [
    "@cute.jit\n",
    "def test_is_tractable():\n",
    "    A = cute.make_layout(shape=(2,2,2), stride=(1,2,4))\n",
    "    B = cute.make_layout(shape=(2,2,2), stride=(1,7,4))\n",
    "    A_is_tractable = tract.is_tractable(A)\n",
    "    B_is_tractable = tract.is_tractable(B)\n",
    "    print(f\"A =\", A)\n",
    "    print(f\"A is tractable: {A_is_tractable}\")\n",
    "    print(f\"B =\", B)\n",
    "    print(f\"B is tractable: {B_is_tractable}\")\n",
    "test_is_tractable()"
   ]
  },
  {
   "cell_type": "markdown",
   "id": "f45c0388",
   "metadata": {},
   "source": [
    "If $L$ is a tractable layout, then we can construct the standard representation $f_L$ with `tract.compute_morphism(L)`:"
   ]
  },
  {
   "cell_type": "code",
   "execution_count": 124,
   "id": "4d6fcfa5",
   "metadata": {},
   "outputs": [
    {
     "name": "stdout",
     "output_type": "stream",
     "text": [
      "L    = (2,2,2):(1,2,4)\n",
      "f_L  = (2,2,2) --(1, 2, 3)--> (2,2,2)\n"
     ]
    }
   ],
   "source": [
    "@cute.jit\n",
    "def construct_standard_representation():\n",
    "    L = cute.make_layout(shape=(2,2,2), stride=(1,2,4))\n",
    "    f_L = tract.compute_morphism(L)\n",
    "    print(f\"{'L':<5}= {L}\")\n",
    "    print(f\"{'f_L':<5}= {f_L}\")\n",
    "construct_standard_representation()"
   ]
  },
  {
   "cell_type": "markdown",
   "id": "cecec7ab",
   "metadata": {},
   "source": [
    "If $f$ is a tuple morphism, we can construct the layout $L_f$ encoded by $f$ with `tract.compute_layout(f)`."
   ]
  },
  {
   "cell_type": "code",
   "execution_count": 125,
   "id": "00d5a717",
   "metadata": {},
   "outputs": [
    {
     "name": "stdout",
     "output_type": "stream",
     "text": [
      "f    = ((5,5),8) --(1, 3, 2)--> (5,8,5)\n",
      "L_f  = ((5,5),8):((1,40),5)\n",
      "g    = 39 --(3,)--> (48,(118,39),((((112,67)),1),(1,1)))\n",
      "L_g  = 39:5664\n"
     ]
    }
   ],
   "source": [
    "@cute.jit\n",
    "def compute_layout_example():\n",
    "    f = tract.make_morphism(domain=((5,5),8), codomain=(5,8,5), map=(1,3,2))\n",
    "    L_f = tract.compute_layout(f)\n",
    "    print(f\"{'f':<5}= {f}\")\n",
    "    print(f\"{'L_f':<5}= {L_f}\")\n",
    "    g = tract.random_Nest_morphism()\n",
    "    L_g = tract.compute_layout(g)\n",
    "    print(f\"{'g':<5}= {g}\")\n",
    "    print(f\"{'L_g':<5}= {L_g}\")\n",
    "compute_layout_example()"
   ]
  },
  {
   "cell_type": "markdown",
   "id": "e2c0426d",
   "metadata": {},
   "source": [
    "## Composition"
   ]
  },
  {
   "cell_type": "markdown",
   "id": "daa67751",
   "metadata": {},
   "source": [
    "When defined, this operation produces a layout $B \\circ A$ from a pair of layouts $A$ and $B$. We can compute the composition $B \\circ A$ in `cute` as `cute.composition(B, A)`:"
   ]
  },
  {
   "cell_type": "code",
   "execution_count": 126,
   "id": "b7e561df",
   "metadata": {},
   "outputs": [
    {
     "name": "stdout",
     "output_type": "stream",
     "text": [
      "A    = ((4,4),4):((16,1),4)\n",
      "B    = (8,64):(64,1)\n",
      "B∘A  = ((4,4),(2,2)):((2,64),(256,1))\n"
     ]
    }
   ],
   "source": [
    "@cute.jit\n",
    "def composition_example():\n",
    "    A = cute.make_layout(shape=((4,4),4), stride=((16,1),4))\n",
    "    B = cute.make_layout(shape=(8,64), stride=(64,1))\n",
    "    B_o_A = cute.composition(B,A)\n",
    "    print(f\"{'A':<5}= {A}\")\n",
    "    print(f\"{'B':<5}= {B}\")\n",
    "    print(f\"{'B∘A':<5}= {B_o_A}\")\n",
    "composition_example()"
   ]
  },
  {
   "cell_type": "markdown",
   "id": "2b72b2ac",
   "metadata": {},
   "source": [
    "If $f$ and $g$ are composable nested tuple morphisms, we can compute the composition $g \\circ f$ in `tract` as `f.compose(g)`:"
   ]
  },
  {
   "cell_type": "code",
   "execution_count": 127,
   "id": "3bdb4f9a",
   "metadata": {},
   "outputs": [
    {
     "name": "stdout",
     "output_type": "stream",
     "text": [
      "f    = ((2,2),(2,2)) --(3, 2, 6, 5)--> ((2,2,2),(2,2,2))\n",
      "g    = ((2,2,2),(2,2,2)) --(1, 0, 2, 0, 3, 4)--> (2,2,2,2)\n",
      "g∘f  = ((2,2),(2,2)) --(2, 0, 4, 3)--> (2,2,2,2)\n"
     ]
    }
   ],
   "source": [
    "f = tract.make_morphism(domain=((2,2),(2,2)), codomain=((2,2,2),(2,2,2)), map=(3,2,6,5))\n",
    "g = tract.make_morphism(domain=((2,2,2),(2,2,2)), codomain=(2,2,2,2), map=(1,0,2,0,3,4))\n",
    "g_o_f = tract.compose(f, g)\n",
    "print(f\"{'f':<5}= {f}\")\n",
    "print(f\"{'g':<5}= {g}\")\n",
    "print(f\"{'g∘f':<5}= {g_o_f}\")"
   ]
  },
  {
   "cell_type": "markdown",
   "id": "3f296f38",
   "metadata": {},
   "source": [
    "Composition of nested tuple morphisms is compatible with layout composition, as illustrated below."
   ]
  },
  {
   "cell_type": "code",
   "execution_count": 128,
   "id": "10fc104d",
   "metadata": {},
   "outputs": [
    {
     "name": "stdout",
     "output_type": "stream",
     "text": [
      "B∘A  = 30:0\n",
      "C    = 30:0\n"
     ]
    }
   ],
   "source": [
    "@cute.jit\n",
    "def composition_compatibility_example():\n",
    "    f,g = tract.random_composable_Nest_morphisms(min_length=0, max_length=6, max_value=64)\n",
    "    A = tract.compute_layout(f)\n",
    "    B = tract.compute_layout(g)\n",
    "    B_o_A = cute.composition(B,A)\n",
    "\n",
    "    g_o_f = tract.compose(f, g)\n",
    "    C = tract.compute_layout(g_o_f)\n",
    "    print(f\"{'B∘A':<5}= {B_o_A}\")\n",
    "    print(f\"{'C':<5}= {C}\")\n",
    "composition_compatibility_example()\n"
   ]
  },
  {
   "cell_type": "markdown",
   "id": "6b02cfca",
   "metadata": {},
   "source": [
    "## Coalesce"
   ]
  },
  {
   "cell_type": "markdown",
   "id": "238b6633",
   "metadata": {},
   "source": [
    "This operation produces a layout $\\text{coal}(A)$ from $A$ that is in a precise sense of *minimal complexity*. We can compute $\\text{coal}(A)$ in `cute` with `cute.coalesce(A)`."
   ]
  },
  {
   "cell_type": "code",
   "execution_count": 129,
   "id": "63432133",
   "metadata": {},
   "outputs": [
    {
     "name": "stdout",
     "output_type": "stream",
     "text": [
      "A      = ((2,2),(2,2),(5,5)):((1,2),(16,32),(64,640))\n",
      "coal_A = (4,20,5):(1,16,640)\n"
     ]
    }
   ],
   "source": [
    "@cute.jit \n",
    "def coalesce_example():\n",
    "     A = cute.make_layout(shape = ((2,2),(2,2),(5,5)), stride = ((1,2),(16,32),(64,640)))\n",
    "     coal_A = cute.coalesce(A)\n",
    "     print(f\"{'A':<7}= {A}\")\n",
    "     print(f\"{'coal_A':<7}= {coal_A}\")\n",
    "coalesce_example()"
   ]
  },
  {
   "cell_type": "markdown",
   "id": "3d9aac60",
   "metadata": {},
   "source": [
    "There is also a **relative coalesce** operation (sometimes called **by-mode coalesce**) $A \\mapsto \\text{coal}(A, S)$, which receives as input an additional nested tuple $S$ which is *refined* by the shape of $A$. We can compute $\\text{coal}(A, S)$ in `cute` with `cute.coalesce(A, target_profile=S)`. "
   ]
  },
  {
   "cell_type": "code",
   "execution_count": 130,
   "id": "b6d38802",
   "metadata": {},
   "outputs": [
    {
     "name": "stdout",
     "output_type": "stream",
     "text": [
      "A              = ((2,2),(3,3),(5,5)):((1,2),(4,12),(36,180))\n",
      "S              = ((2, 2), 9, 25)\n",
      "coal_A_over_S  = ((2,2),9,25):((1,2),4,36)\n"
     ]
    }
   ],
   "source": [
    "@cute.jit\n",
    "def relative_coalesce_example():\n",
    "     A = cute.make_layout(shape = ((2,2),(3,3),(5,5)), stride = ((1,2),(4,12),(36,180)))\n",
    "     S = ((2,2),9,25)\n",
    "     coal_A_over_S = cute.coalesce(A,target_profile=S)\n",
    "     print(f\"{'A':<15}= {A}\")\n",
    "     print(f\"{'S':<15}= {S}\")\n",
    "     print(f\"{'coal_A_over_S':<15}= {coal_A_over_S}\")\n",
    "relative_coalesce_example()"
   ]
  },
  {
   "cell_type": "markdown",
   "id": "1dcfa1de",
   "metadata": {},
   "source": [
    "If $f$ is a nested tuple morphism, we may form $\\text{coal}(f)$. We compute $\\text{coal}(f)$ in `tract` as `tract.coalesce(f)`. "
   ]
  },
  {
   "cell_type": "code",
   "execution_count": 131,
   "id": "8b6ceeee",
   "metadata": {},
   "outputs": [
    {
     "name": "stdout",
     "output_type": "stream",
     "text": [
      "f      = (2,2,10,10) --(1, 2, 4, 5)--> (2,2,2,10,10)\n",
      "coal_f = (4,100) --(1, 3)--> (4,2,100)\n"
     ]
    }
   ],
   "source": [
    "f = tract.make_morphism(domain=(2,2,10,10), codomain=(2,2,2,10,10), map=(1,2,4,5))\n",
    "coal_f = f.coalesce()\n",
    "print(f\"{'f':<7}= {f}\")\n",
    "print(f\"{'coal_f':<7}= {coal_f}\")"
   ]
  },
  {
   "cell_type": "markdown",
   "id": "2422f64f",
   "metadata": {},
   "source": [
    "Coalesce of nested tuple morphisms is compatible with layout coalesce, as illustrated below."
   ]
  },
  {
   "cell_type": "code",
   "execution_count": 132,
   "id": "bde3d6fd",
   "metadata": {},
   "outputs": [
    {
     "name": "stdout",
     "output_type": "stream",
     "text": [
      "coal_A = 783:1\n",
      "B      = 783:1\n"
     ]
    }
   ],
   "source": [
    "@cute.jit\n",
    "def coalesce_compatibility_example():\n",
    "    f = random_Nest_morphism(max_length = 5, max_value = 32)\n",
    "    coal_f = f.coalesce()\n",
    "    A = tract.compute_layout(f)\n",
    "    coal_A = cute.coalesce(A)\n",
    "    B = tract.compute_layout(coal_f)\n",
    "    print(f\"{'coal_A':<7}= {coal_A}\")\n",
    "    print(f\"{'B':<7}= {B}\")\n",
    "coalesce_compatibility_example()"
   ]
  },
  {
   "cell_type": "markdown",
   "id": "ef3ee07f",
   "metadata": {},
   "source": [
    "Note that, as discussed in our paper, there is one case where the CuTe implementation of coalesce does not coincide with our definition of coalesce, namely when the layout in question is the empty layout `E = ():()`. In this case, `cute.coalesce(():())` returns `():()`, while our definition of coalesce yields `coal(():()) = 1:0`. This is no real obstacle, since these layouts have identical layout functions. "
   ]
  },
  {
   "cell_type": "markdown",
   "id": "f45215f2",
   "metadata": {},
   "source": [
    "## Complement"
   ]
  },
  {
   "cell_type": "markdown",
   "id": "8ecd37f3",
   "metadata": {},
   "source": [
    "When defined, this operation produces a layout $\\text{comp}(A, N)$ from a layout $A$ and a positive integer $N$. We can compute $\\text{comp}(A, N)$ in `cute` with `cute.complement(A, N)`:"
   ]
  },
  {
   "cell_type": "code",
   "execution_count": 133,
   "id": "e3f4c00b",
   "metadata": {},
   "outputs": [
    {
     "name": "stdout",
     "output_type": "stream",
     "text": [
      "A      = ((2,2),(2,2)):((8,2),(64,256))\n",
      "comp_A = (2,2,4,2,8):(1,4,16,128,512)\n"
     ]
    }
   ],
   "source": [
    "@cute.jit\n",
    "def complement_example():\n",
    "     A = cute.make_layout(shape = ((2,2),(2,2)), stride = ((8,2),(64,256)))\n",
    "     comp_A = cute.complement(A,4096)\n",
    "     print(f\"{'A':<7}= {A}\")\n",
    "     print(f\"{'comp_A':<7}= {comp_A}\")\n",
    "complement_example()"
   ]
  },
  {
   "cell_type": "markdown",
   "id": "98163794",
   "metadata": {},
   "source": [
    "If $f$ is a nested tuple morphism, we may form the complement $f^c$ of $f$. We compute $f^c$ in `tract` as `tract.complement(f)`. "
   ]
  },
  {
   "cell_type": "code",
   "execution_count": 134,
   "id": "a09b6fae",
   "metadata": {},
   "outputs": [
    {
     "name": "stdout",
     "output_type": "stream",
     "text": [
      "f      = (2,2) --(1, 3)--> (2,5,2,5)\n",
      "comp_f = (5,5) --(2, 4)--> (2,5,2,5)\n"
     ]
    }
   ],
   "source": [
    "f = tract.make_morphism(domain=(2,2), codomain=(2,5,2,5), map=(1,3))\n",
    "comp_f = f.complement()\n",
    "print(f\"{'f':<7}= {f}\")\n",
    "print(f\"{'comp_f':<7}= {comp_f}\")"
   ]
  },
  {
   "cell_type": "markdown",
   "id": "48b62c03",
   "metadata": {},
   "source": [
    "Complements of nested tuple morphisms are compatible with layout complements, as illustrated below."
   ]
  },
  {
   "cell_type": "code",
   "execution_count": 135,
   "id": "d1792876",
   "metadata": {},
   "outputs": [
    {
     "name": "stdout",
     "output_type": "stream",
     "text": [
      "comp_A = 82944:1\n",
      "B      = 82944:1\n"
     ]
    }
   ],
   "source": [
    "@cute.jit\n",
    "def complement_compatibility_example():\n",
    "    f = random_complementable_Nest_morphism()\n",
    "    N = f.codomain.size()\n",
    "    comp_f = f.complement().coalesce()\n",
    "    A = tract.compute_layout(f)\n",
    "    comp_A = cute.complement(A,N)\n",
    "    B = tract.compute_layout(comp_f)\n",
    "    print(f\"{'comp_A':<7}= {comp_A}\")\n",
    "    print(f\"{'B':<7}= {B}\")\n",
    "complement_compatibility_example()"
   ]
  },
  {
   "cell_type": "markdown",
   "id": "f947af57",
   "metadata": {},
   "source": [
    "## Logical Division"
   ]
  },
  {
   "cell_type": "markdown",
   "id": "0772d745",
   "metadata": {},
   "source": [
    "When defined, this operation produces a layout $A \\oslash B$ from a pair of layouts $A$ and $B$. We compute $A \\oslash B$ in `cute` with `cute.logical_divide(A, B)`."
   ]
  },
  {
   "cell_type": "code",
   "execution_count": 136,
   "id": "f00cde10",
   "metadata": {},
   "outputs": [
    {
     "name": "stdout",
     "output_type": "stream",
     "text": [
      "A        = (64,32):(32,1)\n",
      "B        = (4,4):(1,64)\n",
      "quotient = ((4,4),(16,8)):((32,1),(128,4))\n"
     ]
    }
   ],
   "source": [
    "@cute.jit\n",
    "def logical_divide_example():\n",
    "    A = cute.make_layout((64,32), stride = (32,1))\n",
    "    B = cute.make_layout((4,4), stride = (1,64))\n",
    "    quotient = cute.logical_divide(A,B)\n",
    "    print(f\"{'A':<9}= {A}\")\n",
    "    print(f\"{'B':<9}= {B}\")\n",
    "    print(f\"{'quotient':<9}= {quotient}\")\n",
    "logical_divide_example()"
   ]
  },
  {
   "cell_type": "markdown",
   "id": "ba60d6fc",
   "metadata": {},
   "source": [
    "If $f$ and $g$ are nested tuple morphisms and $g$ divides $f$, then we may form the logical division $f \\oslash g$. We compute $f \\oslash g$ in `tract` with `tract.logical_divide(f, g)`. "
   ]
  },
  {
   "cell_type": "code",
   "execution_count": 137,
   "id": "2ef2ae69",
   "metadata": {},
   "outputs": [
    {
     "name": "stdout",
     "output_type": "stream",
     "text": [
      "f         = (4,8,4,8) --(1, 2, 3, 4)--> (4,8,4,8)\n",
      "g         = (4,4) --(1, 3)--> (4,8,4,8)\n",
      "quotient  = ((4,4),(8,8)) --(1, 3, 2, 4)--> (4,8,4,8)\n"
     ]
    }
   ],
   "source": [
    "f = tract.make_morphism(domain=(4, 8, 4, 8), codomain=(4, 8, 4, 8), map=(1, 2, 3, 4))\n",
    "g = tract.make_morphism(domain=(4, 4), codomain=(4, 8, 4, 8), map=(1, 3))\n",
    "quotient = tract.logical_divide(f, g)\n",
    "print(f\"{'f':<10}= {f}\")\n",
    "print(f\"{'g':<10}= {g}\")\n",
    "print(f\"{'quotient':<10}= {quotient}\")"
   ]
  },
  {
   "cell_type": "markdown",
   "id": "78d8e9ff",
   "metadata": {},
   "source": [
    "Logical division of nested tuple morphisms is compatible with logical division of layouts, as illustrated below. "
   ]
  },
  {
   "cell_type": "code",
   "execution_count": 138,
   "id": "c1053f7f",
   "metadata": {},
   "outputs": [
    {
     "name": "stdout",
     "output_type": "stream",
     "text": [
      "A_div_B = (6,7):(0,9)\n",
      "C       = (6,7):(0,9)\n"
     ]
    }
   ],
   "source": [
    "@cute.jit\n",
    "def logical_division_compatibility_example():\n",
    "    f,g = random_divisible_Nest_morphisms()\n",
    "    A = tract.compute_layout(f)\n",
    "    B = tract.compute_layout(g)\n",
    "    A_div_B = cute.coalesce(cute.composition(A,concatenate(B,cute.complement(B,cute.size(A)))))\n",
    "    f_div_g = tract.logical_divide(f, g)\n",
    "    C = cute.coalesce(tract.compute_layout(f_div_g))\n",
    "    print(f\"{'A_div_B':<8}= {A_div_B}\")\n",
    "    print(f\"{'C':<8}= {C}\")\n",
    "logical_division_compatibility_example()"
   ]
  },
  {
   "cell_type": "markdown",
   "id": "cdea639e",
   "metadata": {},
   "source": [
    "## Logical Product"
   ]
  },
  {
   "cell_type": "markdown",
   "id": "dd459189",
   "metadata": {},
   "source": [
    "When defined, this operation produces a layout $A \\otimes B$ from a pair of layouts $A$ and $B$. We compute $A \\otimes B$ in `cute` as `cute.logical_product(A, B)`. "
   ]
  },
  {
   "cell_type": "code",
   "execution_count": 139,
   "id": "e464d835",
   "metadata": {},
   "outputs": [
    {
     "name": "stdout",
     "output_type": "stream",
     "text": [
      "A        = (3,10,10):(200,1,20)\n",
      "B        = (2,2):(1,2)\n",
      "product  = ((3,10,10),(2,2)):((200,1,20),(10,600))\n"
     ]
    }
   ],
   "source": [
    "@cute.jit\n",
    "def logical_product_example():\n",
    "    A = cute.make_layout((3,10,10), stride = (200,1,20))\n",
    "    B = cute.make_layout((2,2), stride = (1,2))\n",
    "    product = cute.logical_product(A,B)\n",
    "    print(f\"{'A':<9}= {A}\")\n",
    "    print(f\"{'B':<9}= {B}\")\n",
    "    print(f\"{'product':<9}= {product}\")\n",
    "logical_product_example()"
   ]
  },
  {
   "cell_type": "markdown",
   "id": "e99fbaf5",
   "metadata": {},
   "source": [
    "If $f$ and $g$ are nested tuple morphisms that are product-admissible, we may form the logical product $f \\otimes g$. We compute $f \\otimes g$ in `tract` with `tract.logical_product(f, g)`. "
   ]
  },
  {
   "cell_type": "code",
   "execution_count": 140,
   "id": "e4197910",
   "metadata": {},
   "outputs": [
    {
     "name": "stdout",
     "output_type": "stream",
     "text": [
      "f         = (2,2) --(1, 2)--> (2,2,5,5)\n",
      "g         = (5,5) --(2, 1)--> (5,5)\n",
      "product   = ((2,2),(5,5)) --(1, 2, 4, 3)--> (2,2,5,5)\n"
     ]
    }
   ],
   "source": [
    "f = tract.make_morphism(domain=(2, 2), codomain=(2, 2, 5, 5), map=(1, 2))\n",
    "g = tract.make_morphism(domain=(5,5), codomain=(5,5), map=(2,1))\n",
    "product = tract.logical_product(f, g)\n",
    "print(f\"{'f':<10}= {f}\")\n",
    "print(f\"{'g':<10}= {g}\")\n",
    "print(f\"{'product':<10}= {product}\")"
   ]
  },
  {
   "cell_type": "markdown",
   "id": "72e1edc5",
   "metadata": {},
   "source": [
    "The logical product of nested tuple morphisms is compatible with the logical product of layouts, as illustrated below."
   ]
  },
  {
   "cell_type": "code",
   "execution_count": 141,
   "id": "7b76fb13",
   "metadata": {},
   "outputs": [
    {
     "name": "stdout",
     "output_type": "stream",
     "text": [
      "A_prod_B = (30,19):(1,0)\n",
      "C        = (30,19):(1,0)\n"
     ]
    }
   ],
   "source": [
    "@cute.jit\n",
    "def logical_product_compatibility_example():\n",
    "    f,g = random_product_admissible_Nest_morphisms(min_value = 2, max_value = 32, max_length = 5)\n",
    "    A = tract.compute_layout(f)\n",
    "    B = tract.compute_layout(g)\n",
    "    A_prod_B = cute.logical_product(A,B)\n",
    "\n",
    "    f_prod_g = tract.logical_product(f, g)\n",
    "    C = tract.compute_layout(f_prod_g)\n",
    "    print(f\"{'A_prod_B':<9}= {A_prod_B}\")\n",
    "    print(f\"{'C':<9}= {C}\")\n",
    "logical_product_compatibility_example()"
   ]
  },
  {
   "cell_type": "markdown",
   "id": "57a73cc5",
   "metadata": {},
   "source": [
    "## Printing Nested Tuple Diagrams with TikZ\n",
    "\n",
    "We provide a utility to convert a nested tuple morphism $f$ to TikZ code that can be compiled with any TeX editor."
   ]
  },
  {
   "cell_type": "code",
   "execution_count": 142,
   "id": "a30700b4",
   "metadata": {},
   "outputs": [
    {
     "name": "stdout",
     "output_type": "stream",
     "text": [
      "\n",
      "\\begin{tikzpicture}[\n",
      "    entry/.style={minimum width=5mm, minimum height=7mm, inner sep = 2pt},\n",
      "    maparrow/.style={|->}\n",
      "]\n",
      "\\def\\colspacing{3}\n",
      "\\def\\rowspacing{0.8}\n",
      "\n",
      "\\node[entry] (s1) at (2.20, 0.00) {2};\n",
      "\\node[entry] (s2) at (2.20, 0.80) {2};\n",
      "\\node[entry] (s3) at (2.20, 1.60) {5};\n",
      "\\node[entry] (s4) at (2.20, 2.40) {5};\n",
      "\n",
      "\\node[entry] (m1) at (0.00, 0.00) {4};\n",
      "\\node[entry] (m2) at (0.00, 0.80) {25};\n",
      "\n",
      "% Trees\n",
      "\\coordinate (j0) at (1.10, 0.40);\n",
      "\\draw (j0) -- (m1.east);\n",
      "\\draw (s1.west) -- (j0);\n",
      "\\draw (s2.west) -- (j0);\n",
      "\\coordinate (j1) at (1.10, 2.00);\n",
      "\\draw (j1) -- (m2.east);\n",
      "\\draw (s3.west) -- (j1);\n",
      "\\draw (s4.west) -- (j1);\n",
      "\n",
      "\\node[entry] (t1) at (5.20, 0.00) {2};\n",
      "\\node[entry] (t2) at (5.20, 0.80) {2};\n",
      "\\node[entry] (t3) at (5.20, 1.60) {5};\n",
      "\\node[entry] (t4) at (5.20, 2.40) {5};\n",
      "\n",
      "\\mapArrow{s1}{t1};\n",
      "\\mapArrow{s2}{t2};\n",
      "\\mapArrow{s3}{t4};\n",
      "\\node at (2.60, -0.8) {$((2,2),(5,5)) \\xrightarrow{(1,2,4,*)} (2,2,5,5)$};\n",
      "\n",
      "\\end{tikzpicture}\n",
      "\n"
     ]
    }
   ],
   "source": [
    "f = tract.make_morphism(domain=(2, 2), codomain=(2, 2, 5, 5), map=(1, 2))\n",
    "g = tract.make_morphism(domain=(5,5), codomain=(5,5), map=(2,0))\n",
    "product = tract.logical_product(f, g)\n",
    "\n",
    "print(tract.morphism_to_tikz(product)) # equivalently, product.to_tikz()"
   ]
  },
  {
   "cell_type": "markdown",
   "id": "27e57802",
   "metadata": {},
   "source": [
    "Compiling this code gives the figure\n",
    "\n",
    "![nest_morphism_example](images/nest_morphism_to_tikz_example.png)"
   ]
  },
  {
   "cell_type": "markdown",
   "id": "79bfff88",
   "metadata": {},
   "source": [
    "We also provide the ability to take a `CuTe` layout and produce such a diagram, labeled by the layout. "
   ]
  },
  {
   "cell_type": "code",
   "execution_count": 143,
   "id": "e3a6a231",
   "metadata": {},
   "outputs": [
    {
     "name": "stdout",
     "output_type": "stream",
     "text": [
      "\n",
      "\\documentclass{standalone}\n",
      "\\usepackage{tikz}\n",
      "\\usepackage{amsmath}\n",
      "\\usetikzlibrary{arrows.meta, positioning}\n",
      "\\newcommand{\\mapArrow}[2]{\\draw[maparrow] (#1.east) -- (#2.west);}\n",
      "\\begin{document}\n",
      "\n",
      "\n",
      "\\begin{tikzpicture}[\n",
      "    entry/.style={minimum width=5mm, minimum height=7mm, inner sep = 2pt},\n",
      "    maparrow/.style={|->}\n",
      "]\n",
      "\\def\\colspacing{3}\n",
      "\\def\\rowspacing{0.8}\n",
      "\n",
      "\\node[entry] (s1) at (2.20, 0.00) {4};\n",
      "\\node[entry] (s2) at (2.20, 0.80) {8};\n",
      "\\node[entry] (s3) at (2.20, 1.60) {4};\n",
      "\\node[entry] (s4) at (2.20, 2.40) {2};\n",
      "\\node[entry] (s5) at (2.20, 3.20) {2};\n",
      "\\node[entry] (s6) at (2.20, 4.00) {8};\n",
      "\n",
      "\\node[entry] (m1) at (0.00, 0.00) {128};\n",
      "\\node[entry] (m2) at (0.00, 0.80) {32};\n",
      "\n",
      "% Trees\n",
      "\\coordinate (j0) at (1.10, 0.80);\n",
      "\\draw (j0) -- (m1.east);\n",
      "\\draw (s1.west) -- (j0);\n",
      "\\draw (s2.west) -- (j0);\n",
      "\\draw (s3.west) -- (j0);\n",
      "\\coordinate (j1) at (1.10, 3.20);\n",
      "\\draw (j1) -- (m2.east);\n",
      "\\draw (s4.west) -- (j1);\n",
      "\\draw (s5.west) -- (j1);\n",
      "\\draw (s6.west) -- (j1);\n",
      "\n",
      "\\node[entry] (t1) at (5.20, 0.00) {8};\n",
      "\\node[entry] (t2) at (5.20, 0.80) {2};\n",
      "\\node[entry] (t3) at (5.20, 1.60) {4};\n",
      "\\node[entry] (t4) at (5.20, 2.40) {2};\n",
      "\\node[entry] (t5) at (5.20, 3.20) {4};\n",
      "\\node[entry] (t6) at (5.20, 4.00) {8};\n",
      "\n",
      "\\mapArrow{s1}{t5};\n",
      "\\mapArrow{s2}{t1};\n",
      "\\mapArrow{s3}{t3};\n",
      "\\mapArrow{s4}{t4};\n",
      "\\mapArrow{s5}{t2};\n",
      "\\mapArrow{s6}{t6};\n",
      "\\node at (2.60, -0.8) {$((4,8,4),(2,2,8)):((128,1,16),(64,8,512))$};\n",
      "\n",
      "\\end{tikzpicture}\n",
      "\n",
      "\n",
      "\\end{document}\n",
      "\n"
     ]
    }
   ],
   "source": [
    "@cute.jit\n",
    "def tikz_layout_test():\n",
    "    L = cute.make_layout(shape=((4, 8, 4), (2, 2, 8)),\n",
    "    stride=((128, 1, 16), (64, 8, 512)))\n",
    "    print(tract.layout_to_tikz(L, full_doc=True))\n",
    "tikz_layout_test()"
   ]
  },
  {
   "cell_type": "markdown",
   "id": "7644e5a5",
   "metadata": {},
   "source": [
    "Compiling this code gives the following output:\n",
    "\n",
    "![layout to tikz example](images/layout_to_tikz_example.png)"
   ]
  },
  {
   "cell_type": "markdown",
   "id": "ecd775ca",
   "metadata": {},
   "source": [
    "We can also produce a diagram representing a mutual refinement."
   ]
  },
  {
   "cell_type": "code",
   "execution_count": 144,
   "id": "43d97b94",
   "metadata": {},
   "outputs": [
    {
     "name": "stdout",
     "output_type": "stream",
     "text": [
      "\n",
      "\\begin{tikzpicture}[\n",
      "    entry/.style={minimum width=5mm, minimum height=7mm, inner sep = 2pt},\n",
      "    maparrow/.style={|->}\n",
      "]\n",
      "\\def\\colspacing{3}\n",
      "\\def\\rowspacing{0.8}\n",
      "\n",
      "\\node[entry] (s1) at (0.000,0.000) {6};\n",
      "\\node[entry] (s2) at (0.000,0.800) {2};\n",
      "\\node[entry] (s3) at (0.000,1.600) {3};\n",
      "\\node[entry] (s4) at (0.000,2.400) {6};\n",
      "\n",
      "% Left-side roots and tree for P\n",
      "\\node[entry] (Lm1) at (-2.500,0.000) {6};\n",
      "\\draw (s1.west) -- (Lm1.east);\n",
      "\\node[entry] (Lm2) at (-2.500,0.800) {6};\n",
      "\\coordinate (Lj0) at (-1.250,1.200);\n",
      "\\draw (s2.west) -- (Lj0);\n",
      "\\draw (s3.west) -- (Lj0);\n",
      "\\draw (Lj0) -- (Lm2.east);\n",
      "\n",
      "% Right-side roots and tree for Q\n",
      "\\node[entry] (Rm1) at (2.500,0.000) {12};\n",
      "\\coordinate (Rj0) at (1.250,0.400);\n",
      "\\draw (s1.east) -- (Rj0);\n",
      "\\draw (s2.east) -- (Rj0);\n",
      "\\draw (Rj0) -- (Rm1.west);\n",
      "\\node[entry] (Rm2) at (2.500,0.800) {3};\n",
      "\\draw (s3.east) -- (Rm2.west);\n",
      "\\node[entry] (Rm3) at (2.500,1.600) {6};\n",
      "\\draw (s4.east) -- (Rm3.west);\n",
      "\n",
      "\\node at (0.000, -0.8) {$(6,(2,3)) \\quad ((6,2),3,6)$};\n",
      "\n",
      "\\end{tikzpicture}\n",
      "\n",
      "\n",
      "\\begin{tikzpicture}[\n",
      "    entry/.style={minimum width=5mm, minimum height=7mm, inner sep = 2pt},\n",
      "    maparrow/.style={|->}\n",
      "]\n",
      "\\def\\colspacing{3}\n",
      "\\def\\rowspacing{0.8}\n",
      "\n",
      "\\node[entry] (s1) at (0.000,0.000) {5};\n",
      "\\node[entry] (s2) at (0.000,0.800) {2};\n",
      "\\node[entry] (s3) at (0.000,1.600) {3};\n",
      "\\node[entry] (s4) at (0.000,2.400) {2};\n",
      "\\node[entry] (s5) at (0.000,3.200) {6};\n",
      "\\node[entry] (s6) at (0.000,4.000) {10};\n",
      "\n",
      "% Left-side roots and tree for P\n",
      "\\node[entry] (Lm1) at (-2.500,0.000) {5};\n",
      "\\draw (s1.west) -- (Lm1.east);\n",
      "\\node[entry] (Lm2) at (-2.500,0.800) {6};\n",
      "\\coordinate (Lj0) at (-1.250,1.200);\n",
      "\\draw (s2.west) -- (Lj0);\n",
      "\\draw (s3.west) -- (Lj0);\n",
      "\\draw (Lj0) -- (Lm2.east);\n",
      "\\node[entry] (Lm3) at (-2.500,1.600) {2};\n",
      "\\draw (s4.west) -- (Lm3.east);\n",
      "\\node[entry] (Lm4) at (-2.500,2.400) {6};\n",
      "\\draw (s5.west) -- (Lm4.east);\n",
      "\n",
      "% Right-side roots and tree for Q\n",
      "\\node[entry] (Rm1) at (2.500,0.000) {10};\n",
      "\\coordinate (Rj0) at (1.250,0.400);\n",
      "\\draw (s1.east) -- (Rj0);\n",
      "\\draw (s2.east) -- (Rj0);\n",
      "\\draw (Rj0) -- (Rm1.west);\n",
      "\\node[entry] (Rm2) at (2.500,0.800) {360};\n",
      "\\coordinate (Rj1) at (1.250,2.800);\n",
      "\\draw (s3.east) -- (Rj1);\n",
      "\\draw (s4.east) -- (Rj1);\n",
      "\\draw (s5.east) -- (Rj1);\n",
      "\\draw (s6.east) -- (Rj1);\n",
      "\\draw (Rj1) -- (Rm2.west);\n",
      "\n",
      "\\node at (0.000, -0.8) {$(5,(2,3),2,6) \\quad ((5,2),(3,2,6,10))$};\n",
      "\n",
      "\\end{tikzpicture}\n",
      "\n"
     ]
    }
   ],
   "source": [
    "@cute.jit\n",
    "def tikz_mutual_refinement_test():\n",
    "    MR1 = tract.mutual_refinement_to_tikz(NestedTuple((6, 6)), NestedTuple((12, 3, 6)))\n",
    "    MR2 = tract.mutual_refinement_to_tikz(NestedTuple((5, 6, 2, 6)), NestedTuple((10, 360)))\n",
    "    print(MR1)\n",
    "    print(MR2)\n",
    "tikz_mutual_refinement_test()"
   ]
  },
  {
   "cell_type": "markdown",
   "id": "4acc951d",
   "metadata": {},
   "source": [
    "Compiling this code gives the following pair of diagrams:\n",
    "\n",
    "![mutual refiinement example](images/mutual_refinement_tikz_example.png)"
   ]
  }
 ],
 "metadata": {
  "kernelspec": {
   "display_name": "gp",
   "language": "python",
   "name": "python3"
  },
  "language_info": {
   "codemirror_mode": {
    "name": "ipython",
    "version": 3
   },
   "file_extension": ".py",
   "mimetype": "text/x-python",
   "name": "python",
   "nbconvert_exporter": "python",
   "pygments_lexer": "ipython3",
   "version": "3.12.11"
  }
 },
 "nbformat": 4,
 "nbformat_minor": 5
}
