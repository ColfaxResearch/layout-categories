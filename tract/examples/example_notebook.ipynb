{
 "cells": [
  {
   "cell_type": "code",
   "execution_count": 1,
   "id": "9106d1fa",
   "metadata": {},
   "outputs": [],
   "source": [
    "import cutlass\n",
    "import cutlass.cute as cute\n",
    "\n",
    "import tract\n",
    "from tract.categories import Nest_morphism, NestedTuple, Tuple_morphism, Tuple\n",
    "from tract.test_utils import *\n",
    "from tract.layout_utils import *"
   ]
  },
  {
   "cell_type": "markdown",
   "id": "cd3bc54d",
   "metadata": {},
   "source": [
    "## Constructing tuples and nested tuples"
   ]
  },
  {
   "cell_type": "code",
   "execution_count": 2,
   "id": "b88def9d",
   "metadata": {},
   "outputs": [
    {
     "name": "stdout",
     "output_type": "stream",
     "text": [
      "S = (2, 2, 2)\n",
      "T = ((2, 2), (5, 5))\n",
      "U = ((2, 2), 4, (9, (3, 3)))\n"
     ]
    }
   ],
   "source": [
    "S = (2,2,2)\n",
    "T = ((2,2),(5,5))\n",
    "U = ((2,2),4,(9,(3,3)))\n",
    "print(\"S =\", S)\n",
    "print(\"T =\", T)\n",
    "print(\"U =\", U)"
   ]
  },
  {
   "cell_type": "markdown",
   "id": "f7aaf362",
   "metadata": {},
   "source": [
    "To create tuples of length 1, we must include a trailing comma:"
   ]
  },
  {
   "cell_type": "code",
   "execution_count": 3,
   "id": "602d2528",
   "metadata": {},
   "outputs": [
    {
     "name": "stdout",
     "output_type": "stream",
     "text": [
      "S = (10,)\n",
      "T = 10\n"
     ]
    }
   ],
   "source": [
    "S = (10,)\n",
    "T = (10)\n",
    "print(\"S =\", S)\n",
    "print(\"T =\", T)"
   ]
  },
  {
   "cell_type": "markdown",
   "id": "a3955790",
   "metadata": {},
   "source": [
    "## Constructing layouts and morphisms"
   ]
  },
  {
   "cell_type": "markdown",
   "id": "421d4d4d",
   "metadata": {},
   "source": [
    "We construct layouts $L = S : D$ in `cute` as `L = cute.make_layout(shape=S, stride=D)`, as seen in these examples."
   ]
  },
  {
   "cell_type": "code",
   "execution_count": 4,
   "id": "5e1dbdfc",
   "metadata": {},
   "outputs": [
    {
     "name": "stdout",
     "output_type": "stream",
     "text": [
      "A = ((4,4),4):((16,1),4)\n",
      "B = (8,64):(64,1)\n",
      "C = 100:2\n"
     ]
    }
   ],
   "source": [
    "@cute.jit\n",
    "def construct_example_layouts():\n",
    "    A = cute.make_layout(shape=((4,4),4), stride=((16,1),4))\n",
    "    B = cute.make_layout(shape=(8,64), stride=(64,1))\n",
    "    C = cute.make_layout(shape=100, stride=2)\n",
    "    print(\"A =\", A)\n",
    "    print(\"B =\", B)\n",
    "    print(\"C =\", C)\n",
    "construct_example_layouts()"
   ]
  },
  {
   "cell_type": "markdown",
   "id": "4faeaca8",
   "metadata": {},
   "source": [
    "We construct a nested tuple morphism \n",
    "$$\n",
    "f: S \\overset{\\alpha}{\\to} T\n",
    "$$\n",
    "in `tract` by specifying `f = tract.make_morphism(domain=S, codomain=T, map=alpha)`"
   ]
  },
  {
   "cell_type": "code",
   "execution_count": 5,
   "id": "784f401d",
   "metadata": {},
   "outputs": [
    {
     "name": "stdout",
     "output_type": "stream",
     "text": [
      "f   = (4,4) --(1, 3)--> (4,2,4)\n",
      "g   = (2,2,2,2) --(1, 0, 4, 2)--> (2,2,2,2)\n",
      "h   = (16,(4,4),(4,4)) --(1, 2, 0, 3, 0)--> (16,4,4)\n"
     ]
    }
   ],
   "source": [
    "f = Nest_morphism(domain=(4,4), codomain=(4,2,4), map=(1,3))\n",
    "g = Nest_morphism(domain=(2,2,2,2), codomain=(2,2,2,2), map=(1,0,4,2))\n",
    "h = Nest_morphism(domain=(16,(4,4),(4,4)), codomain=(16,4,4), map=(1,2,0,3,0))\n",
    "print(f\"{'f':<4}= {f}\")\n",
    "print(f\"{'g':<4}= {g}\")\n",
    "print(f\"{'h':<4}= {h}\")"
   ]
  },
  {
   "cell_type": "markdown",
   "id": "306c3818",
   "metadata": {},
   "source": [
    "## Translating between tractable layouts and morphisms"
   ]
  },
  {
   "cell_type": "markdown",
   "id": "48ae292f",
   "metadata": {},
   "source": [
    "A layout $L$ is **tractable** if... We can check if $L$ is tractable with `tract.is_tractable(L)`. "
   ]
  },
  {
   "cell_type": "code",
   "execution_count": 6,
   "id": "024198dd",
   "metadata": {},
   "outputs": [
    {
     "name": "stdout",
     "output_type": "stream",
     "text": [
      "A = (2,2,2):(1,2,4)\n",
      "A is tractable: True\n",
      "B = (2,2,2):(1,7,4)\n",
      "B is tractable: False\n"
     ]
    }
   ],
   "source": [
    "@cute.jit\n",
    "def test_is_tractable():\n",
    "    A = cute.make_layout(shape=(2,2,2), stride=(1,2,4))\n",
    "    B = cute.make_layout(shape=(2,2,2), stride=(1,7,4))\n",
    "    A_is_tractable = tract.is_tractable(A)\n",
    "    B_is_tractable = tract.is_tractable(B)\n",
    "    print(f\"A =\", A)\n",
    "    print(f\"A is tractable: {A_is_tractable}\")\n",
    "    print(f\"B =\", B)\n",
    "    print(f\"B is tractable: {B_is_tractable}\")\n",
    "test_is_tractable()"
   ]
  },
  {
   "cell_type": "markdown",
   "id": "f45c0388",
   "metadata": {},
   "source": [
    "If $L$ is a tractable layout, then we can construct the standard representation $f_L$ with `tract.compute_morphism(L)`:"
   ]
  },
  {
   "cell_type": "code",
   "execution_count": 7,
   "id": "4d6fcfa5",
   "metadata": {},
   "outputs": [
    {
     "name": "stdout",
     "output_type": "stream",
     "text": [
      "L    = (2,2,2):(1,2,4)\n",
      "f_L  = (2,2,2) --(1, 2, 3)--> (2,2,2)\n"
     ]
    }
   ],
   "source": [
    "@cute.jit\n",
    "def construct_standard_representation():\n",
    "    L = cute.make_layout(shape=(2,2,2), stride=(1,2,4))\n",
    "    f_L = tract.compute_morphism(L)\n",
    "    print(f\"{'L':<5}= {L}\")\n",
    "    print(f\"{'f_L':<5}= {f_L}\")\n",
    "construct_standard_representation()"
   ]
  },
  {
   "cell_type": "markdown",
   "id": "cecec7ab",
   "metadata": {},
   "source": [
    "If $f$ is a tuple morphism, we can construct the layout $L_f$ encoded by $f$ with `tract.compute_layout(f)`."
   ]
  },
  {
   "cell_type": "code",
   "execution_count": 8,
   "id": "00d5a717",
   "metadata": {},
   "outputs": [
    {
     "name": "stdout",
     "output_type": "stream",
     "text": [
      "f    = ((5,5),8) --(1, 3, 2)--> (5,8,5)\n",
      "L_f  = ((5,5),8):((1,40),5)\n"
     ]
    }
   ],
   "source": [
    "@cute.jit\n",
    "def compute_layout_example():\n",
    "    f = Nest_morphism(domain=((5,5),8), codomain=(5,8,5), map=(1,3,2))\n",
    "    L_f = tract.compute_layout(f)\n",
    "    print(f\"{'f':<5}= {f}\")\n",
    "    print(f\"{'L_f':<5}= {L_f}\")\n",
    "compute_layout_example()"
   ]
  },
  {
   "cell_type": "markdown",
   "id": "e2c0426d",
   "metadata": {},
   "source": [
    "## Composition"
   ]
  },
  {
   "cell_type": "markdown",
   "id": "daa67751",
   "metadata": {},
   "source": [
    "When defined, this operation produces a layout $B \\circ A$ from a pair of layouts $A$ and $B$. We can compute the composition $B \\circ A$ in `cute` as `cute.composition(B, A)`:"
   ]
  },
  {
   "cell_type": "code",
   "execution_count": 9,
   "id": "b7e561df",
   "metadata": {},
   "outputs": [
    {
     "name": "stdout",
     "output_type": "stream",
     "text": [
      "A    = ((4,4),4):((16,1),4)\n",
      "B    = (8,64):(64,1)\n",
      "B∘A  = ((4,4),(2,2)):((2,64),(256,1))\n"
     ]
    }
   ],
   "source": [
    "@cute.jit\n",
    "def composition_example():\n",
    "    A = cute.make_layout(shape=((4,4),4), stride=((16,1),4))\n",
    "    B = cute.make_layout(shape=(8,64), stride=(64,1))\n",
    "    B_o_A = cute.composition(B,A)\n",
    "    print(f\"{'A':<5}= {A}\")\n",
    "    print(f\"{'B':<5}= {B}\")\n",
    "    print(f\"{'B∘A':<5}= {B_o_A}\")\n",
    "composition_example()"
   ]
  },
  {
   "cell_type": "markdown",
   "id": "2b72b2ac",
   "metadata": {},
   "source": [
    "If $f$ and $g$ are composable nested tuple morphisms, we can compute the composition $g \\circ f$ in `tract` as `f.compose(g)`:"
   ]
  },
  {
   "cell_type": "code",
   "execution_count": 10,
   "id": "3bdb4f9a",
   "metadata": {},
   "outputs": [
    {
     "name": "stdout",
     "output_type": "stream",
     "text": [
      "f    = ((2,2),(2,2)) --(3, 2, 6, 5)--> ((2,2,2),(2,2,2))\n",
      "g    = ((2,2,2),(2,2,2)) --(1, 0, 2, 0, 3, 4)--> (2,2,2,2)\n",
      "g∘f  = ((2,2),(2,2)) --(2, 0, 4, 3)--> (2,2,2,2)\n"
     ]
    }
   ],
   "source": [
    "f = Nest_morphism(domain=((2,2),(2,2)), codomain=((2,2,2),(2,2,2)), map=(3,2,6,5))\n",
    "g = Nest_morphism(domain=((2,2,2),(2,2,2)), codomain=(2,2,2,2), map=(1,0,2,0,3,4))\n",
    "g_o_f = tract.compose(f, g)\n",
    "print(f\"{'f':<5}= {f}\")\n",
    "print(f\"{'g':<5}= {g}\")\n",
    "print(f\"{'g∘f':<5}= {g_o_f}\")"
   ]
  },
  {
   "cell_type": "markdown",
   "id": "6b02cfca",
   "metadata": {},
   "source": [
    "## Coalesce"
   ]
  },
  {
   "cell_type": "markdown",
   "id": "238b6633",
   "metadata": {},
   "source": [
    "This operation produces a layout $\\text{coal}(A)$ from $A$ that is in a precise sense of *minimal complexity*. We can compute $\\text{coal}(A)$ in `cute` with `cute.coalesce(A)`."
   ]
  },
  {
   "cell_type": "code",
   "execution_count": 11,
   "id": "63432133",
   "metadata": {},
   "outputs": [
    {
     "name": "stdout",
     "output_type": "stream",
     "text": [
      "A      = ((2,2),(2,2),(5,5)):((1,2),(16,32),(64,640))\n",
      "coal_A = (4,20,5):(1,16,640)\n"
     ]
    }
   ],
   "source": [
    "@cute.jit \n",
    "def coalesce_example():\n",
    "     A = cute.make_layout(shape = ((2,2),(2,2),(5,5)), stride = ((1,2),(16,32),(64,640)))\n",
    "     coal_A = cute.coalesce(A)\n",
    "     print(f\"{'A':<7}= {A}\")\n",
    "     print(f\"{'coal_A':<7}= {coal_A}\")\n",
    "coalesce_example()"
   ]
  },
  {
   "cell_type": "markdown",
   "id": "3d9aac60",
   "metadata": {},
   "source": [
    "There is also a **relative coalesce** operation (sometimes called **by-mode coalesce**) $A \\mapsto \\text{coal}(A, S)$, which receives as input an additional nested tuple $S$ which is *refined* by the shape of $A$. We can compute $\\text{coal}(A, S)$ in `cute` with `cute.coalesce(A, target_profile=S)`. "
   ]
  },
  {
   "cell_type": "code",
   "execution_count": 12,
   "id": "b6d38802",
   "metadata": {},
   "outputs": [
    {
     "name": "stdout",
     "output_type": "stream",
     "text": [
      "A              = ((2,2),(3,3),(5,5)):((1,2),(4,12),(36,180))\n",
      "S              = ((2, 2), 9, 25)\n",
      "coal_A_over_S  = ((2,2),9,25):((1,2),4,36)\n"
     ]
    }
   ],
   "source": [
    "@cute.jit\n",
    "def relative_coalesce_example():\n",
    "     A = cute.make_layout(shape = ((2,2),(3,3),(5,5)), stride = ((1,2),(4,12),(36,180)))\n",
    "     S = ((2,2),9,25)\n",
    "     coal_A_over_S = cute.coalesce(A,target_profile=S)\n",
    "     print(f\"{'A':<15}= {A}\")\n",
    "     print(f\"{'S':<15}= {S}\")\n",
    "     print(f\"{'coal_A_over_S':<15}= {coal_A_over_S}\")\n",
    "relative_coalesce_example()"
   ]
  },
  {
   "cell_type": "markdown",
   "id": "1dcfa1de",
   "metadata": {},
   "source": [
    "If $f$ is a nested tuple morphism, we may form $\\text{coal}(f)$. We compute $\\text{coal}(f)$ in `tract` as `tract.coalesce(f)`. "
   ]
  },
  {
   "cell_type": "code",
   "execution_count": 13,
   "id": "8b6ceeee",
   "metadata": {},
   "outputs": [
    {
     "name": "stdout",
     "output_type": "stream",
     "text": [
      "f      = (2,2,10,10) --(1, 2, 4, 5)--> (2,2,2,10,10)\n",
      "coal_f = (4,100) --(1, 3)--> (4,2,100)\n"
     ]
    }
   ],
   "source": [
    "f = Nest_morphism(domain=(2,2,10,10), codomain=(2,2,2,10,10), map=(1,2,4,5))\n",
    "coal_f = f.coalesce()\n",
    "print(f\"{'f':<7}= {f}\")\n",
    "print(f\"{'coal_f':<7}= {coal_f}\")"
   ]
  },
  {
   "cell_type": "markdown",
   "id": "f45215f2",
   "metadata": {},
   "source": [
    "## Complement"
   ]
  },
  {
   "cell_type": "markdown",
   "id": "8ecd37f3",
   "metadata": {},
   "source": [
    "When defined, this operation produces a layout $\\text{comp}(A, N)$ from a layout $A$ and a positive integer $N$. We can compute $\\text{comp}(A, N)$ in `cute` with `cute.complement(A, N)`:"
   ]
  },
  {
   "cell_type": "code",
   "execution_count": 14,
   "id": "e3f4c00b",
   "metadata": {},
   "outputs": [
    {
     "name": "stdout",
     "output_type": "stream",
     "text": [
      "A      = ((2,2),(2,2)):((8,2),(64,256))\n",
      "comp_A = (2,2,4,2,8):(1,4,16,128,512)\n"
     ]
    }
   ],
   "source": [
    "@cute.jit\n",
    "def complement_example():\n",
    "     A = cute.make_layout(shape = ((2,2),(2,2)), stride = ((8,2),(64,256)))\n",
    "     comp_A = cute.complement(A,4096)\n",
    "     print(f\"{'A':<7}= {A}\")\n",
    "     print(f\"{'comp_A':<7}= {comp_A}\")\n",
    "complement_example()"
   ]
  },
  {
   "cell_type": "markdown",
   "id": "98163794",
   "metadata": {},
   "source": [
    "If $f$ is a nested tuple morphism, we may form the complement $f^c$ of $f$. We compute $f^c$ in `tract` as `tract.complement(f)`. "
   ]
  },
  {
   "cell_type": "code",
   "execution_count": 15,
   "id": "a09b6fae",
   "metadata": {},
   "outputs": [
    {
     "name": "stdout",
     "output_type": "stream",
     "text": [
      "f      = (2,2) --(1, 3)--> (2,5,2,5)\n",
      "comp_f = (5,5) --(2, 4)--> (2,5,2,5)\n"
     ]
    }
   ],
   "source": [
    "f = Nest_morphism(domain=(2,2), codomain=(2,5,2,5), map=(1,3))\n",
    "comp_f = f.complement()\n",
    "print(f\"{'f':<7}= {f}\")\n",
    "print(f\"{'comp_f':<7}= {comp_f}\")"
   ]
  },
  {
   "cell_type": "markdown",
   "id": "f947af57",
   "metadata": {},
   "source": [
    "## Logical Division"
   ]
  },
  {
   "cell_type": "markdown",
   "id": "0772d745",
   "metadata": {},
   "source": [
    "When defined, this operation produces a layout $A \\oslash B$ from a pair of layouts $A$ and $B$. We compute $A \\oslash B$ in `cute` with `cute.logical_divide(A, B)`."
   ]
  },
  {
   "cell_type": "code",
   "execution_count": 16,
   "id": "f00cde10",
   "metadata": {},
   "outputs": [
    {
     "name": "stdout",
     "output_type": "stream",
     "text": [
      "A        = (64,32):(32,1)\n",
      "B        = (4,4):(1,64)\n",
      "quotient = ((4,4),(16,8)):((32,1),(128,4))\n"
     ]
    }
   ],
   "source": [
    "@cute.jit\n",
    "def logical_divide_example():\n",
    "    A = cute.make_layout((64,32), stride = (32,1))\n",
    "    B = cute.make_layout((4,4), stride = (1,64))\n",
    "    quotient = cute.logical_divide(A,B)\n",
    "    print(f\"{'A':<9}= {A}\")\n",
    "    print(f\"{'B':<9}= {B}\")\n",
    "    print(f\"{'quotient':<9}= {quotient}\")\n",
    "logical_divide_example()"
   ]
  },
  {
   "cell_type": "markdown",
   "id": "ba60d6fc",
   "metadata": {},
   "source": [
    "If $f$ and $g$ are nested tuple morphisms and $g$ divides $f$, then we may form the logical division $f \\oslash g$. We compute $f \\oslash g$ in `tract` with `tract.logical_divide(f, g)`. "
   ]
  },
  {
   "cell_type": "code",
   "execution_count": 17,
   "id": "2ef2ae69",
   "metadata": {},
   "outputs": [
    {
     "name": "stdout",
     "output_type": "stream",
     "text": [
      "f         = (4,8,4,8) --(1, 2, 3, 4)--> (4,8,4,8)\n",
      "g         = (4,4) --(1, 3)--> (4,8,4,8)\n",
      "quotient  = ((4,4),(8,8)) --(1, 3, 2, 4)--> (4,8,4,8)\n"
     ]
    }
   ],
   "source": [
    "f = tract.make_morphism(domain=(4, 8, 4, 8), codomain=(4, 8, 4, 8), map=(1, 2, 3, 4))\n",
    "g = tract.make_morphism(domain=(4, 4), codomain=(4, 8, 4, 8), map=(1, 3))\n",
    "quotient = tract.logical_divide(f, g)\n",
    "print(f\"{'f':<10}= {f}\")\n",
    "print(f\"{'g':<10}= {g}\")\n",
    "print(f\"{'quotient':<10}= {quotient}\")"
   ]
  },
  {
   "cell_type": "markdown",
   "id": "cdea639e",
   "metadata": {},
   "source": [
    "## Logical Product"
   ]
  },
  {
   "cell_type": "markdown",
   "id": "dd459189",
   "metadata": {},
   "source": [
    "When defined, this operation produces a layout $A \\otimes B$ from a pair of layouts $A$ and $B$. We compute $A \\otimes B$ in `cute` as `cute.logical_product(A, B)`. "
   ]
  },
  {
   "cell_type": "code",
   "execution_count": 18,
   "id": "e464d835",
   "metadata": {},
   "outputs": [
    {
     "name": "stdout",
     "output_type": "stream",
     "text": [
      "A        = (3,10,10):(200,1,20)\n",
      "B        = (2,2):(1,2)\n",
      "product  = ((3,10,10),(2,2)):((200,1,20),(10,600))\n"
     ]
    }
   ],
   "source": [
    "@cute.jit\n",
    "def logical_product_example():\n",
    "    A = cute.make_layout((3,10,10), stride = (200,1,20))\n",
    "    B = cute.make_layout((2,2), stride = (1,2))\n",
    "    product = cute.logical_product(A,B)\n",
    "    print(f\"{'A':<9}= {A}\")\n",
    "    print(f\"{'B':<9}= {B}\")\n",
    "    print(f\"{'product':<9}= {product}\")\n",
    "logical_product_example()"
   ]
  },
  {
   "cell_type": "markdown",
   "id": "e99fbaf5",
   "metadata": {},
   "source": [
    "If $f$ and $g$ are nested tuple morphisms that are product-admissible, we may form the logical product $f \\otimes g$. We compute $f \\otimes g$ in `tract` with `tract.logical_product(f, g)`. "
   ]
  },
  {
   "cell_type": "code",
   "execution_count": 19,
   "id": "e4197910",
   "metadata": {},
   "outputs": [
    {
     "name": "stdout",
     "output_type": "stream",
     "text": [
      "f         = (2,2) --(1, 2)--> (2,2,5,5)\n",
      "g         = (5,5) --(2, 1)--> (5,5)\n",
      "product   = ((2,2),(5,5)) --(1, 2, 4, 3)--> (2,2,5,5)\n"
     ]
    }
   ],
   "source": [
    "f = tract.make_morphism(domain=(2, 2), codomain=(2, 2, 5, 5), map=(1, 2))\n",
    "g = tract.make_morphism(domain=(5,5), codomain=(5,5), map=(2,1))\n",
    "product = tract.logical_product(f, g)\n",
    "print(f\"{'f':<10}= {f}\")\n",
    "print(f\"{'g':<10}= {g}\")\n",
    "print(f\"{'product':<10}= {product}\")"
   ]
  }
 ],
 "metadata": {
  "kernelspec": {
   "display_name": "layout",
   "language": "python",
   "name": "python3"
  },
  "language_info": {
   "codemirror_mode": {
    "name": "ipython",
    "version": 3
   },
   "file_extension": ".py",
   "mimetype": "text/x-python",
   "name": "python",
   "nbconvert_exporter": "python",
   "pygments_lexer": "ipython3",
   "version": "3.12.10"
  }
 },
 "nbformat": 4,
 "nbformat_minor": 5
}
