{
 "cells": [
  {
   "cell_type": "code",
   "execution_count": 14,
   "id": "9106d1fa",
   "metadata": {},
   "outputs": [],
   "source": [
    "import cutlass\n",
    "import cutlass.cute as cute\n",
    "\n",
    "from tract.categories import *\n",
    "from tract.test_utils import *\n",
    "from tract.layout_utils import *"
   ]
  },
  {
   "cell_type": "markdown",
   "id": "cd3bc54d",
   "metadata": {},
   "source": [
    "## Constructing tuples and nested tuples"
   ]
  },
  {
   "cell_type": "code",
   "execution_count": 15,
   "id": "b88def9d",
   "metadata": {},
   "outputs": [
    {
     "name": "stdout",
     "output_type": "stream",
     "text": [
      "S = (2, 2, 2)\n",
      "T = ((2, 2), (5, 5))\n",
      "U = ((2, 2), 4, (9, (3, 3)))\n"
     ]
    }
   ],
   "source": [
    "S = (2,2,2)\n",
    "T = ((2,2),(5,5))\n",
    "U = ((2,2),4,(9,(3,3)))\n",
    "print(\"S =\", S)\n",
    "print(\"T =\", T)\n",
    "print(\"U =\", U)"
   ]
  },
  {
   "cell_type": "code",
   "execution_count": 3,
   "id": "602d2528",
   "metadata": {},
   "outputs": [
    {
     "name": "stdout",
     "output_type": "stream",
     "text": [
      "S = (10,)\n",
      "T = 10\n"
     ]
    }
   ],
   "source": [
    "S = (10,)\n",
    "T = (10)\n",
    "print(\"S =\", S)\n",
    "print(\"T =\", T)"
   ]
  },
  {
   "cell_type": "markdown",
   "id": "a3955790",
   "metadata": {},
   "source": [
    "## Constructing layouts and morphisms"
   ]
  },
  {
   "cell_type": "code",
   "execution_count": 4,
   "id": "5e1dbdfc",
   "metadata": {},
   "outputs": [
    {
     "name": "stdout",
     "output_type": "stream",
     "text": [
      "A = ((4,4),4):((16,1),4)\n",
      "B = (8,64):(64,1)\n",
      "C = 100:2\n"
     ]
    }
   ],
   "source": [
    "@cute.jit\n",
    "def construct_example_layouts():\n",
    "    A = cute.make_layout(shape=((4,4),4), stride=((16,1),4))\n",
    "    B = cute.make_layout(shape=(8,64), stride=(64,1))\n",
    "    C = cute.make_layout(shape=100, stride=2)\n",
    "    print(\"A =\", A)\n",
    "    print(\"B =\", B)\n",
    "    print(\"C =\", C)\n",
    "construct_example_layouts()"
   ]
  },
  {
   "cell_type": "code",
   "execution_count": 5,
   "id": "784f401d",
   "metadata": {},
   "outputs": [
    {
     "name": "stdout",
     "output_type": "stream",
     "text": [
      "f   = (4,4) --(1, 3)--> (4,2,4)\n",
      "g   = (2,2,2,2) --(1, 0, 4, 2)--> (2,2,2,2)\n",
      "h   = (16,(4,4),(4,4)) --(1, 2, 0, 3, 0)--> (16,4,4)\n"
     ]
    }
   ],
   "source": [
    "f = Nest_morphism(domain=NestedTuple((4,4)), codomain=NestedTuple((4,2,4)), map=(1,3))\n",
    "g = Nest_morphism(domain=NestedTuple((2,2,2,2)), codomain=NestedTuple((2,2,2,2)), map=(1,0,4,2))\n",
    "h = Nest_morphism(domain=NestedTuple((16,(4,4),(4,4))), codomain=NestedTuple((16,4,4)), map=(1,2,0,3,0))\n",
    "print(f\"{'f':<4}= {f}\")\n",
    "print(f\"{'g':<4}= {g}\")\n",
    "print(f\"{'h':<4}= {h}\")"
   ]
  },
  {
   "cell_type": "markdown",
   "id": "306c3818",
   "metadata": {},
   "source": [
    "## Translating between tractable layouts and morphisms"
   ]
  },
  {
   "cell_type": "code",
   "execution_count": 6,
   "id": "024198dd",
   "metadata": {},
   "outputs": [
    {
     "name": "stdout",
     "output_type": "stream",
     "text": [
      "A = (2,2,2):(1,2,4)\n",
      "A is tractable: True\n",
      "B = (2,2,2):(1,7,4)\n",
      "B is tractable: False\n"
     ]
    }
   ],
   "source": [
    "@cute.jit\n",
    "def test_is_tractable():\n",
    "    A = cute.make_layout(shape=(2,2,2), stride=(1,2,4))\n",
    "    B = cute.make_layout(shape=(2,2,2), stride=(1,7,4))\n",
    "    A_is_tractable = is_tractable(A)\n",
    "    B_is_tractable = is_tractable(B)\n",
    "    print(f\"A =\", A)\n",
    "    print(f\"A is tractable: {A_is_tractable}\")\n",
    "    print(f\"B =\", B)\n",
    "    print(f\"B is tractable: {B_is_tractable}\")\n",
    "test_is_tractable()"
   ]
  },
  {
   "cell_type": "code",
   "execution_count": 7,
   "id": "4d6fcfa5",
   "metadata": {},
   "outputs": [
    {
     "name": "stdout",
     "output_type": "stream",
     "text": [
      "L    = (2,2,2):(1,2,4)\n",
      "f_L  = (2, 2, 2) --(2, 4, 6)--> (1, 2, 1, 2, 1, 2)\n"
     ]
    }
   ],
   "source": [
    "@cute.jit\n",
    "def construct_standard_representation():\n",
    "    L = cute.make_layout(shape=(2,2,2), stride=(1,2,4))\n",
    "    f_L = compute_Tuple_morphism(L)\n",
    "    print(f\"{'L':<5}= {L}\")\n",
    "    print(f\"{'f_L':<5}= {f_L}\")\n",
    "construct_standard_representation()"
   ]
  },
  {
   "cell_type": "code",
   "execution_count": 8,
   "id": "00d5a717",
   "metadata": {},
   "outputs": [
    {
     "name": "stdout",
     "output_type": "stream",
     "text": [
      "f    = ((5,5),8) --(1, 3, 2)--> (5,8,5)\n",
      "L_f  = ((5,5),8):((1,40),5)\n"
     ]
    }
   ],
   "source": [
    "@cute.jit\n",
    "def compute_layout_example():\n",
    "    f = Nest_morphism(domain=NestedTuple(((5,5),8)), codomain=NestedTuple((5,8,5)), map=(1,3,2))\n",
    "    L_f = compute_layout(f)\n",
    "    print(f\"{'f':<5}= {f}\")\n",
    "    print(f\"{'L_f':<5}= {L_f}\")\n",
    "compute_layout_example()"
   ]
  },
  {
   "cell_type": "markdown",
   "id": "e2c0426d",
   "metadata": {},
   "source": [
    "## Composition"
   ]
  },
  {
   "cell_type": "code",
   "execution_count": 9,
   "id": "b7e561df",
   "metadata": {},
   "outputs": [
    {
     "name": "stdout",
     "output_type": "stream",
     "text": [
      "A    = ((4,4),4):((16,1),4)\n",
      "B    = (8,64):(64,1)\n",
      "B∘A  = ((4,4),(2,2)):((2,64),(256,1))\n"
     ]
    }
   ],
   "source": [
    "@cute.jit\n",
    "def composition_example():\n",
    "    A = cute.make_layout(shape=((4,4),4), stride=((16,1),4))\n",
    "    B = cute.make_layout(shape=(8,64), stride=(64,1))\n",
    "    B_o_A = cute.composition(B,A)\n",
    "    print(f\"{'A':<5}= {A}\")\n",
    "    print(f\"{'B':<5}= {B}\")\n",
    "    print(f\"{'B∘A':<5}= {B_o_A}\")\n",
    "composition_example()"
   ]
  },
  {
   "cell_type": "code",
   "execution_count": 10,
   "id": "3bdb4f9a",
   "metadata": {},
   "outputs": [
    {
     "name": "stdout",
     "output_type": "stream",
     "text": [
      "f    = ((2,2),(2,2)) --(3, 2, 6, 5)--> ((2,2,2),(2,2,2))\n",
      "g    = ((2,2,2),(2,2,2)) --(1, 0, 2, 0, 3, 4)--> (2,2,2,2)\n",
      "g∘f  = ((2,2),(2,2)) --(2, 0, 4, 3)--> (2,2,2,2)\n"
     ]
    }
   ],
   "source": [
    "f = Nest_morphism(domain=NestedTuple(((2,2),(2,2))), codomain=NestedTuple(((2,2,2),(2,2,2))), map=(3,2,6,5))\n",
    "g = Nest_morphism(domain=NestedTuple(((2,2,2),(2,2,2))), codomain=NestedTuple((2,2,2,2)), map=(1,0,2,0,3,4))\n",
    "g_o_f = f.compose(g)\n",
    "print(f\"{'f':<5}= {f}\")\n",
    "print(f\"{'g':<5}= {g}\")\n",
    "print(f\"{'g∘f':<5}= {g_o_f}\")"
   ]
  },
  {
   "cell_type": "markdown",
   "id": "6b02cfca",
   "metadata": {},
   "source": [
    "## Coalesce"
   ]
  },
  {
   "cell_type": "code",
   "execution_count": 11,
   "id": "63432133",
   "metadata": {},
   "outputs": [
    {
     "name": "stdout",
     "output_type": "stream",
     "text": [
      "A      = ((2,2),(2,2),(5,5)):((1,2),(16,32),(64,640))\n",
      "coal_A = (4,20,5):(1,16,640)\n"
     ]
    }
   ],
   "source": [
    "@cute.jit \n",
    "def coalesce_example():\n",
    "     A = cute.make_layout(shape = ((2,2),(2,2),(5,5)), stride = ((1,2),(16,32),(64,640)))\n",
    "     coal_A = cute.coalesce(A)\n",
    "     print(f\"{'A':<7}= {A}\")\n",
    "     print(f\"{'coal_A':<7}= {coal_A}\")\n",
    "coalesce_example()"
   ]
  },
  {
   "cell_type": "code",
   "execution_count": 12,
   "id": "b6d38802",
   "metadata": {},
   "outputs": [
    {
     "name": "stdout",
     "output_type": "stream",
     "text": [
      "A              = ((2,2),(3,3),(5,5)):((1,2),(4,12),(36,180))\n",
      "S              = ((2, 2), 9, 25)\n",
      "coal_A_over_S  = ((2,2),9,25):((1,2),4,36)\n"
     ]
    }
   ],
   "source": [
    "@cute.jit\n",
    "def relative_coalesce_example():\n",
    "     A = cute.make_layout(shape = ((2,2),(3,3),(5,5)), stride = ((1,2),(4,12),(36,180)))\n",
    "     S = ((2,2),9,25)\n",
    "     coal_A_over_S = cute.coalesce(A,target_profile=S)\n",
    "     print(f\"{'A':<15}= {A}\")\n",
    "     print(f\"{'S':<15}= {S}\")\n",
    "     print(f\"{'coal_A_over_S':<15}= {coal_A_over_S}\")\n",
    "relative_coalesce_example()"
   ]
  },
  {
   "cell_type": "code",
   "execution_count": 17,
   "id": "8b6ceeee",
   "metadata": {},
   "outputs": [
    {
     "ename": "AttributeError",
     "evalue": "'Nest_morphism' object has no attribute 'coalesce'",
     "output_type": "error",
     "traceback": [
      "\u001b[31m---------------------------------------------------------------------------\u001b[39m",
      "\u001b[31mAttributeError\u001b[39m                            Traceback (most recent call last)",
      "\u001b[36mCell\u001b[39m\u001b[36m \u001b[39m\u001b[32mIn[17]\u001b[39m\u001b[32m, line 2\u001b[39m\n\u001b[32m      1\u001b[39m f = Nest_morphism(domain=NestedTuple((\u001b[32m2\u001b[39m,\u001b[32m2\u001b[39m,\u001b[32m10\u001b[39m,\u001b[32m10\u001b[39m)), codomain=NestedTuple((\u001b[32m2\u001b[39m,\u001b[32m2\u001b[39m,\u001b[32m2\u001b[39m,\u001b[32m10\u001b[39m,\u001b[32m10\u001b[39m)), \u001b[38;5;28mmap\u001b[39m=(\u001b[32m1\u001b[39m,\u001b[32m2\u001b[39m,\u001b[32m4\u001b[39m,\u001b[32m5\u001b[39m))\n\u001b[32m----> \u001b[39m\u001b[32m2\u001b[39m coal_f = \u001b[43mf\u001b[49m\u001b[43m.\u001b[49m\u001b[43mcoalesce\u001b[49m()\n\u001b[32m      3\u001b[39m \u001b[38;5;28mprint\u001b[39m(\u001b[33mf\u001b[39m\u001b[33m\"\u001b[39m\u001b[38;5;132;01m{\u001b[39;00m\u001b[33m'\u001b[39m\u001b[33mf\u001b[39m\u001b[33m'\u001b[39m\u001b[38;5;132;01m:\u001b[39;00m\u001b[33m<7\u001b[39m\u001b[38;5;132;01m}\u001b[39;00m\u001b[33m= \u001b[39m\u001b[38;5;132;01m{\u001b[39;00mf\u001b[38;5;132;01m}\u001b[39;00m\u001b[33m\"\u001b[39m)\n\u001b[32m      4\u001b[39m \u001b[38;5;28mprint\u001b[39m(\u001b[33mf\u001b[39m\u001b[33m\"\u001b[39m\u001b[38;5;132;01m{\u001b[39;00m\u001b[33m'\u001b[39m\u001b[33mcoal_f\u001b[39m\u001b[33m'\u001b[39m\u001b[38;5;132;01m:\u001b[39;00m\u001b[33m<7\u001b[39m\u001b[38;5;132;01m}\u001b[39;00m\u001b[33m= \u001b[39m\u001b[38;5;132;01m{\u001b[39;00mcoal_f\u001b[38;5;132;01m}\u001b[39;00m\u001b[33m\"\u001b[39m)\n",
      "\u001b[31mAttributeError\u001b[39m: 'Nest_morphism' object has no attribute 'coalesce'"
     ]
    }
   ],
   "source": [
    "f = Nest_morphism(domain=NestedTuple((2,2,10,10)), codomain=NestedTuple((2,2,2,10,10)), map=(1,2,4,5))\n",
    "coal_f = f.coalesce()\n",
    "print(f\"{'f':<7}= {f}\")\n",
    "print(f\"{'coal_f':<7}= {coal_f}\")"
   ]
  },
  {
   "cell_type": "markdown",
   "id": "f45215f2",
   "metadata": {},
   "source": [
    "## Complement"
   ]
  },
  {
   "cell_type": "code",
   "execution_count": null,
   "id": "e3f4c00b",
   "metadata": {},
   "outputs": [
    {
     "name": "stdout",
     "output_type": "stream",
     "text": [
      "A      = ((2,2),(2,2)):((8,2),(64,256))\n",
      "comp_A = (2,2,4,2,8):(1,4,16,128,512)\n"
     ]
    }
   ],
   "source": [
    "@cute.jit\n",
    "def complement_example():\n",
    "     A = cute.make_layout(shape = ((2,2),(2,2)), stride = ((8,2),(64,256)))\n",
    "     comp_A = cute.complement(A,4096)\n",
    "     print(f\"{'A':<7}= {A}\")\n",
    "     print(f\"{'comp_A':<7}= {comp_A}\")\n",
    "complement_example()"
   ]
  },
  {
   "cell_type": "code",
   "execution_count": 18,
   "id": "a09b6fae",
   "metadata": {},
   "outputs": [
    {
     "name": "stdout",
     "output_type": "stream",
     "text": [
      "f      = (2,2) --(1, 3)--> (2,5,2,5)\n",
      "comp_f = (5,5) --(2, 4)--> (2,5,2,5)\n"
     ]
    }
   ],
   "source": [
    "f = Nest_morphism(domain=NestedTuple((2,2)), codomain=NestedTuple((2,5,2,5)), map=(1,3))\n",
    "comp_f = f.complement()\n",
    "print(f\"{'f':<7}= {f}\")\n",
    "print(f\"{'comp_f':<7}= {comp_f}\")"
   ]
  },
  {
   "cell_type": "markdown",
   "id": "f947af57",
   "metadata": {},
   "source": [
    "## Logical Division"
   ]
  },
  {
   "cell_type": "code",
   "execution_count": 21,
   "id": "f00cde10",
   "metadata": {},
   "outputs": [
    {
     "name": "stdout",
     "output_type": "stream",
     "text": [
      "A        = (64,32):(32,1)\n",
      "B        = (4,4):(1,64)\n",
      "quotient = ((4,4),(16,8)):((32,1),(128,4))\n"
     ]
    }
   ],
   "source": [
    "@cute.jit\n",
    "def logical_divide_example():\n",
    "    A = cute.make_layout((64,32), stride = (32,1))\n",
    "    B = cute.make_layout((4,4), stride = (1,64))\n",
    "    quotient = cute.logical_divide(A,B)\n",
    "    print(f\"{'A':<9}= {A}\")\n",
    "    print(f\"{'B':<9}= {B}\")\n",
    "    print(f\"{'quotient':<9}= {quotient}\")\n",
    "logical_divide_example()"
   ]
  },
  {
   "cell_type": "markdown",
   "id": "cdea639e",
   "metadata": {},
   "source": [
    "## Logical Product"
   ]
  },
  {
   "cell_type": "code",
   "execution_count": 22,
   "id": "e464d835",
   "metadata": {},
   "outputs": [
    {
     "name": "stdout",
     "output_type": "stream",
     "text": [
      "A        = (3,10,10):(200,1,20)\n",
      "B        = (2,2):(1,2)\n",
      "product  = ((3,10,10),(2,2)):((200,1,20),(10,600))\n"
     ]
    }
   ],
   "source": [
    "@cute.jit\n",
    "def logical_product_example():\n",
    "    A = cute.make_layout((3,10,10), stride = (200,1,20))\n",
    "    B = cute.make_layout((2,2), stride = (1,2))\n",
    "    product = cute.logical_product(A,B)\n",
    "    print(f\"{'A':<9}= {A}\")\n",
    "    print(f\"{'B':<9}= {B}\")\n",
    "    print(f\"{'product':<9}= {product}\")\n",
    "logical_product_example()"
   ]
  }
 ],
 "metadata": {
  "kernelspec": {
   "display_name": "gp",
   "language": "python",
   "name": "python3"
  },
  "language_info": {
   "codemirror_mode": {
    "name": "ipython",
    "version": 3
   },
   "file_extension": ".py",
   "mimetype": "text/x-python",
   "name": "python",
   "nbconvert_exporter": "python",
   "pygments_lexer": "ipython3",
   "version": "3.12.11"
  }
 },
 "nbformat": 4,
 "nbformat_minor": 5
}
